{
 "cells": [
  {
   "cell_type": "markdown",
   "id": "1a1a922f-812a-49fe-8c7b-6a5a22faa49b",
   "metadata": {},
   "source": [
    "# Bell's inequality\n",
    "\n",
    "Let's take a step back, and look at the principles we have learned so far: How can entanglement even be possible? How can a measurement of one particle's spin affects another, even if they are far away from each other? Is it because measurement of the two spins are predetermined - are we missing some hidden information quantumm mechanics can't give us? Let's complete the QM1 course by investigating the completion of quantum mechanics!\n",
    "\n",
    "In this exercise we will perform a famous Bell experiment consisting of two entanglet spin $1/2$ particles. The results tells us whether quantum mechanics is a incomplete theory or not. \n",
    "\n",
    "**Learning goal:** to understand better the foundation of quantum mechanics and entanglement. "
   ]
  },
  {
   "cell_type": "markdown",
   "id": "2846bd9a-c89c-4199-b90c-405440cc0340",
   "metadata": {},
   "source": [
    "**Exercise 1/your prediction:** what are the possible outcomes when we measure the $z$-component of spin on a single spin 1/2 particle in $\\frac{1}{\\sqrt{2}}(|\\uparrow \\rangle - |\\downarrow \\rangle)$? We will denote the outcomes in units of $\\hbar/2$. \n",
    "\n",
    "\n",
    "**Some background:** In 1964, John Stewart Bell proposed the famous <b>Bell's inequality</b>, showing that any theory of hidden variables is incompatible with quantum mechanics. Before we get started, let's look at the setup.\n",
    "\n",
    "We consider spin-0 particle decaying into two spin-½ particles in the state.\n",
    "\n",
    "\\begin{equation}\n",
    "|\\psi_-\\rangle = \\frac{1}{\\sqrt{2}}\\big(|\\uparrow\\downarrow\\rangle-| \\downarrow\\uparrow\\rangle\\big) \\ .\n",
    "\\end{equation}\n",
    "\n",
    "\n",
    "Then we measure the spin of each particle along each axis (it could be the z-axis $(S_z)$ and x-axis $(S_x)$, perhaps a combination). Lets call the axis for the spin measurement of particle 1 for $\\mathbf{a}$ and the axis the spin measurement of particle 2 for $\\mathbf{b}$.\n",
    "\n",
    "We repeat the experiment multiple times and dub the **average product of the measurements** $P(\\mathbf{a},\\mathbf{b})$. Then we change the orientation of the measurement devices and repeats this experiment with axies $\\mathbf{a}$ and $\\mathbf{c}$, as well as $\\mathbf{b}$ and $\\mathbf{c}$. Bell proved exclusively from statistics that any hidden variable theory should produce the inequality\n",
    "\n",
    "$$|P(\\mathbf{a},\\mathbf{b})-P(\\mathbf{a},\\mathbf{c})| \\leq 1 + P (\\mathbf{b},\\mathbf{c})$$\n",
    "\n",
    "**Exercise 2:** what does it imply if the inequality is violated in experiments? What if it is not violated? \n",
    "\n",
    "This is <b>Bell's inequality</b>. In this excersize we will make such experiments, and verify using an *actual* quantum computer that this result is voilated by real life quantum mechanics!\n",
    "\n",
    "**Confused?** Chapter 12 gives a more elaborated explanation. \n",
    "\n",
    "We start by importing the necessary packages for these experiments."
   ]
  },
  {
   "cell_type": "code",
   "execution_count": 11,
   "id": "6150aefd-08a4-4b38-a0cb-6a27f44b01d6",
   "metadata": {},
   "outputs": [
    {
     "name": "stderr",
     "output_type": "stream",
     "text": [
      "ibmqfactory.load_account:WARNING:2022-01-14 13:58:56,480: Credentials are already in use. The existing account in the session will be replaced.\n"
     ]
    }
   ],
   "source": [
    "import numpy as np\n",
    "import matplotlib.pyplot as plt\n",
    "# Importing standard Qiskit libraries\n",
    "from qiskit.providers.ibmq import least_busy\n",
    "from qiskit import QuantumCircuit, transpile, Aer, IBMQ, assemble\n",
    "\n",
    "from qiskit.tools.jupyter import *\n",
    "from qiskit.visualization import *\n",
    "from ibm_quantum_widgets import *\n",
    "\n",
    "# Loading your IBM Q account(s)\n",
    "provider = IBMQ.load_account()"
   ]
  },
  {
   "cell_type": "markdown",
   "id": "9aa1758d-9970-475d-9bc3-a2f38a6bfd67",
   "metadata": {},
   "source": [
    "**Setup:** We now make a small simplification: We choose $\\mathbf{a}$, $\\mathbf{b}$ and $\\mathbf{c}$ to all be in the same plane - defining them from their angle with the $z$-axis. We let $\\mathbf{a}=\\mathbf{z}$ be fixed, since we are just interested in the relative angles between the different measurement devices. This means that $\\theta_A = 0$. \n",
    "\n",
    "Feel free to fiddle with these angles yourself, but be beware that **not all combinations of vectors violate Bell's inequality**. Below we define the angles of the vectors $\\mathbf{a}$, $\\mathbf{b}$ and $\\mathbf{c}$.\n",
    "\n",
    "**Exercise 3:** Verify that choosing $\\mathbf{b} = \\mathbf{c}$ will uphold Bell's inequality. "
   ]
  },
  {
   "cell_type": "code",
   "execution_count": 12,
   "id": "256d1047-bf62-4a04-8d66-c1fab4939252",
   "metadata": {},
   "outputs": [],
   "source": [
    "thetaA = 0.0\n",
    "thetaB = np.pi/2\n",
    "thetaC = np.pi/4"
   ]
  },
  {
   "cell_type": "markdown",
   "id": "1c01d888-40b1-4f7c-9911-6d610c57a170",
   "metadata": {},
   "source": [
    "We now set up the circuit for measuring $P(\\mathbf{a},\\mathbf{b})$."
   ]
  },
  {
   "cell_type": "code",
   "execution_count": 13,
   "id": "781f1869",
   "metadata": {},
   "outputs": [
    {
     "data": {
      "image/png": "[encoded data removed]",
      "text/plain": [
       "<Figure size 808.852x204.68 with 1 Axes>"
      ]
     },
     "execution_count": 13,
     "metadata": {},
     "output_type": "execute_result"
    }
   ],
   "source": [
    "circAB = QuantumCircuit(2,2)\n",
    "circAB.h(0)\n",
    "circAB.cx(0,1)\n",
    "circAB.z(1)\n",
    "circAB.x(1)\n",
    "circAB.barrier()\n",
    "theta1 = thetaA\n",
    "circAB.ry(theta1,0)\n",
    "circAB.ry(theta1,1)\n",
    "circAB.barrier() # just a vertical line which seperates where we set up the state and where we measure. \n",
    "circAB.measure(0,0)\n",
    "circAB.barrier() \n",
    "theta2 = thetaB-thetaA \n",
    "circAB.ry(theta2,0)\n",
    "circAB.ry(theta2,1)\n",
    "circAB.barrier() \n",
    "circAB.measure(1,1)\n",
    "circAB.draw()"
   ]
  },
  {
   "cell_type": "markdown",
   "id": "402ccce5-8186-475b-aa0d-359951098ef9",
   "metadata": {},
   "source": [
    "The code below sends this circuit to an actual IBM-Q Quantum Computer, and runs it 1024 times - there might be others using the computers, so it might take a while! The variable 'sim' can be togled True or False if you want to simulate this experiment or actually run it - It may take some time to get acces to the quantum computer, so feel free to use simulations if it takes too long.\n",
    "\n",
    "**Don't miss:**  We rotate both $q_0$ and $q_1$ and not just one of them?"
   ]
  },
  {
   "cell_type": "code",
   "execution_count": 14,
   "id": "7d6258af-63d2-402c-ac83-168e20fe577a",
   "metadata": {},
   "outputs": [],
   "source": [
    "sim = True #Set this to False if you want to run on an actual quantum computer"
   ]
  },
  {
   "cell_type": "code",
   "execution_count": 15,
   "id": "a2482310-7ce5-4c37-ad4c-ae9d8ba59101",
   "metadata": {},
   "outputs": [],
   "source": [
    "if sim:\n",
    "    simulator = Aer.get_backend('aer_simulator')\n",
    "    Nmeasure = 1024\n",
    "    resultAB = simulator.run(circAB, shots=Nmeasure).result()\n",
    "    device_countsAB = resultAB.get_counts()\n",
    "    #Simulation code\n",
    "else:\n",
    "# Load our saved IBMQ accounts and get the least busy backend device with less than or equal to 5 qubits\n",
    "    n=3\n",
    "    IBMQ.load_account()\n",
    "    provider = IBMQ.get_provider(hub='ibm-q')\n",
    "    backend = least_busy(provider.backends(filters=lambda x: x.configuration().n_qubits >= n and \n",
    "                                       not x.configuration().simulator and x.status().operational==True))\n",
    "    print(\"least busy backend: \", backend)\n",
    "\n",
    "# Execute and monitor the job\n",
    "    from qiskit.tools.monitor import job_monitor\n",
    "    shots = 1024\n",
    "    transpiled_circ = transpile(circAB, backend, optimization_level=3)\n",
    "    qobj = assemble(transpiled_circ, shots=shots)\n",
    "    jobAB = backend.run(qobj)\n",
    "    job_monitor(jobAB, interval=2)\n",
    "    device_countsCB = jobAB.result().get_counts()\n",
    "\n",
    "device_countsAB[r\"$|\\uparrow\\rangle_1, |\\uparrow\\rangle_0$\"] = device_countsAB.pop(\"11\")\n",
    "device_countsAB[r\"$|\\uparrow\\rangle_1, |\\downarrow\\rangle_0$\"] = device_countsAB.pop(\"10\")\n",
    "device_countsAB[r\"$|\\downarrow\\rangle_1, |\\uparrow\\rangle_0$\"] = device_countsAB.pop(\"01\")\n",
    "device_countsAB[r\"$|\\downarrow\\rangle_1, |\\downarrow\\rangle_0$\"] = device_countsAB.pop(\"00\")"
   ]
  },
  {
   "cell_type": "code",
   "execution_count": 16,
   "id": "34a88e16-fd5f-406e-96a1-7d68d53ae536",
   "metadata": {},
   "outputs": [
    {
     "data": {
      "image/png": "[encoded data removed]",
      "text/plain": [
       "<Figure size 504x360 with 1 Axes>"
      ]
     },
     "execution_count": 16,
     "metadata": {},
     "output_type": "execute_result"
    }
   ],
   "source": [
    "plot_histogram(device_countsAB)"
   ]
  },
  {
   "cell_type": "code",
   "execution_count": 17,
   "id": "838963f8-ab87-4e0d-b496-96a62161423e",
   "metadata": {},
   "outputs": [
    {
     "data": {
      "text/plain": [
       "{'$|\\\\uparrow\\\\rangle_1, |\\\\uparrow\\\\rangle_0$': 251,\n",
       " '$|\\\\uparrow\\\\rangle_1, |\\\\downarrow\\\\rangle_0$': 265,\n",
       " '$|\\\\downarrow\\\\rangle_1, |\\\\uparrow\\\\rangle_0$': 254,\n",
       " '$|\\\\downarrow\\\\rangle_1, |\\\\downarrow\\\\rangle_0$': 254}"
      ]
     },
     "execution_count": 17,
     "metadata": {},
     "output_type": "execute_result"
    }
   ],
   "source": [
    "device_countsAB"
   ]
  },
  {
   "cell_type": "markdown",
   "id": "bf60b504-7dca-4cf7-a5ac-ce830147c509",
   "metadata": {},
   "source": [
    "**How to read the results:** The measurement $|\\uparrow\\rangle_1, |\\downarrow\\rangle_0$ means that we measured $-1$ (which is the spin up state $|\\downarrow\\rangle$) for particle 0 along $\\mathbf{a}$, while we measrued $1$ (which is the spin up state $|\\uparrow\\rangle$) for particle 1 measured along $\\mathbf{b}$. Hence $P(\\mathbf{a},\\mathbf{b}) = -1$ for such a measurement. We find the average value of $P(\\mathbf{a},\\mathbf{b})$ by taking a weighted average over the product of the measurements. This means for this situation we have: \n",
    "\n",
    "\\begin{equation}\n",
    "S^{(0)}_\\mathbf{a}|\\downarrow\\rangle_0 = -\\frac{\\hbar}{2}|\\uparrow\\rangle_0 \\hspace{0.5cm}(positive \\: measurement).\\\\\n",
    "S^{(1)}_\\mathbf{b}|\\uparrow\\rangle_1 = \\frac{\\hbar}{2}|\\uparrow\\rangle_1 \\hspace{0.5cm}(negative \\: measurement).\\\\\n",
    "\\Rightarrow product = -1 \\cdot (+1) = -1\n",
    "\\end{equation}\n",
    "\n",
    "(See page 449 in Griffiths and Schroeter for clarification) \n",
    "\n",
    "**Exercise 3:** How would the eigenvalue equations be for the outcome $|\\uparrow\\rangle_1, |\\uparrow\\rangle_0$ look? What about the $product$ for this state?"
   ]
  },
  {
   "cell_type": "markdown",
   "id": "23c4a726-5a50-4cda-9cc3-abc2460dc792",
   "metadata": {},
   "source": [
    "**Exercise 4:** Determine the average value $P(\\mathbf{a},\\mathbf{b})$ of the product from the experiment above, and compare to the qauntum mechanical prediction of $P(\\mathbf{a},\\mathbf{b}) = -\\mathbf{a}\\cdot \\mathbf{b} = -\\cos(\\theta_A - \\theta_B)$\n",
    "\n",
    "We now repeat these same steps for $P(\\mathbf{b},\\mathbf{c})$ and $P(\\mathbf{a},\\mathbf{c})$."
   ]
  },
  {
   "cell_type": "code",
   "execution_count": 8,
   "id": "af981e49-db6e-44ec-b65c-f556246bbb3b",
   "metadata": {},
   "outputs": [
    {
     "data": {
      "image/png": "[encoded data removed]",
      "text/plain": [
       "<Figure size 808.852x204.68 with 1 Axes>"
      ]
     },
     "execution_count": 8,
     "metadata": {},
     "output_type": "execute_result"
    }
   ],
   "source": [
    "circCB = QuantumCircuit(2,2)\n",
    "circCB.h(0)\n",
    "circCB.cx(0,1)\n",
    "circCB.z(1)\n",
    "circCB.x(1)\n",
    "circCB.barrier()\n",
    "theta1 = thetaC\n",
    "circCB.ry(theta1,0)\n",
    "circCB.ry(theta1,1)\n",
    "circCB.barrier() # just a vertical line which seperates where we set up the state and where we measure. \n",
    "circCB.measure(0,0)\n",
    "circCB.barrier() \n",
    "theta2 = thetaB-thetaC\n",
    "circCB.ry(theta2,0)\n",
    "circCB.ry(theta2,1)\n",
    "circCB.barrier() \n",
    "circCB.measure(1,1)\n",
    "circCB.draw()"
   ]
  },
  {
   "cell_type": "code",
   "execution_count": 22,
   "id": "e06a4282-7be7-4ba1-b48a-f01ce79b0686",
   "metadata": {},
   "outputs": [],
   "source": [
    "if sim:\n",
    "    simulator = Aer.get_backend('aer_simulator')\n",
    "    Nmeasure = 1024\n",
    "    resultCB = simulator.run(circCB, shots=Nmeasure).result()\n",
    "    device_countsCB = resultCB.get_counts()\n",
    "    #Simulation code\n",
    "else:\n",
    "# Load our saved IBMQ accounts and get the least busy backend device with less than or equal to 5 qubits\n",
    "    n=3\n",
    "    IBMQ.load_account()\n",
    "    provider = IBMQ.get_provider(hub='ibm-q')\n",
    "    backend = least_busy(provider.backends(filters=lambda x: x.configuration().n_qubits >= n and \n",
    "                                       not x.configuration().simulator and x.status().operational==True))\n",
    "    print(\"least busy backend: \", backend)\n",
    "\n",
    "# Execute and monitor the job\n",
    "    from qiskit.tools.monitor import job_monitor\n",
    "    shots = 1024\n",
    "    transpiled_circ = transpile(circCB, backend, optimization_level=3)\n",
    "    qobj = assemble(transpiled_circ, shots=shots)\n",
    "    jobCB = backend.run(qobj)\n",
    "    job_monitor(jobCB, interval=2)\n",
    "    device_countsCB = jobCB.result().get_counts()\n",
    "    \n",
    "device_countsCB[r\"$|\\uparrow\\rangle_1, |\\uparrow\\rangle_0$\"] = device_countsCB.pop(\"11\")\n",
    "device_countsCB[r\"$|\\uparrow\\rangle_1, |\\downarrow\\rangle_0$\"] = device_countsCB.pop(\"10\")\n",
    "device_countsCB[r\"$|\\downarrow\\rangle_1, |\\uparrow\\rangle_0$\"] = device_countsCB.pop(\"01\")\n",
    "device_countsCB[r\"$|\\downarrow\\rangle_1, |\\downarrow\\rangle_0$\"] = device_countsCB.pop(\"00\")"
   ]
  },
  {
   "cell_type": "code",
   "execution_count": 23,
   "id": "f1090ca6-0a5b-4f5b-8202-c3a53d1cca21",
   "metadata": {},
   "outputs": [
    {
     "data": {
      "image/png": "[encoded data removed]",
      "text/plain": [
       "<Figure size 504x360 with 1 Axes>"
      ]
     },
     "execution_count": 23,
     "metadata": {},
     "output_type": "execute_result"
    }
   ],
   "source": [
    "plot_histogram(device_countsCB)"
   ]
  },
  {
   "cell_type": "code",
   "execution_count": 24,
   "id": "bed42b02-dd74-4089-a013-7717114ed372",
   "metadata": {},
   "outputs": [
    {
     "data": {
      "text/plain": [
       "{'$|\\\\uparrow\\\\rangle_1, |\\\\uparrow\\\\rangle_0$': 85,\n",
       " '$|\\\\uparrow\\\\rangle_1, |\\\\downarrow\\\\rangle_0$': 409,\n",
       " '$|\\\\downarrow\\\\rangle_1, |\\\\uparrow\\\\rangle_0$': 448,\n",
       " '$|\\\\downarrow\\\\rangle_1, |\\\\downarrow\\\\rangle_0$': 82}"
      ]
     },
     "execution_count": 24,
     "metadata": {},
     "output_type": "execute_result"
    }
   ],
   "source": [
    "device_countsCB"
   ]
  },
  {
   "cell_type": "markdown",
   "id": "5b1ef9ce-3017-42cf-ae43-9e41b7ca4dea",
   "metadata": {},
   "source": [
    "**Exercise 3:** Compute $P(\\mathbf{b},\\mathbf{c})$ from these results."
   ]
  },
  {
   "cell_type": "code",
   "execution_count": 25,
   "id": "e2bdb0c5-b407-4b4d-b162-dd0bcde610af",
   "metadata": {},
   "outputs": [
    {
     "data": {
      "image/png": "[encoded data removed]",
      "text/plain": [
       "<Figure size 808.852x204.68 with 1 Axes>"
      ]
     },
     "execution_count": 25,
     "metadata": {},
     "output_type": "execute_result"
    }
   ],
   "source": [
    "circAC = QuantumCircuit(2,2)\n",
    "circAC.h(0)\n",
    "circAC.cx(0,1)\n",
    "circAC.z(1)\n",
    "circAC.x(1)\n",
    "circAC.barrier()\n",
    "theta1 = thetaA\n",
    "circAC.ry(theta1,0)\n",
    "circAC.ry(theta1,1)\n",
    "circAC.barrier() # just a vertical line which seperates where we set up the state and where we measure. \n",
    "circAC.measure(0,0)\n",
    "circAC.barrier() \n",
    "theta2 = thetaC-thetaA\n",
    "circAC.ry(theta2,0)\n",
    "circAC.ry(theta2,1)\n",
    "circAC.barrier() \n",
    "circAC.measure(1,1)\n",
    "circAC.draw()"
   ]
  },
  {
   "cell_type": "code",
   "execution_count": 26,
   "id": "a46ce6a5-9f6c-4276-99be-dfd776fdc8d2",
   "metadata": {},
   "outputs": [],
   "source": [
    "if sim:\n",
    "    simulator = Aer.get_backend('aer_simulator')\n",
    "    Nmeasure = 1024\n",
    "    resultAC = simulator.run(circAC, shots=Nmeasure).result()\n",
    "    device_countsAC = resultAC.get_counts()\n",
    "    #Simulation code\n",
    "else:\n",
    "# Load our saved IBMQ accounts and get the least busy backend device with less than or equal to 5 qubits\n",
    "    n=3\n",
    "    IBMQ.load_account()\n",
    "    provider = IBMQ.get_provider(hub='ibm-q')\n",
    "    backend = least_busy(provider.backends(filters=lambda x: x.configuration().n_qubits >= n and \n",
    "                                       not x.configuration().simulator and x.status().operational==True))\n",
    "    print(\"least busy backend: \", backend)\n",
    "\n",
    "# Execute and monitor the job\n",
    "    from qiskit.tools.monitor import job_monitor\n",
    "    shots = 1024\n",
    "    transpiled_circ = transpile(circAC, backend, optimization_level=3)\n",
    "    qobj = assemble(transpiled_circ, shots=shots)\n",
    "    jobAC = backend.run(qobj)\n",
    "    job_monitor(jobAC, interval=2)\n",
    "    device_countsAC = jobAC.result().get_counts()\n",
    "    \n",
    "device_countsAC[r\"$|\\uparrow\\rangle_1, |\\uparrow\\rangle_0$\"] = device_countsAC.pop(\"11\")\n",
    "device_countsAC[r\"$|\\uparrow\\rangle_1, |\\downarrow\\rangle_0$\"] = device_countsAC.pop(\"10\")\n",
    "device_countsAC[r\"$|\\downarrow\\rangle_1, |\\uparrow\\rangle_0$\"] = device_countsAC.pop(\"01\")\n",
    "device_countsAC[r\"$|\\downarrow\\rangle_1, |\\downarrow\\rangle_0$\"] = device_countsAC.pop(\"00\")"
   ]
  },
  {
   "cell_type": "code",
   "execution_count": 27,
   "id": "2926d674-e43e-4b63-8d09-81585e1149c4",
   "metadata": {},
   "outputs": [
    {
     "data": {
      "image/png": "[encoded data removed]",
      "text/plain": [
       "<Figure size 504x360 with 1 Axes>"
      ]
     },
     "execution_count": 27,
     "metadata": {},
     "output_type": "execute_result"
    }
   ],
   "source": [
    "plot_histogram(device_countsAC)"
   ]
  },
  {
   "cell_type": "code",
   "execution_count": 28,
   "id": "f2ffa399-9927-4658-b47d-a3dd733faf4f",
   "metadata": {
    "tags": []
   },
   "outputs": [
    {
     "data": {
      "text/plain": [
       "{'$|\\\\uparrow\\\\rangle_1, |\\\\uparrow\\\\rangle_0$': 76,\n",
       " '$|\\\\uparrow\\\\rangle_1, |\\\\downarrow\\\\rangle_0$': 439,\n",
       " '$|\\\\downarrow\\\\rangle_1, |\\\\uparrow\\\\rangle_0$': 427,\n",
       " '$|\\\\downarrow\\\\rangle_1, |\\\\downarrow\\\\rangle_0$': 82}"
      ]
     },
     "execution_count": 28,
     "metadata": {},
     "output_type": "execute_result"
    }
   ],
   "source": [
    "device_countsAC"
   ]
  },
  {
   "cell_type": "markdown",
   "id": "072c30b7-e222-422a-aa91-d43ec8b91eec",
   "metadata": {},
   "source": [
    "**Exercise 4:** Compute $P(\\mathbf{a},\\mathbf{c})$ from these results.\n",
    "\n",
    "**Exercise 5:** Plug your results into Bell's inequality and check for violation - you can compare your results to the ones determined by the code below. Remember that Bell's inequality is given by\n",
    "\n",
    "$$|P(\\mathbf{a},\\mathbf{b})-P(\\mathbf{a},\\mathbf{c})| \\leq 1 + P (\\mathbf{b},\\mathbf{c})$$"
   ]
  },
  {
   "cell_type": "code",
   "execution_count": 31,
   "id": "6545020b-0e84-497d-83ae-2db0e74c61e2",
   "metadata": {},
   "outputs": [],
   "source": [
    "def product_av(experiment):\n",
    "    prod = experiment['$|\\\\uparrow\\\\rangle_1, |\\\\uparrow\\\\rangle_0$'] + experiment['$|\\\\downarrow\\\\rangle_1, |\\\\downarrow\\\\rangle_0$'] - experiment['$|\\\\downarrow\\\\rangle_1, |\\\\uparrow\\\\rangle_0$'] - experiment['$|\\\\uparrow\\\\rangle_1, |\\\\downarrow\\\\rangle_0$']\n",
    "    if sim:\n",
    "        return prod/Nmeasure\n",
    "    else:\n",
    "        return prod/shots"
   ]
  },
  {
   "cell_type": "code",
   "execution_count": 32,
   "id": "60e53c24-b5ba-4767-bad2-a8448989063e",
   "metadata": {},
   "outputs": [
    {
     "name": "stdout",
     "output_type": "stream",
     "text": [
      "Violation of Bell inequality:  0.03515625 < 0.326171875\n"
     ]
    }
   ],
   "source": [
    "print(\"Violation of Bell inequality: \",np.abs(product_av(device_countsAB)-product_av(device_countsAC)),\"<\",1+product_av(device_countsCB))"
   ]
  },
  {
   "cell_type": "markdown",
   "id": "17531ec4-581b-458d-bf08-de51335be60c",
   "metadata": {},
   "source": [
    "Incredible! We have verified through a real quantum experiment that Bell's inequality is violated - as a consequence, we have shown that qunatum mechanics is incompatible with any theory of hidden variables. This means that there does not exist any variable, that determines the outcome of a measement prior to measurement: we simply cannot know the state of the partcle before we go and measure: but measureing is an action that changes the state of the particles by a collapses our wave equation. So quantum mechanics and all its mysterious principles are here to stay!"
   ]
  },
  {
   "cell_type": "markdown",
   "id": "3a596b7c-9e37-4da6-b47a-246671454ddb",
   "metadata": {},
   "source": [
    "**Is Bell's inequality violated for all angles?** If you are curious, below is a plot showing which angles between $\\mathbf{a}$ and $\\mathbf{c}$ violate Bell's inequality, assuming that $\\mathbf{a}$ and $\\mathbf{b}$ are orthogonal and all vectors are coplanar."
   ]
  },
  {
   "cell_type": "code",
   "execution_count": 10,
   "id": "6666d79b-7bfc-4438-be0c-5b496716f76e",
   "metadata": {},
   "outputs": [
    {
     "data": {
      "image/png": "[encoded data removed]",
      "text/plain": [
       "<Figure size 432x288 with 1 Axes>"
      ]
     },
     "metadata": {},
     "output_type": "display_data"
    }
   ],
   "source": [
    "N = 1000\n",
    "\n",
    "thetaB = np.pi/2\n",
    "thetaC_arr = np.linspace(-1,1,N)*np.pi\n",
    "\n",
    "shade_top = 2*np.ones(N)\n",
    "shade_bottom = -0.5*shade_top\n",
    "\n",
    "lhs = np.abs(-np.cos(-1*thetaB) + np.cos(-1*thetaC_arr))\n",
    "rhs = 1 - np.cos(thetaB - thetaC_arr)\n",
    "\n",
    "violation = lhs > rhs\n",
    "\n",
    "plt.figure(facecolor = 'white')\n",
    "plt.plot(thetaC_arr, lhs, label = r\"|P(a,b) - P(b,c)|\")\n",
    "plt.plot(thetaC_arr, rhs, label = \"1 + P(b,c)\")\n",
    "plt.xlabel(\"thetaC [rad]\")\n",
    "plt.legend(loc = 'lower left')\n",
    "plt.fill_between(thetaC_arr[violation],shade_top[violation], y2=shade_bottom[violation], alpha=0.3, color = 'green')\n",
    "plt.text(0.05,-0.5,\"Violation region\", size = 9)\n",
    "plt.title(\"Bell's inequality\")\n",
    "plt.savefig(\"Bell.png\")"
   ]
  },
  {
   "cell_type": "markdown",
   "id": "a212a4ba-1892-41df-96cb-6d1a9de2f9e8",
   "metadata": {},
   "source": [
    "Feel free to change the angles at the top of the exercises to see of this is true! \n"
   ]
  }
 ],
 "metadata": {
  "kernelspec": {
   "display_name": "Qiskit v0.34.1 (ipykernel)",
   "language": "python",
   "name": "python3"
  },
  "language_info": {
   "codemirror_mode": {
    "name": "ipython",
    "version": 3
   },
   "file_extension": ".py",
   "mimetype": "text/x-python",
   "name": "python",
   "nbconvert_exporter": "python",
   "pygments_lexer": "ipython3",
   "version": "3.8.10"
  },
  "widgets": {
   "application/vnd.jupyter.widget-state+json": {
    "state": {
     "0b8d3641dca048149a84010a4478c2fc": {
      "model_module": "@jupyter-widgets/controls",
      "model_module_version": "1.5.0",
      "model_name": "HTMLModel",
      "state": {
       "layout": "IPY_MODEL_89fd7bc43f124c10841451655895a8bc",
       "style": "IPY_MODEL_39acd887be1f44ca8c6a5275b8682ac9",
       "value": "<p style='font-family: IBM Plex Sans, Arial, Helvetica, sans-serif; font-size: 20px; font-weight: medium;'>Circuit Properties</p>"
      }
     },
     "26ce583147ca4235ac127a8a611881f2": {
      "model_module": "@jupyter-widgets/base",
      "model_module_version": "1.2.0",
      "model_name": "LayoutModel",
      "state": {}
     },
     "39acd887be1f44ca8c6a5275b8682ac9": {
      "model_module": "@jupyter-widgets/controls",
      "model_module_version": "1.5.0",
      "model_name": "DescriptionStyleModel",
      "state": {
       "description_width": ""
      }
     },
     "468dfbf9491c422686656325fe4c1de1": {
      "model_module": "@jupyter-widgets/controls",
      "model_module_version": "1.5.0",
      "model_name": "ButtonModel",
      "state": {
       "button_style": "primary",
       "description": "Clear",
       "layout": "IPY_MODEL_c5d5cc4b4b924e3296db4bfcca8b1ee9",
       "style": "IPY_MODEL_c0c0fb6c32884d5e893f87d81c32d862"
      }
     },
     "493703007713401aaafd4f8de83eccf9": {
      "model_module": "@jupyter-widgets/base",
      "model_module_version": "1.2.0",
      "model_name": "LayoutModel",
      "state": {
       "width": "145px"
      }
     },
     "62801a1b626346c0aeed89f9dbaea903": {
      "model_module": "@jupyter-widgets/controls",
      "model_module_version": "1.5.0",
      "model_name": "HTMLModel",
      "state": {
       "layout": "IPY_MODEL_b374ecc5df594bcf904390a3fdfa5655",
       "style": "IPY_MODEL_a105d3deec2a4c7da0e0a5df09333a7f",
       "value": "<h5>Status</h5>"
      }
     },
     "6343abe8b7e947468bc929510f689436": {
      "model_module": "@jupyter-widgets/controls",
      "model_module_version": "1.5.0",
      "model_name": "DescriptionStyleModel",
      "state": {
       "description_width": ""
      }
     },
     "65bb53692e9b45e586e514e0a4c05c99": {
      "model_module": "@jupyter-widgets/controls",
      "model_module_version": "1.5.0",
      "model_name": "HBoxModel",
      "state": {
       "children": [
        "IPY_MODEL_fe8bac1174194f4abc2afe147a446062",
        "IPY_MODEL_a4568655ef124c66acd51b25d25316e9",
        "IPY_MODEL_62801a1b626346c0aeed89f9dbaea903",
        "IPY_MODEL_eb538fe5fb36427da986772208993cae",
        "IPY_MODEL_cfcffd571dd247f48e39abed6e0364ed"
       ],
       "layout": "IPY_MODEL_cdb1b7b6c10b41938b8e68d7857abbc2"
      }
     },
     "6ced23aaaba84e609c12ea9b16d916c2": {
      "model_module": "@jupyter-widgets/base",
      "model_module_version": "1.2.0",
      "model_name": "LayoutModel",
      "state": {
       "width": "70px"
      }
     },
     "86516ea03c194d118f534f426324daa2": {
      "model_module": "@jupyter-widgets/controls",
      "model_module_version": "1.5.0",
      "model_name": "GridBoxModel",
      "state": {
       "children": [
        "IPY_MODEL_468dfbf9491c422686656325fe4c1de1"
       ],
       "layout": "IPY_MODEL_b3be6ecf0ba648c7886e7060e0a563b4"
      }
     },
     "89fd7bc43f124c10841451655895a8bc": {
      "model_module": "@jupyter-widgets/base",
      "model_module_version": "1.2.0",
      "model_name": "LayoutModel",
      "state": {
       "margin": "0px 0px 10px 0px"
      }
     },
     "a105d3deec2a4c7da0e0a5df09333a7f": {
      "model_module": "@jupyter-widgets/controls",
      "model_module_version": "1.5.0",
      "model_name": "DescriptionStyleModel",
      "state": {
       "description_width": ""
      }
     },
     "a1bcc5ef2f154679a8a8305015c8ecb4": {
      "model_module": "@jupyter-widgets/controls",
      "model_module_version": "1.5.0",
      "model_name": "DescriptionStyleModel",
      "state": {
       "description_width": ""
      }
     },
     "a4568655ef124c66acd51b25d25316e9": {
      "model_module": "@jupyter-widgets/controls",
      "model_module_version": "1.5.0",
      "model_name": "HTMLModel",
      "state": {
       "layout": "IPY_MODEL_493703007713401aaafd4f8de83eccf9",
       "style": "IPY_MODEL_d2c95b0495824c07b3e43e383e4af67d",
       "value": "<h5>Backend</h5>"
      }
     },
     "b374ecc5df594bcf904390a3fdfa5655": {
      "model_module": "@jupyter-widgets/base",
      "model_module_version": "1.2.0",
      "model_name": "LayoutModel",
      "state": {
       "width": "95px"
      }
     },
     "b3be6ecf0ba648c7886e7060e0a563b4": {
      "model_module": "@jupyter-widgets/base",
      "model_module_version": "1.2.0",
      "model_name": "LayoutModel",
      "state": {
       "grid_template_areas": "\n                                       \". . . . right \"\n                                        ",
       "grid_template_columns": "20% 20% 20% 20% 20%",
       "width": "100%"
      }
     },
     "bed57c9a729a40398a1377cb82148e19": {
      "model_module": "@jupyter-widgets/base",
      "model_module_version": "1.2.0",
      "model_name": "LayoutModel",
      "state": {
       "width": "190px"
      }
     },
     "c0c0fb6c32884d5e893f87d81c32d862": {
      "model_module": "@jupyter-widgets/controls",
      "model_module_version": "1.5.0",
      "model_name": "ButtonStyleModel",
      "state": {}
     },
     "c5d5cc4b4b924e3296db4bfcca8b1ee9": {
      "model_module": "@jupyter-widgets/base",
      "model_module_version": "1.2.0",
      "model_name": "LayoutModel",
      "state": {
       "grid_area": "right",
       "padding": "0px 0px 0px 0px",
       "width": "70px"
      }
     },
     "cdb1b7b6c10b41938b8e68d7857abbc2": {
      "model_module": "@jupyter-widgets/base",
      "model_module_version": "1.2.0",
      "model_name": "LayoutModel",
      "state": {
       "margin": "0px 0px 0px 37px",
       "width": "600px"
      }
     },
     "cfcffd571dd247f48e39abed6e0364ed": {
      "model_module": "@jupyter-widgets/controls",
      "model_module_version": "1.5.0",
      "model_name": "HTMLModel",
      "state": {
       "layout": "IPY_MODEL_26ce583147ca4235ac127a8a611881f2",
       "style": "IPY_MODEL_a1bcc5ef2f154679a8a8305015c8ecb4",
       "value": "<h5>Message</h5>"
      }
     },
     "d2c95b0495824c07b3e43e383e4af67d": {
      "model_module": "@jupyter-widgets/controls",
      "model_module_version": "1.5.0",
      "model_name": "DescriptionStyleModel",
      "state": {
       "description_width": ""
      }
     },
     "de49622f5bbf49ff8c2116d8885c1658": {
      "model_module": "@jupyter-widgets/controls",
      "model_module_version": "1.5.0",
      "model_name": "DescriptionStyleModel",
      "state": {
       "description_width": ""
      }
     },
     "eb538fe5fb36427da986772208993cae": {
      "model_module": "@jupyter-widgets/controls",
      "model_module_version": "1.5.0",
      "model_name": "HTMLModel",
      "state": {
       "layout": "IPY_MODEL_6ced23aaaba84e609c12ea9b16d916c2",
       "style": "IPY_MODEL_6343abe8b7e947468bc929510f689436",
       "value": "<h5>Queue</h5>"
      }
     },
     "fe8bac1174194f4abc2afe147a446062": {
      "model_module": "@jupyter-widgets/controls",
      "model_module_version": "1.5.0",
      "model_name": "HTMLModel",
      "state": {
       "layout": "IPY_MODEL_bed57c9a729a40398a1377cb82148e19",
       "style": "IPY_MODEL_de49622f5bbf49ff8c2116d8885c1658",
       "value": "<h5>Job ID</h5>"
      }
     }
    },
    "version_major": 2,
    "version_minor": 0
   }
  }
 },
 "nbformat": 4,
 "nbformat_minor": 5
}
