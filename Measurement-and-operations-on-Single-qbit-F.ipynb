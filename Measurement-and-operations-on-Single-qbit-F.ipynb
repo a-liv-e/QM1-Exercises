{
 "cells": [
  {
   "cell_type": "markdown",
   "id": "9fbe564b",
   "metadata": {},
   "source": [
    "# Measurements and operations on a single qubit\n",
    "\n",
    "In quantum mechanics the order in which operators act and measurements are performed are very likely to matter. This exercise allows you to test this directly on a two level system!\n",
    "\n",
    "**Learning goal:** To gain expirence with non-commutativity of operations and measurements."
   ]
  },
  {
   "cell_type": "markdown",
   "id": "60bd97ec-a521-499a-9f3d-d9593499701f",
   "metadata": {},
   "source": [
    "We will work with a two level system (a single q-bit) spanned by the states $|0\\rangle$ and $|1\\rangle$. The operation we will consider is a rotation by $\\theta$ around the $y$-axis. The rotation operator in the basis $|0\\rangle$ and $|1\\rangle$ is given by \n",
    "\n",
    "\\begin{equation}\n",
    "R_y(\\theta)=\\left(\\begin{array}{cc} \\cos(\\theta/2) & -\\sin(\\theta/2) \\\\ \\sin(\\theta/2) & \\cos(\\theta/2) \\end{array}\n",
    "\\right)\n",
    "\\end{equation}\n",
    "\n",
    "\n",
    "**Exercise 1:** Show using the matrix representation that $R_y(-\\theta)R_y(\\theta)=1$, where 1 is the 2x2 identity matrix. Make sure you understand why this is just as it should be.\n",
    "\n",
    "Hence if we start the system in the state $|0\\rangle$ and apply $R_y(-\\theta)R_y(\\theta)$ the system should not have changed. Let's check for $\\theta=\\pi/2$!\n"
   ]
  },
  {
   "cell_type": "code",
   "execution_count": 3,
   "id": "dcd31222-3bcd-4a89-b48c-64a726cad90f",
   "metadata": {},
   "outputs": [
    {
     "name": "stderr",
     "output_type": "stream",
     "text": [
      "ibmqfactory.load_account:WARNING:2021-09-03 14:03:11,022: Credentials are already in use. The existing account in the session will be replaced.\n"
     ]
    }
   ],
   "source": [
    "# Importing standard Qiskit libraries\n",
    "from qiskit import QuantumCircuit, transpile, Aer, IBMQ\n",
    "from qiskit.tools.jupyter import *\n",
    "from qiskit.visualization import *\n",
    "from ibm_quantum_widgets import *\n",
    "\n",
    "# Loading your IBM Q account(s)\n",
    "provider = IBMQ.load_account()"
   ]
  },
  {
   "cell_type": "code",
   "execution_count": 4,
   "id": "2a1e32b0-a7a8-477d-a368-cc73e9403621",
   "metadata": {},
   "outputs": [
    {
     "data": {
      "image/png": "[encoded data removed]",
      "text/plain": [
       "<Figure size 253.926x144.48 with 1 Axes>"
      ]
     },
     "execution_count": 4,
     "metadata": {},
     "output_type": "execute_result"
    }
   ],
   "source": [
    "from math import pi\n",
    "circ = QuantumCircuit(1,1)\n",
    "theta = pi/2\n",
    "circ.ry(theta,0)\n",
    "circ.ry(-theta,0)\n",
    "circ.measure(0,0)\n",
    "circ.draw()"
   ]
  },
  {
   "cell_type": "code",
   "execution_count": 5,
   "id": "0688de95-25a9-437c-a66d-a0ae0b939347",
   "metadata": {
    "scrolled": true
   },
   "outputs": [
    {
     "name": "stdout",
     "output_type": "stream",
     "text": [
      "['0', '0', '0', '0', '0', '0', '0', '0', '0', '0']\n"
     ]
    }
   ],
   "source": [
    "simulator = Aer.get_backend('aer_simulator')\n",
    "\n",
    "# result = simulator.run(circ).result()\n",
    "# counts = result.get_counts(circ)\n",
    "# plot_histogram(counts, title='Bell-State counts')\n",
    "\n",
    "result = simulator.run(circ, shots=10, memory=True).result()\n",
    "memory = result.get_memory(circ)\n",
    "print(memory)"
   ]
  },
  {
   "cell_type": "markdown",
   "id": "a7d9b7bb-faf8-4085-9abf-2ea3827a2da6",
   "metadata": {},
   "source": [
    "The result should be a list of 0'es (10 of them since we have repeated the experiment 10 times). This far nothing too surprising has happened, we have acted with the identity on the state $|0\\rangle$ and the state has remained unchanged just as it should. \n",
    "\n",
    "Now let's introduce a measurement right after we have applied $R_y$ the first time. "
   ]
  },
  {
   "cell_type": "code",
   "execution_count": 6,
   "id": "ce0601ec-9c4c-4391-bf4d-0dcffd2a2ac0",
   "metadata": {},
   "outputs": [
    {
     "data": {
      "image/png": "[encoded data removed]",
      "text/plain": [
       "<Figure size 253.926x144.48 with 1 Axes>"
      ]
     },
     "execution_count": 6,
     "metadata": {},
     "output_type": "execute_result"
    }
   ],
   "source": [
    "circ = QuantumCircuit(1,1)\n",
    "circ.ry(theta,0)\n",
    "circ.measure(0,0)\n",
    "circ.ry(-theta,0)\n",
    "circ.draw()"
   ]
  },
  {
   "cell_type": "markdown",
   "id": "c1429f3e-2c72-4502-9826-d8e192043dc7",
   "metadata": {},
   "source": [
    "**Exercise 2:** What are the possible outcomes of this measurement?\n",
    "\n",
    "**Exercise 3:** With which probability do you expect these outcomes to appear?\n",
    "\n",
    "Now check the predictions you just made in the exercises by running the simulation below!"
   ]
  },
  {
   "cell_type": "code",
   "execution_count": 7,
   "id": "20f70c8e-bbd0-4a75-bc85-42bd01db335f",
   "metadata": {
    "scrolled": true
   },
   "outputs": [
    {
     "name": "stdout",
     "output_type": "stream",
     "text": [
      "['1', '1', '0', '1', '1', '0', '1', '0', '0', '0']\n"
     ]
    }
   ],
   "source": [
    "simulator = Aer.get_backend('aer_simulator')\n",
    "\n",
    "# result = simulator.run(circ).result()\n",
    "# counts = result.get_counts(circ)\n",
    "# plot_histogram(counts, title='Bell-State counts')\n",
    "\n",
    "result = simulator.run(circ, shots=10, memory=True).result()\n",
    "memory = result.get_memory(circ)\n",
    "print(memory)"
   ]
  },
  {
   "cell_type": "markdown",
   "id": "662f89d3-3262-44dd-ad6a-02b50715c18b",
   "metadata": {},
   "source": [
    "**Check:** Hopefully, the outcome was consistent with your prediction? If so just move ahead. If not go back and reconsider what could have gone wrong."
   ]
  },
  {
   "cell_type": "markdown",
   "id": "c87cc24c-b4b9-4e89-a705-86013dd62c13",
   "metadata": {},
   "source": [
    "Now to understand what the system is after the 2nd rotation let's add a measurement at the end"
   ]
  },
  {
   "cell_type": "code",
   "execution_count": 8,
   "id": "a354c744-aa8e-434f-bc7b-1eff6dee3c34",
   "metadata": {},
   "outputs": [
    {
     "data": {
      "image/png": "[encoded data removed]",
      "text/plain": [
       "<Figure size 314.126x144.48 with 1 Axes>"
      ]
     },
     "execution_count": 8,
     "metadata": {},
     "output_type": "execute_result"
    }
   ],
   "source": [
    "circ = QuantumCircuit(1,2)\n",
    "circ.ry(theta,0)\n",
    "circ.measure(0,0)\n",
    "circ.ry(-theta,0)\n",
    "circ.measure(0,1)\n",
    "circ.draw()"
   ]
  },
  {
   "cell_type": "markdown",
   "id": "c8342eff-ec32-4f63-843e-51c4804dac8b",
   "metadata": {},
   "source": [
    "**Exercise 4:** What is the state of the system right after the first measurement? (Your answer will depend on the outcome of the first measurement.)\n",
    "\n",
    "**Exercise 5:** What is the state of the system just before the second measurement?\n",
    "\n",
    "**Exercise 6:** What are the possible outcomes of the second measurement?\n",
    "\n",
    "**Exercise 7:** With which probability do you expect the outcomes of the second measuremet to appear?\n",
    "\n",
    "Finally check that you predictions made in the exercises by running the simulation below!"
   ]
  },
  {
   "cell_type": "code",
   "execution_count": 9,
   "id": "2f139838-d4e0-4d50-8a45-e4ade6528d02",
   "metadata": {
    "scrolled": true
   },
   "outputs": [
    {
     "name": "stdout",
     "output_type": "stream",
     "text": [
      "['10', '11', '01', '10', '00', '11', '00', '10', '01', '10']\n"
     ]
    }
   ],
   "source": [
    "simulator = Aer.get_backend('aer_simulator')\n",
    "\n",
    "result = simulator.run(circ, shots=10, memory=True).result()\n",
    "memory = result.get_memory(circ)\n",
    "print(memory)"
   ]
  },
  {
   "cell_type": "markdown",
   "id": "3e7aa6b3-cabc-41f5-a040-d34dcb961df1",
   "metadata": {},
   "source": [
    "**How to read the result:** We have repeated the experiment 10 times and each time we made two measurements. The result of the first measurement is given in the rightmost digit in one of the pairs and the leftmost digit is the result of the second measurement."
   ]
  },
  {
   "cell_type": "markdown",
   "id": "293fd9e2-a89c-4c79-92ba-bcec9d35e969",
   "metadata": {
    "tags": []
   },
   "source": [
    "**Illustration of the distribution of states by histograms**\n",
    "\n",
    "\n",
    "This far we have always repeated the simulation 10 times. To check with better statistics we will now run the same experiment 1024 times. Obviously it will be somewhat bothersome to consider 1024 outputs in a long list, so let's instead display them as a histogram."
   ]
  },
  {
   "cell_type": "code",
   "execution_count": null,
   "id": "c2edfbb5-23ac-4406-af64-d59d67124d71",
   "metadata": {},
   "outputs": [],
   "source": [
    "from qiskit import QuantumCircuit, assemble, Aer\n",
    "from qiskit.visualization import plot_histogram\n",
    "\n",
    "sim = Aer.get_backend('qasm_simulator')  # this is the simulator we'll use\n",
    "qobj = assemble(circ)  # this turns the circuit into an object our backend can run\n",
    "result = sim.run(qobj).result()  # we run the experiment and get the result from that experiment\n",
    "# from the results, we get a dictionary containing the number of times (counts)\n",
    "# each result appeared\n",
    "counts = result.get_counts()\n",
    "# and display it on a histogram\n",
    "plot_histogram(counts)"
   ]
  },
  {
   "cell_type": "markdown",
   "id": "c84026e7-16e5-41d3-b75b-42a73fa73679",
   "metadata": {},
   "source": [
    "**How to read the result:** Each column is labeled by two digits. The result of the first measurement is given in the top digit and the lowest digit is the result of the second measurement.\n",
    "\n",
    "**Conclusion** The fact that we have performed a measurement between the two rotation and the rotation back has changed the outcome of the measurement at the end drastically!"
   ]
  },
  {
   "cell_type": "markdown",
   "id": "452cddc9-13ba-421d-90b5-09f5b4c87d71",
   "metadata": {},
   "source": [
    "**Take home:** The order of measurements and operators in quantum mechanics matter! If you do a measurement you change the system (unless the system is already in an eigenstate of the operator you measure)."
   ]
  }
 ],
 "metadata": {
  "kernelspec": {
   "display_name": "Qiskit v0.33.1 (ipykernel)",
   "language": "python",
   "name": "python3"
  },
  "language_info": {
   "codemirror_mode": {
    "name": "ipython",
    "version": 3
   },
   "file_extension": ".py",
   "mimetype": "text/x-python",
   "name": "python",
   "nbconvert_exporter": "python",
   "pygments_lexer": "ipython3",
   "version": "3.8.10"
  },
  "widgets": {
   "application/vnd.jupyter.widget-state+json": {
    "state": {},
    "version_major": 2,
    "version_minor": 0
   }
  }
 },
 "nbformat": 4,
 "nbformat_minor": 5
}
