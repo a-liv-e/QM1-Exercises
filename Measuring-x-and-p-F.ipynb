{
 "cells": [
  {
   "cell_type": "markdown",
   "id": "2e598063",
   "metadata": {},
   "source": [
    "## Measurements og position and momentum\n",
    "\n",
    "\n",
    "What exactly is it with measurements of position and momentum that can not be done? And what happens if we just go ahead and measure first position and then momentum?\n",
    "\n",
    "An obvious way to address these questions is through experiments. So let’s set them up and examine the outcome!\n",
    "\n",
    "**What:** We will examine the interplay between the measurements of position and momentum. In particular we will study how the measurements affect the wave function.\n",
    "\n",
    "**Learning objective:** Obtain an understanding of how position and momentum measurements affect the wave function."
   ]
  },
  {
   "cell_type": "code",
   "execution_count": 1,
   "id": "1337136a-1fe0-4956-9fff-2afe03f23200",
   "metadata": {},
   "outputs": [],
   "source": [
    "import numpy as np\n",
    "# Importing standard Qiskit libraries\n",
    "from qiskit import QuantumCircuit, ClassicalRegister, QuantumRegister, transpile, Aer, IBMQ\n",
    "from qiskit.tools.jupyter import *\n",
    "from qiskit.visualization import *\n",
    "from ibm_quantum_widgets import *\n",
    "from qiskit import assemble\n",
    "\n",
    "# Loading your IBM Quantum account(s)\n",
    "provider = IBMQ.load_account()"
   ]
  },
  {
   "cell_type": "markdown",
   "id": "915cbe82-afd0-4432-9f48-7783b793dc40",
   "metadata": {},
   "source": [
    "**Space and measuremnt of position:**\n",
    "\n",
    "As in the exercise on the collapse of the  wave function we will think of the qubits as possible positions. \n",
    "\n",
    "Here is *a brief reminder* of how this setup works:\n",
    "\n",
    "For simplicity let's consider a world with 3 sites, with each site represented by a qubit.  Classically we would say that the particle can be at one of the 3 positions $x_1=0$, $x_2=a$ or $x_3=2a$. In the quantum world we have to be more careful: The particle will have the wave function\n",
    "\\\\begin{eqnarray}\n",
    "\\Psi(x_0,t=0) & = & c_1 \\\\ \n",
    "\\Psi(x_1,t=0) & = & c_2 \\\\ \n",
    "\\Psi(x_2,t=0) & = & c_3\n",
    "\\end{eqnarray}\n",
    "\n",
    "with given values for the coefficients, $c_0$, $c_1$ and $c_2$. (The constant, $N=1/\\sqrt{|c_1|^2+|c_2|^2+|c_3|^2}$, makes sure that the wave function is normalized.) For the particle with a given wave function we can perform a measurement of position and the probability that we detect the particle at the location $x_j$, $j=0,1,2$ is given by $|c_j|^2$.\n",
    "\n",
    "**Confused?** If so, try to go back to the exercise on the collapse of the wave function."
   ]
  },
  {
   "cell_type": "markdown",
   "id": "7f9492a9-bb97-43ee-b008-4e86b2183d1d",
   "metadata": {},
   "source": [
    "To see how measurements of $x$ and $p$ affect each other let's start from the uniform wave function \n",
    "\n",
    "\n",
    "\\begin{eqnarray}\n",
    "\\Psi(x_0,t=0) & = & \\frac{1}{\\sqrt{3}} \\\\ \n",
    "\\Psi(x_1,t=0) & = & \\frac{1}{\\sqrt{3}} \\\\ \n",
    "\\Psi(x_2,t=0) & = & \\frac{1}{\\sqrt{3}}\n",
    "\\end{eqnarray}\n",
    "\n",
    "\n",
    "**Recall** that if we measure the momentum of a particle in this state we get 0 every time. As a first step let's check this:"
   ]
  },
  {
   "cell_type": "markdown",
   "id": "e407eee7-4a7a-4995-8535-5624e563788f",
   "metadata": {},
   "source": [
    "First let's define the functions that allow us to set up the wave function"
   ]
  },
  {
   "cell_type": "code",
   "execution_count": 2,
   "id": "eeea6698-5b6d-45a2-8ac3-3a492c3f585c",
   "metadata": {},
   "outputs": [],
   "source": [
    "#initialising a quantum circuit. \n",
    "def initial(N,M):\n",
    "    q = QuantumRegister(N) #N is th number of qubits\n",
    "    c = ClassicalRegister(M) #M is the number of bits\n",
    "    qc = QuantumCircuit(q,c)\n",
    "    return qc\n",
    "\n",
    "\n",
    "#make desired vector: \n",
    "def state(liste,qc): \n",
    "    C = np.array(liste) #len(C) is the number of states. \n",
    "\n",
    "    N = len(C)\n",
    "    H_d = 2**N\n",
    "    \n",
    "    fullstate = np.zeros(H_d)\n",
    "    for k in range(N):\n",
    "        fullstate[(1 << k) ]+=C[k]\n",
    "        \n",
    "    norm = np.linalg.norm(fullstate)\n",
    "    fullstate = fullstate/norm\n",
    "    return qc.initialize(fullstate.tolist(), qc.qubits)\n"
   ]
  },
  {
   "cell_type": "markdown",
   "id": "b2b86719-6b84-49b0-b020-be441f532e39",
   "metadata": {},
   "source": [
    "... and the transformation that allow us to measure the momentum"
   ]
  },
  {
   "cell_type": "code",
   "execution_count": 3,
   "id": "765fb06f-8add-46b3-880d-7f445a9586d8",
   "metadata": {},
   "outputs": [],
   "source": [
    "def x_to_p(N):#N is the number of qubits in our psi state. \n",
    "    \n",
    "    H_d = 2**N\n",
    "\n",
    "    U = np.diag(np.ones(H_d)).tolist()\n",
    "\n",
    "    x = np.arange(N)\n",
    "    p = np.arange(N)\n",
    "\n",
    "    for i in range(N):\n",
    "        index_i = 1 << i #1 bitshifted by i - picks up our pure states\n",
    "        for j in range(N):\n",
    "            index_j = 1 << j\n",
    "            arg = 2 * p[j] * (x[i]-1) * np.pi/N\n",
    "            U[index_i][index_j] = 1/np.sqrt(N) * np.exp(arg*1j)\n",
    "    return U"
   ]
  },
  {
   "cell_type": "markdown",
   "id": "126afcbb-f35d-4561-b938-390af0561e5b",
   "metadata": {},
   "source": [
    "Now let's set up the experiment to measure the momentum in the uniform state"
   ]
  },
  {
   "cell_type": "code",
   "execution_count": 4,
   "id": "ead558cd-86c1-4301-b864-cf4f06c9c6c4",
   "metadata": {},
   "outputs": [
    {
     "data": {
      "image/png": "[encoded data removed]",
      "text/plain": [
       "<Figure size 641.378x264.88 with 1 Axes>"
      ]
     },
     "execution_count": 4,
     "metadata": {},
     "output_type": "execute_result"
    }
   ],
   "source": [
    "N=3\n",
    "qc0 = initial(N,N)\n",
    "\n",
    "state([1,1,1],qc0)\n",
    "qc0.unitary(x_to_p(3),qc0.qubits)\n",
    "qc0.measure(0,0)\n",
    "qc0.measure(1,1)\n",
    "qc0.measure(2,2)\n",
    "\n",
    "qc0.draw()"
   ]
  },
  {
   "cell_type": "markdown",
   "id": "5ae04e11-cd91-4032-9734-6b2ad60755ac",
   "metadata": {},
   "source": [
    "... and finally measure the momentum (we repeat the experiment 10 times)"
   ]
  },
  {
   "cell_type": "code",
   "execution_count": 5,
   "id": "2c22b43f-bc03-41d5-bb89-c730716d8542",
   "metadata": {},
   "outputs": [
    {
     "name": "stdout",
     "output_type": "stream",
     "text": [
      "Measured momentum, 0 hbar/a\n",
      "\n",
      "Measured momentum, 0 hbar/a\n",
      "\n",
      "Measured momentum, 0 hbar/a\n",
      "\n",
      "Measured momentum, 0 hbar/a\n",
      "\n",
      "Measured momentum, 0 hbar/a\n",
      "\n",
      "Measured momentum, 0 hbar/a\n",
      "\n",
      "Measured momentum, 0 hbar/a\n",
      "\n",
      "Measured momentum, 0 hbar/a\n",
      "\n",
      "Measured momentum, 0 hbar/a\n",
      "\n",
      "Measured momentum, 0 hbar/a\n",
      "\n"
     ]
    }
   ],
   "source": [
    "simulator = Aer.get_backend('aer_simulator')\n",
    "\n",
    "result = simulator.run(qc0, shots=10, memory=True).result()\n",
    "memory = result.get_memory(qc0)\n",
    "y = ()\n",
    "for i in range(N):   \n",
    "    element = \"0\"*(N-1-i)+\"1\"+\"0\"*i\n",
    "    y = y + (element,) \n",
    "y = tuple(y)\n",
    "for x in memory:\n",
    "    momentum = y.index(x)\n",
    "    print(\"Measured momentum,\", momentum-1,\"hbar/a\") \n",
    "    print()"
   ]
  },
  {
   "cell_type": "markdown",
   "id": "89c24af1-1fd1-466d-b32e-0930ec754585",
   "metadata": {},
   "source": [
    "**This far:** We have reminded ourselves that if we measure the momentum of a particle in a uniform state we get momentum zero."
   ]
  },
  {
   "cell_type": "markdown",
   "id": "a1d88343-efec-4171-ad38-6041bf1393d4",
   "metadata": {},
   "source": [
    "**But what is it about measurements of position and momentum?**\n",
    "\n",
    "To understand better how measurements of position and momentum affect one another, let's start from again from the uniform wave function \n",
    "\n",
    "\\begin{eqnarray}\n",
    "\\Psi(x_0,t=0) & = & \\frac{1}{\\sqrt{3}} \\\\ \n",
    "\\Psi(x_1,t=0) & = & \\frac{1}{\\sqrt{3}} \\\\ \n",
    "\\Psi(x_2,t=0) & = & \\frac{1}{\\sqrt{3}}\n",
    "\\end{eqnarray}\n",
    "\n",
    "\n",
    "and now let's first measure the position and subsequently the momentum.\n",
    "\n",
    "If we did **not** measure the position first we just saw that we would get $p=0$. The question is if this remains true when we now measure the position before we measure the momentum. Let's check:\n"
   ]
  },
  {
   "cell_type": "code",
   "execution_count": 7,
   "id": "57cc246a-ecd1-4a72-a8ae-29f200f5e941",
   "metadata": {},
   "outputs": [
    {
     "data": {
      "image/png": "[encoded data removed]",
      "text/plain": [
       "<Figure size 822.123x264.88 with 1 Axes>"
      ]
     },
     "execution_count": 7,
     "metadata": {},
     "output_type": "execute_result"
    }
   ],
   "source": [
    "N=3\n",
    "qc0 = initial(N,2*N)\n",
    "\n",
    "state([1/np.sqrt(3),1/np.sqrt(3),1/np.sqrt(3)],qc0)\n",
    "qc0.measure(0,0)\n",
    "qc0.measure(1,1)\n",
    "qc0.measure(2,2)\n",
    "qc0.unitary(x_to_p(3),qc0.qubits)\n",
    "qc0.measure(0,3)\n",
    "qc0.measure(1,4)\n",
    "qc0.measure(2,5)\n",
    "\n",
    "qc0.draw()"
   ]
  },
  {
   "cell_type": "markdown",
   "id": "43dce250-ee7b-4292-b0b6-ed4e1cc7ae0b",
   "metadata": {},
   "source": [
    "**How to read the diagram:** The leftmost purple square, labeled $|\\psi\\rangle$, sets up the uniform wave function and the subsequent gauges measures the position. The rightmost purple square, labled unitary, then tranforms the gauges into momentum gauges and we finally measure the momentum."
   ]
  },
  {
   "cell_type": "markdown",
   "id": "c094d712-8182-48b9-847f-aa1714a986cd",
   "metadata": {},
   "source": [
    "Let's give it a try!"
   ]
  },
  {
   "cell_type": "code",
   "execution_count": 9,
   "id": "afb1eb89-ce29-4897-9a35-3ffb626b3caf",
   "metadata": {},
   "outputs": [
    {
     "name": "stdout",
     "output_type": "stream",
     "text": [
      "Detected position, 1 a\n",
      "\n",
      "Measured momentum, 1 hbar/a\n",
      "\n"
     ]
    }
   ],
   "source": [
    "simulator = Aer.get_backend('aer_simulator')\n",
    "\n",
    "result = simulator.run(qc0, shots=1, memory=True).result()\n",
    "memory = result.get_memory(qc0)\n",
    "y = ()\n",
    "for i in range(N):\n",
    "    for j in range(N):\n",
    "        element = \"0\"*(N-1-i)+\"1\"+\"0\"*i+\"0\"*(N-1-j)+\"1\"+\"0\"*j\n",
    "        y = y + (element,) \n",
    "y = tuple(y)\n",
    "for x in memory:\n",
    "    number= y.index(x)\n",
    "    for i in range(N):\n",
    "        for j in range(N):\n",
    "            if number == i*N+j:\n",
    "                print(\"Detected position,\", j,\"a\") \n",
    "                print()\n",
    "                print(\"Measured momentum,\", i-1,\"hbar/a\") \n",
    "                print()"
   ]
  },
  {
   "cell_type": "markdown",
   "id": "a44f0e7c-eaa4-4498-82b7-6a4d7fd0bee3",
   "metadata": {},
   "source": [
    "**Check:** Run the experiment a few times and check that the outcome of the position measurements gives the result you expect for the uniform wave function. \n",
    "\n",
    "**Exercise 5:** What is the wave function right after we have measured the position and detected the particle at position, say, 2a?\n",
    "\n",
    "**Recall:** As we have 3 possible positions we also have 3 possible momenta $-\\hbar/a$, $0$ and $\\hbar/a$.\n",
    "\n",
    "When you  ran the experiment you probably noticed that all of the 3 possible values of the momentum are obtained even though the initial wave function is uniform.\n",
    "\n",
    "**Exercise 6:** Use the result from exercise 5 to explain why we do not always get momentum 0 if we first measure the position.\n"
   ]
  },
  {
   "cell_type": "markdown",
   "id": "e569dfa5-0652-4b69-aae4-d808d44c4974",
   "metadata": {},
   "source": [
    "**Don't miss:** Note that we have just measured the position and then the momentum. For each of our experiments the result is a detection of the particle at a given position and then a result for the momentum. So we can measure the position and then the momentum. However, as we have also seen the measurement of position affects the measurement of the momentum. Without the measurement of the position the measurement of momentum would have given $p=0$ since we start in the uniform wave function (as we checked above)."
   ]
  },
  {
   "cell_type": "markdown",
   "id": "179fb2bd-a0cb-4f64-af57-fee276b557e6",
   "metadata": {},
   "source": [
    "To understand the interplay between the measurements of position and momentum better let's also try to do the measurement of the momentum first and then measure the position.\n",
    "\n",
    "This time let's start from the localized state \n",
    "\n",
    "\n",
    "\\begin{eqnarray}\n",
    "\\Psi(x_0,t=0) & = & 1 \\\\ \n",
    "\\Psi(x_1,t=0) & = & 0 \\\\ \n",
    "\\Psi(x_2,t=0) & = & 0\n",
    "\\end{eqnarray}\n",
    "\n",
    "\n",
    "Here we go!"
   ]
  },
  {
   "cell_type": "code",
   "execution_count": 10,
   "id": "e1c1ad58-6b39-4a83-a854-4279d7524936",
   "metadata": {},
   "outputs": [
    {
     "data": {
      "image/png": "[encoded data removed]",
      "text/plain": [
       "<Figure size 822.269x264.88 with 1 Axes>"
      ]
     },
     "execution_count": 10,
     "metadata": {},
     "output_type": "execute_result"
    }
   ],
   "source": [
    "N=3\n",
    "qc0 = initial(N,2*N)\n",
    "\n",
    "state([1,0,0],qc0)\n",
    "qc0.unitary(x_to_p(3),qc0.qubits)\n",
    "qc0.measure(0,0)\n",
    "qc0.measure(1,1)\n",
    "qc0.measure(2,2)\n",
    "qc0.unitary(np.transpose(x_to_p(3)),qc0.qubits)\n",
    "qc0.measure(0,3)\n",
    "qc0.measure(1,4)\n",
    "qc0.measure(2,5)\n",
    "\n",
    "qc0.draw()"
   ]
  },
  {
   "cell_type": "markdown",
   "id": "54fd7484-eb5f-499b-93c2-44e91bca839a",
   "metadata": {},
   "source": [
    "**How to read the diagram:** First we set up the wave function, then we transform to momentum gauges and do the measurement of momentum. In order finally to measure the position, we transform back to position gauges and do the measurement of position. "
   ]
  },
  {
   "cell_type": "code",
   "execution_count": 11,
   "id": "227526a6-c092-4364-a9c6-cdd294292a40",
   "metadata": {},
   "outputs": [
    {
     "name": "stdout",
     "output_type": "stream",
     "text": [
      "Measured momentum, -1 hbar/a\n",
      "\n",
      "Detected position, 2 a\n",
      "\n"
     ]
    }
   ],
   "source": [
    "simulator = Aer.get_backend('aer_simulator')\n",
    "\n",
    "result = simulator.run(qc0, shots=1, memory=True).result()\n",
    "memory = result.get_memory(qc0)\n",
    "y = ()\n",
    "for i in range(N):\n",
    "    for j in range(N):\n",
    "        element = \"0\"*(N-1-i)+\"1\"+\"0\"*i+\"0\"*(N-1-j)+\"1\"+\"0\"*j\n",
    "        y = y + (element,) \n",
    "y = tuple(y)\n",
    "for x in memory:\n",
    "    number= y.index(x)\n",
    "    for i in range(N):\n",
    "        for j in range(N):\n",
    "            if number == i*N+j:\n",
    "                print(\"Measured momentum,\", j-1,\"hbar/a\") \n",
    "                print()\n",
    "                print(\"Detected position,\", i,\"a\") \n",
    "                print()"
   ]
  },
  {
   "cell_type": "markdown",
   "id": "d15a42f9-a45f-413a-a114-5950f6339c42",
   "metadata": {},
   "source": [
    "**Exercise 7:** What would the outcome of the position measurement have been if we had not measured the momentum before we measured the position? Run the experiment a handfuld of times to see how the measurement of momentum has changed this.\n",
    "\n",
    "**Note:** When we measure position the wave function collapses to a wave function localized at the position where the particle was detected. In a analogous way when we measure the momentum the wave function collapses to a wave function with the definite momentum we have just measured. Hence the measurement of momentum affects the subsequent measurement of position."
   ]
  },
  {
   "cell_type": "markdown",
   "id": "5ba207da-82d4-4998-85ca-8715e35b6f89",
   "metadata": {},
   "source": [
    "**What is it that we can not do?** \n",
    "\n",
    "We have seen that it is possible to measure first the position and then the momentum (or vise versa). If we do so we will get a position where the particle was detected and a value for the momenta. So what is it that we can not do?\n",
    "\n",
    "The answer is that it is not possible to measure the position and the momentum without affecting the wave function. Even if we start with a localized state and measure the position first (such that we know the answer in advance and such that the measurement of position does not alter the state) then the measurement of momentum will alter the state. "
   ]
  },
  {
   "cell_type": "markdown",
   "id": "b9013b7c-3182-4379-839b-8450eb279586",
   "metadata": {},
   "source": [
    "**Take home:** We have seen that it is possible to measure first the position and then the momentum (or vise versa). If we do so we will get a position where the particle was detected and a measured value for the momenta. However, the two measurements will change the wave function. "
   ]
  }
 ],
 "metadata": {
  "kernelspec": {
   "display_name": "Qiskit v0.33.1 (ipykernel)",
   "language": "python",
   "name": "python3"
  },
  "language_info": {
   "codemirror_mode": {
    "name": "ipython",
    "version": 3
   },
   "file_extension": ".py",
   "mimetype": "text/x-python",
   "name": "python",
   "nbconvert_exporter": "python",
   "pygments_lexer": "ipython3",
   "version": "3.8.10"
  },
  "widgets": {
   "application/vnd.jupyter.widget-state+json": {
    "state": {
     "045f9dc606db4208b35cf38fd8295d79": {
      "model_module": "@jupyter-widgets/controls",
      "model_module_version": "1.5.0",
      "model_name": "DescriptionStyleModel",
      "state": {
       "description_width": ""
      }
     },
     "0bd4ae22f4494dbcae8789a9674ea14b": {
      "model_module": "@jupyter-widgets/controls",
      "model_module_version": "1.5.0",
      "model_name": "DescriptionStyleModel",
      "state": {
       "description_width": ""
      }
     },
     "0c16f58856c744a1b18027f10394091b": {
      "model_module": "@jupyter-widgets/controls",
      "model_module_version": "1.5.0",
      "model_name": "HBoxModel",
      "state": {
       "children": [
        "IPY_MODEL_0e862472c8924b3396a5b83b2e9dda45",
        "IPY_MODEL_6fef0abb4c334e1881c863b00bbf4345",
        "IPY_MODEL_ddbfcaeff7cd4952b41122fc8ac7b5e7",
        "IPY_MODEL_8bfd79dfb508495ca53c2df7c607d45d",
        "IPY_MODEL_0ec9186746054b1f873d2f4851a1c2e3"
       ],
       "layout": "IPY_MODEL_71d689746394442691399fd6ea745bbb"
      }
     },
     "0e862472c8924b3396a5b83b2e9dda45": {
      "model_module": "@jupyter-widgets/controls",
      "model_module_version": "1.5.0",
      "model_name": "HTMLModel",
      "state": {
       "layout": "IPY_MODEL_e4d4f039971547ca938232fd1001bb56",
       "style": "IPY_MODEL_5032be70aee647afb3a6901e56f59ddf",
       "value": "<h5>Job ID</h5>"
      }
     },
     "0ec9186746054b1f873d2f4851a1c2e3": {
      "model_module": "@jupyter-widgets/controls",
      "model_module_version": "1.5.0",
      "model_name": "HTMLModel",
      "state": {
       "layout": "IPY_MODEL_408ea0c3f7d041b6816c1df7f726921e",
       "style": "IPY_MODEL_0bd4ae22f4494dbcae8789a9674ea14b",
       "value": "<h5>Message</h5>"
      }
     },
     "2919d09fd7764230922cf5255a1db60e": {
      "model_module": "@jupyter-widgets/controls",
      "model_module_version": "1.5.0",
      "model_name": "DescriptionStyleModel",
      "state": {
       "description_width": ""
      }
     },
     "408ea0c3f7d041b6816c1df7f726921e": {
      "model_module": "@jupyter-widgets/base",
      "model_module_version": "1.2.0",
      "model_name": "LayoutModel",
      "state": {}
     },
     "49323147d3e342a4a03b5f2e9236e8d2": {
      "model_module": "@jupyter-widgets/base",
      "model_module_version": "1.2.0",
      "model_name": "LayoutModel",
      "state": {
       "margin": "0px 0px 10px 0px"
      }
     },
     "5032be70aee647afb3a6901e56f59ddf": {
      "model_module": "@jupyter-widgets/controls",
      "model_module_version": "1.5.0",
      "model_name": "DescriptionStyleModel",
      "state": {
       "description_width": ""
      }
     },
     "527bef7233554dbd902560dd4e0cf938": {
      "model_module": "@jupyter-widgets/controls",
      "model_module_version": "1.5.0",
      "model_name": "HTMLModel",
      "state": {
       "layout": "IPY_MODEL_49323147d3e342a4a03b5f2e9236e8d2",
       "style": "IPY_MODEL_ee630a1b303042d491d89ee168dbe25d",
       "value": "<p style='font-family: IBM Plex Sans, Arial, Helvetica, sans-serif; font-size: 20px; font-weight: medium;'>Circuit Properties</p>"
      }
     },
     "55d19582b399462388295a88f4fdc028": {
      "model_module": "@jupyter-widgets/base",
      "model_module_version": "1.2.0",
      "model_name": "LayoutModel",
      "state": {
       "width": "70px"
      }
     },
     "55efab380bb742689b899c8613be0ae2": {
      "model_module": "@jupyter-widgets/base",
      "model_module_version": "1.2.0",
      "model_name": "LayoutModel",
      "state": {
       "grid_area": "right",
       "padding": "0px 0px 0px 0px",
       "width": "70px"
      }
     },
     "655be90c39c94dfd9d268951a704a8d4": {
      "model_module": "@jupyter-widgets/controls",
      "model_module_version": "1.5.0",
      "model_name": "ButtonModel",
      "state": {
       "button_style": "primary",
       "description": "Clear",
       "layout": "IPY_MODEL_55efab380bb742689b899c8613be0ae2",
       "style": "IPY_MODEL_7aea3825a1bf45aea8e2444cbd5d54c4"
      }
     },
     "676b1ed630ef48d3878c408ac497249b": {
      "model_module": "@jupyter-widgets/controls",
      "model_module_version": "1.5.0",
      "model_name": "GridBoxModel",
      "state": {
       "children": [
        "IPY_MODEL_655be90c39c94dfd9d268951a704a8d4"
       ],
       "layout": "IPY_MODEL_f434ec4c7d1e47a5a0b4adc72485b2fd"
      }
     },
     "6fef0abb4c334e1881c863b00bbf4345": {
      "model_module": "@jupyter-widgets/controls",
      "model_module_version": "1.5.0",
      "model_name": "HTMLModel",
      "state": {
       "layout": "IPY_MODEL_e079cf20cb3c4d3b8ce35b8f9053dfc1",
       "style": "IPY_MODEL_045f9dc606db4208b35cf38fd8295d79",
       "value": "<h5>Backend</h5>"
      }
     },
     "71d689746394442691399fd6ea745bbb": {
      "model_module": "@jupyter-widgets/base",
      "model_module_version": "1.2.0",
      "model_name": "LayoutModel",
      "state": {
       "margin": "0px 0px 0px 37px",
       "width": "600px"
      }
     },
     "7aea3825a1bf45aea8e2444cbd5d54c4": {
      "model_module": "@jupyter-widgets/controls",
      "model_module_version": "1.5.0",
      "model_name": "ButtonStyleModel",
      "state": {}
     },
     "8bfd79dfb508495ca53c2df7c607d45d": {
      "model_module": "@jupyter-widgets/controls",
      "model_module_version": "1.5.0",
      "model_name": "HTMLModel",
      "state": {
       "layout": "IPY_MODEL_55d19582b399462388295a88f4fdc028",
       "style": "IPY_MODEL_2919d09fd7764230922cf5255a1db60e",
       "value": "<h5>Queue</h5>"
      }
     },
     "bdc501c699714b9f9036864abf8206de": {
      "model_module": "@jupyter-widgets/base",
      "model_module_version": "1.2.0",
      "model_name": "LayoutModel",
      "state": {
       "width": "95px"
      }
     },
     "ddbfcaeff7cd4952b41122fc8ac7b5e7": {
      "model_module": "@jupyter-widgets/controls",
      "model_module_version": "1.5.0",
      "model_name": "HTMLModel",
      "state": {
       "layout": "IPY_MODEL_bdc501c699714b9f9036864abf8206de",
       "style": "IPY_MODEL_f525743f08384077858bffdb222c89e1",
       "value": "<h5>Status</h5>"
      }
     },
     "e079cf20cb3c4d3b8ce35b8f9053dfc1": {
      "model_module": "@jupyter-widgets/base",
      "model_module_version": "1.2.0",
      "model_name": "LayoutModel",
      "state": {
       "width": "145px"
      }
     },
     "e4d4f039971547ca938232fd1001bb56": {
      "model_module": "@jupyter-widgets/base",
      "model_module_version": "1.2.0",
      "model_name": "LayoutModel",
      "state": {
       "width": "190px"
      }
     },
     "ee630a1b303042d491d89ee168dbe25d": {
      "model_module": "@jupyter-widgets/controls",
      "model_module_version": "1.5.0",
      "model_name": "DescriptionStyleModel",
      "state": {
       "description_width": ""
      }
     },
     "f434ec4c7d1e47a5a0b4adc72485b2fd": {
      "model_module": "@jupyter-widgets/base",
      "model_module_version": "1.2.0",
      "model_name": "LayoutModel",
      "state": {
       "grid_template_areas": "\n                                       \". . . . right \"\n                                        ",
       "grid_template_columns": "20% 20% 20% 20% 20%",
       "width": "100%"
      }
     },
     "f525743f08384077858bffdb222c89e1": {
      "model_module": "@jupyter-widgets/controls",
      "model_module_version": "1.5.0",
      "model_name": "DescriptionStyleModel",
      "state": {
       "description_width": ""
      }
     }
    },
    "version_major": 2,
    "version_minor": 0
   }
  }
 },
 "nbformat": 4,
 "nbformat_minor": 5
}
