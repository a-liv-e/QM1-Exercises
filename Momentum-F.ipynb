{
 "cells": [
  {
   "cell_type": "markdown",
   "id": "4ce7d713-a470-4265-a024-31f1591ac534",
   "metadata": {
    "tags": []
   },
   "source": [
    "## Momentum \n",
    "\n",
    "In the first IBM Q exercises we have learned that when we meausure the position, $x$, of a particle with the wave function $\\Psi$, we do not always get the same answer. But what happens if we measure the momentum $p$, does the measured momenta fluctuate?\n",
    "\n",
    "Let's set up an experiment and see!\n",
    "\n",
    "**What:** We will set up two different wave functions and measure the momentum for each. \n",
    "\n",
    "**Learning objective:** get acquainted with measurement of momentum in a quantum system. "
   ]
  },
  {
   "cell_type": "markdown",
   "id": "fd0255e3-6694-42d2-b899-ba6a3cd05c09",
   "metadata": {},
   "source": [
    "As alwys let's first import the libraries:"
   ]
  },
  {
   "cell_type": "code",
   "execution_count": 1,
   "id": "02097766-6129-4f7b-a4d6-7c08dab8c7f4",
   "metadata": {},
   "outputs": [],
   "source": [
    "import numpy as np\n",
    "import matplotlib.pyplot as plt\n",
    "# Importing standard Qiskit libraries\n",
    "from qiskit import QuantumCircuit, transpile, Aer, IBMQ, QuantumRegister, ClassicalRegister\n",
    "from qiskit.tools.jupyter import *\n",
    "from qiskit.visualization import *\n",
    "from ibm_quantum_widgets import *\n",
    "from qiskit.providers.aer import QasmSimulator\n",
    "\n",
    "# Loading your IBM Quantum account(s)\n",
    "provider = IBMQ.load_account()"
   ]
  },
  {
   "cell_type": "markdown",
   "id": "3500970f-34fb-4422-a803-4353bd3c4978",
   "metadata": {},
   "source": [
    ".. and the code to define the wave function"
   ]
  },
  {
   "cell_type": "code",
   "execution_count": 2,
   "id": "eeea6698-5b6d-45a2-8ac3-3a492c3f585c",
   "metadata": {},
   "outputs": [],
   "source": [
    "#initialising a quantum circuit. \n",
    "def initial(N,M):\n",
    "    q = QuantumRegister(N) #N is th number of qubits\n",
    "    c = ClassicalRegister(M) #M is the number of bits\n",
    "    qc = QuantumCircuit(q,c)\n",
    "    return qc\n",
    "\n",
    "\n",
    "#make desired vector: \n",
    "def state(liste,qc): \n",
    "    C = np.array(liste) #len(C) is the number of states. \n",
    "\n",
    "    N = len(C)\n",
    "    H_d = 2**N\n",
    "    \n",
    "    fullstate = np.zeros(H_d)\n",
    "    for k in range(N):\n",
    "        fullstate[(1 << k) ]+=C[k]\n",
    "        \n",
    "    norm = np.linalg.norm(fullstate)\n",
    "    fullstate = fullstate/norm\n",
    "    return qc.initialize(fullstate.tolist(), qc.qubits)\n"
   ]
  },
  {
   "cell_type": "markdown",
   "id": "ef2c69a9-673d-4562-8912-a63c78d12ee5",
   "metadata": {},
   "source": [
    "**Our wave functions:**\n",
    "\n",
    "For simplicity we will work with just 3 positions: $x_1=0$, $x_2=a$, and $x_3=2a$. \n",
    "\n",
    "To understand better the measurement of momentum we will consider two differnet wave functions. The first, $\\Psi_1$, has a well defined location \n",
    "\n",
    "\\begin{eqnarray}\n",
    "\\Psi_1(x_0,t=0) & = & 0 \\\\ \n",
    "\\Psi_1(x_1,t=0) & = & 0 \\\\ \n",
    "\\Psi_1(x_2,t=0) & = & 1\n",
    "\\end{eqnarray}\n",
    "\n",
    "The second wave function, $\\Psi_2$, is spread out uniformly across the 3 sites.\n",
    "\n",
    "\\begin{eqnarray}\n",
    "\\Psi_2(x_0,t=0) & = & \\frac{1}{\\sqrt{3}} \\\\ \n",
    "\\Psi_2(x_1,t=0) & = & \\frac{1}{\\sqrt{3}} \\\\ \n",
    "\\Psi_2(x_2,t=0) & = & \\frac{1}{\\sqrt{3}}\n",
    "\\end{eqnarray}\n",
    "\n",
    "**Exersice 1:** Check that $\\Psi_1$ and $\\Psi_2$ are normalized.  \n",
    "\n",
    "**Exercise 2:** Recap: If the particle has the wave function $\\Psi_1$ and you measure the position what would the result be? If the particle has the wave function $\\Psi_2$ and you measure the position what is the probability that we get $x_j$ for $j=0,1,2$? "
   ]
  },
  {
   "cell_type": "markdown",
   "id": "df73c98d-1b9c-4202-9bd5-d50b292358f2",
   "metadata": {},
   "source": [
    "**Measurement of momentum:**\n",
    "\n",
    "Just as position is an observable we can measure of a particle in state $\\psi$, so is the momentum $p$! Before we can do so, however, we need to tramsform our position measuring gauges in to a momentum measuring gauges. \n",
    "\n",
    "(We will see in chapter 3 of Griffiths and Schröeter that this is done by a Fourier-transformation.) "
   ]
  },
  {
   "cell_type": "markdown",
   "id": "2ddc0b70-c9f7-4697-a1ca-ad871fbb02f4",
   "metadata": {},
   "source": [
    "Let's first define the transformation from $x$ to $p$:"
   ]
  },
  {
   "cell_type": "code",
   "execution_count": 3,
   "id": "1f60d244-3450-4a5b-adf9-4e003b901e34",
   "metadata": {},
   "outputs": [],
   "source": [
    "def x_to_p(N):#N is the number of qubits in our psi state. \n",
    "    \n",
    "    H_d = 2**N\n",
    "\n",
    "    U = np.diag(np.ones(H_d)).tolist()\n",
    "\n",
    "    x = np.arange(N)\n",
    "    p = np.arange(N)\n",
    "\n",
    "    for i in range(N):\n",
    "        index_i = 1 << i #1 bitshifted by i - picks up our pure states\n",
    "        for j in range(N):\n",
    "            index_j = 1 << j\n",
    "            arg = 2 * p[j] * (x[i]-1) * np.pi/N\n",
    "            U[index_i][index_j] = 1/np.sqrt(N) * np.exp(arg*1j)\n",
    "    return U"
   ]
  },
  {
   "cell_type": "markdown",
   "id": "3b9bfa18-7ec7-4f79-aca1-086816d669d8",
   "metadata": {},
   "source": [
    "... and then set up the experiment (we start with $\\Psi_1$)"
   ]
  },
  {
   "cell_type": "code",
   "execution_count": 4,
   "id": "7ecf2474-53e8-4a93-9b0b-bf3e8d14e691",
   "metadata": {},
   "outputs": [
    {
     "data": {
      "image/png": "[encoded data removed]",
      "text/plain": [
       "<Figure size 520.978x264.88 with 1 Axes>"
      ]
     },
     "execution_count": 4,
     "metadata": {},
     "output_type": "execute_result"
    }
   ],
   "source": [
    "N=3\n",
    "qc0 = initial(N,N)\n",
    "\n",
    "state([0,0,1],qc0)\n",
    "qc0.unitary(x_to_p(3),qc0.qubits)\n",
    "qc0.measure(0,0)\n",
    "qc0.measure(1,1)\n",
    "qc0.measure(2,2)\n",
    "\n",
    "qc0.draw()"
   ]
  },
  {
   "cell_type": "markdown",
   "id": "f0a49912-af18-4e92-81cf-0bd319a2541e",
   "metadata": {},
   "source": [
    "**How the read the diagram:**\n",
    "\n",
    "The first purple box sets up our wave function $\\Psi_1$. The second purple box transforms the position gauges to the right into momentum gauges, allowing us to measure the momentum.\n",
    "\n",
    "(Why does the it say \"Unitary\"? Because the Fourier transform we imply is unitary.)"
   ]
  },
  {
   "cell_type": "markdown",
   "id": "9548e1b9-607d-42a1-a4a8-05f3e6ed1a01",
   "metadata": {},
   "source": [
    "Now let's measure the momentum! \n",
    "\n",
    "As we have 3 possible positions, there are also 3 possible values of momentum we can measure: $p=-\\hbar/2$, $p = 0, \\hbar/a$ and $p=\\hbar/2$. "
   ]
  },
  {
   "cell_type": "code",
   "execution_count": 9,
   "id": "2c22b43f-bc03-41d5-bb89-c730716d8542",
   "metadata": {},
   "outputs": [
    {
     "name": "stdout",
     "output_type": "stream",
     "text": [
      "Measured momentum, 0 hbar/a\n"
     ]
    }
   ],
   "source": [
    "simulator = Aer.get_backend('aer_simulator')\n",
    "\n",
    "result = simulator.run(qc0, shots=1, memory=True).result()\n",
    "memory = result.get_memory(qc0)\n",
    "y = ()\n",
    "for i in range(N):   \n",
    "    element = \"0\"*(N-1-i)+\"1\"+\"0\"*i\n",
    "    y = y + (element,) \n",
    "y = tuple(y)\n",
    "z=np.array([0,0,0])\n",
    "for x in memory:\n",
    "    momentum = y.index(x)\n",
    "    print(\"Measured momentum,\", momentum-1,\"hbar/a\") "
   ]
  },
  {
   "cell_type": "markdown",
   "id": "0cb54399-55a9-44b2-9e7b-ce4635c56388",
   "metadata": {},
   "source": [
    "**Exercise 3:** Try to run the experiment a few times and descrobe the result. \n",
    "\n",
    "**Exercise 4:** The wave function $\\Psi_1$ locates the particle at the position $x_3$. What would you expect would change in the measurement of momentum if $\\Psi_1$ instead located the particle at $x_2$? Check by changing the wave function in the code and run the experiment again. "
   ]
  },
  {
   "cell_type": "markdown",
   "id": "b0277c73-50a2-40a7-84b3-b8957c37b70c",
   "metadata": {},
   "source": [
    "Now let's look $\\Psi_2$, doing the same as we did with $\\Psi_1$."
   ]
  },
  {
   "cell_type": "code",
   "execution_count": 10,
   "id": "ae702397-4b03-451f-bdea-8a1b47339d17",
   "metadata": {},
   "outputs": [
    {
     "data": {
      "image/png": "[encoded data removed]",
      "text/plain": [
       "<Figure size 641.523x264.88 with 1 Axes>"
      ]
     },
     "execution_count": 10,
     "metadata": {},
     "output_type": "execute_result"
    }
   ],
   "source": [
    "N=3\n",
    "qc1 = initial(N,N)\n",
    "\n",
    "state([1/np.sqrt(3) , 1/np.sqrt(3) , 1/np.sqrt(3)],qc1)\n",
    "qc1.unitary(x_to_p(3),qc1.qubits)\n",
    "qc1.measure(0,0)\n",
    "qc1.measure(1,1)\n",
    "qc1.measure(2,2)\n",
    "\n",
    "qc1.draw()"
   ]
  },
  {
   "cell_type": "code",
   "execution_count": 14,
   "id": "5b77df96-76b2-40fd-bff4-003e1f4dc0d2",
   "metadata": {},
   "outputs": [
    {
     "name": "stdout",
     "output_type": "stream",
     "text": [
      "Measured momentum, 0 hbar/a\n"
     ]
    }
   ],
   "source": [
    "simulator = Aer.get_backend('aer_simulator')\n",
    "\n",
    "result = simulator.run(qc1, shots=1, memory=True).result()\n",
    "memory = result.get_memory(qc1)\n",
    "y = ()\n",
    "for i in range(N):   \n",
    "    element = \"0\"*(N-1-i)+\"1\"+\"0\"*i\n",
    "    y = y + (element,) \n",
    "y = tuple(y)\n",
    "z=np.array([0,0,0])\n",
    "for x in memory:\n",
    "    momentum = y.index(x)\n",
    "    print(\"Measured momentum,\", momentum-1,\"hbar/a\") "
   ]
  },
  {
   "cell_type": "markdown",
   "id": "b0c1d581-8414-4999-81f5-762c448d47a2",
   "metadata": {},
   "source": [
    "**Exercise 5:** Run the experiment a few times and describe the outcome.\n",
    "\n",
    "**Exercise 6:** Use the results of our experiments with $\\Psi_1$ and $\\Psi_2$ to discuss the statement 'the more precisely the determined a particle's position is, the less precisely is its momentum.' (see Griffiths and Schröeter section 1.6).  "
   ]
  },
  {
   "cell_type": "markdown",
   "id": "5dee9721-d103-4d3c-8654-4b01abd4eabd",
   "metadata": {},
   "source": [
    "**Take home:** Just like we can measure position we can also measure momentum of a particle with a given wave function. If the wave function localizes the particles position, the measurement of momentum varies. On the contrary if the wave function is uniformely distributed over all positions, the measurement of momentum always gives zero. "
   ]
  }
 ],
 "metadata": {
  "kernelspec": {
   "display_name": "Qiskit v0.33.1 (ipykernel)",
   "language": "python",
   "name": "python3"
  },
  "language_info": {
   "codemirror_mode": {
    "name": "ipython",
    "version": 3
   },
   "file_extension": ".py",
   "mimetype": "text/x-python",
   "name": "python",
   "nbconvert_exporter": "python",
   "pygments_lexer": "ipython3",
   "version": "3.8.10"
  },
  "widgets": {
   "application/vnd.jupyter.widget-state+json": {
    "state": {},
    "version_major": 2,
    "version_minor": 0
   }
  }
 },
 "nbformat": 4,
 "nbformat_minor": 5
}
