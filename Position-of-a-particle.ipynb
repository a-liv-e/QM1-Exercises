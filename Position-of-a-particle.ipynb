{
 "cells": [
  {
   "cell_type": "markdown",
   "id": "7b36f80e-db9d-411f-9459-919eb751b05f",
   "metadata": {},
   "source": [
    "## Position of a particle \n",
    "\n",
    "The IBM Q quantum computer is a remarkable quantum experiment, which we can set up and run using Jupyter Nootebooks just as this. In this experiment we want to find the **position of a particle**. Particles in the realm of quantum mechanics is quite different from what we would expect from a classical perspective. Lets see how! \n",
    "\n",
    "Say we have 5 equal sized sections the particle can be in. In which section is the particle located? \n",
    "\n",
    "\n",
    "![From Wikipedia, the free encyclopedia](boxes.png)\n",
    "\n",
    "\n",
    "First, we need to import the relevent libraries:"
   ]
  },
  {
   "cell_type": "code",
   "execution_count": 1,
   "id": "2dec108b-2429-46d9-9c6c-45ad55129388",
   "metadata": {},
   "outputs": [],
   "source": [
    "import numpy as np\n",
    "\n",
    "# Importing standard Qiskit libraries\n",
    "from qiskit import QuantumCircuit, ClassicalRegister, QuantumRegister, transpile, Aer, IBMQ, assemble\n",
    "from qiskit.tools.jupyter import *\n",
    "from qiskit.visualization import *\n",
    "from ibm_quantum_widgets import *\n",
    "from qiskit.providers.aer import QasmSimulator\n",
    "from IPython.display import display, Latex\n",
    "\n",
    "# Loading your IBM Quantum account(s)\n",
    "provider = IBMQ.load_account()"
   ]
  },
  {
   "cell_type": "markdown",
   "id": "4c4cd966-8bd6-44d3-9337-1aa73fde5080",
   "metadata": {},
   "source": [
    "We set up the experiment (don't mind the code here. Just like we don't worry too much about measurement devices work when we do experiments in the lab)"
   ]
  },
  {
   "cell_type": "code",
   "execution_count": null,
   "id": "bbe9abd0-236d-4d0e-8697-149e8cc88484",
   "metadata": {},
   "outputs": [],
   "source": [
    "#initialising a quantum circuit. \n",
    "def initial(N,M):\n",
    "    q = QuantumRegister(N) #N is th number of qubits\n",
    "    c = ClassicalRegister(M) #M is the number of bits\n",
    "    qc = QuantumCircuit(q,c)\n",
    "    return qc\n",
    "\n",
    "#make desired state\n",
    "def state(liste,qc): \n",
    "    C = np.array(liste) #len(C) is the number of states. \n",
    "\n",
    "    N = len(C)\n",
    "    H_d = 2**N\n",
    "    \n",
    "    fullstate = np.zeros(H_d)\n",
    "    for k in range(N):\n",
    "        fullstate[(1 << k) ]+=C[k]\n",
    "        \n",
    "    norm = np.linalg.norm(fullstate)\n",
    "    fullstate = fullstate/norm\n",
    "    return qc.initialize(fullstate.tolist(), qc.qubits)\n",
    "\n",
    "def measureall(q0,c0,qc,N):\n",
    "    q = np.linspace(q0,q0+N-1,N,dtype=int).tolist() #list for q-bits\n",
    "    c = np.linspace(c0,c0+N-1,N,dtype=int).tolist() #list for classic bits\n",
    "    return qc.measure(q,c)"
   ]
  },
  {
   "cell_type": "markdown",
   "id": "25b3c633-a7a8-4a1f-9eae-ac7a4708874a",
   "metadata": {},
   "source": [
    "Now how do we describe the particle and its initial values? In quantum mechanics, we do this with its *wavefunction*.\n",
    "\n",
    "**Exercise 1** Initialize the state of the particle to <code>liste = [1,1,1,1,1]</code> and then run the experiment (the next secton of code)"
   ]
  },
  {
   "cell_type": "code",
   "execution_count": null,
   "id": "c86e4d1b-74d0-4a95-bf82-65229a954c22",
   "metadata": {},
   "outputs": [],
   "source": [
    "######The state of the particle:\n",
    "liste = []\n",
    "######\n",
    "\n",
    "#Setting up the experiment\n",
    "N=len(liste) #number of qubits\n",
    "qc = initial(N,N)\n",
    "n = np.linspace(0,N-1,N,dtype=int).tolist()\n",
    "\n",
    "state(liste,qc) #the wave function in the form [..., q5,q4,q3,q2,q1,q0]\n",
    "\n",
    "qc.barrier() # and now measure the position\n",
    "measureall(0,0,qc,N)\n",
    "\n",
    "simulator = Aer.get_backend('aer_simulator')\n",
    "result = simulator.run(qc, shots=1, memory=True).result()\n",
    "memory = result.get_memory(qc)\n",
    "counts = result.get_counts()\n",
    "\n",
    "for i in range(N):\n",
    "#    print(f\"{memory[0][i]}\")\n",
    "    if memory[0][i] == \"1\":\n",
    "        position = i\n",
    "print()\n",
    "print(memory[0])\n",
    "display(Latex(f'Dectected at position $x = {position}a$'))    "
   ]
  },
  {
   "cell_type": "markdown",
   "id": "f8c62ef4-a3ae-4380-9ba3-23967b1b1da5",
   "metadata": {},
   "source": [
    "Great, now we know where the particle is! But what if we had another particle in the same wave function and measured its position. Do we get the same answer? \n",
    "\n",
    "**Exercise 2:** Run the code multiple times. What answers do you get? What does this mean?\n",
    "\n",
    "**Don't miss:** the experiment is the exact same this time. The particle in the first experiment is described exactly the same way as the second time. \n",
    "\n",
    "<details>\n",
    "    <summary>Click once here when your done with exercise 2</summary>\n",
    "It seems like the position of the particle is <b>not</b> the same even when we have particles with the same wave function! That's the same as if we took the same kind of ball, throwing it with the same catapult and the same weather conditions, but each ball do not end up the same place. \n",
    "</details> \n",
    "\n",
    "<p style=\"margin-bottom:1mm;\"></p>\n",
    "\n",
    "**Exercise 3:** Try to change the wave function of the system. How can you make sure that the particle won't be detected at <code>x=1a</code>?\n",
    "\n",
    "You can play around with this, see if you can see the connection between the _wave function_ you initialize with the list <code>liste</code> and your _measurement_. To make it easier, we can conduct <code>N=1024</code> experiments at a time! (good thing that this is easy to do on a quantum computer compared to in real life!)"
   ]
  },
  {
   "cell_type": "code",
   "execution_count": 19,
   "id": "5a98b1c8-eefb-4f55-9a40-9f46f38be9b8",
   "metadata": {},
   "outputs": [
    {
     "data": {
      "image/png": "[encoded data removed]",
      "text/plain": [
       "<Figure size 504x360 with 1 Axes>"
      ]
     },
     "execution_count": 19,
     "metadata": {},
     "output_type": "execute_result"
    }
   ],
   "source": [
    "sim = Aer.get_backend('qasm_simulator')  # this is the simulator we'll use\n",
    "qobj = assemble(qc)  # this turns the circuit into an object our backend can run\n",
    "result = sim.run(qobj).result()  # we run the experiment and get the result from that experiment\n",
    "# from the results, we get a dictionary containing the number of times (counts)\n",
    "# each result appeared\n",
    "counts = result.get_counts()\n",
    "# and display it on a histogram\n",
    "plot_histogram(counts)"
   ]
  },
  {
   "cell_type": "markdown",
   "id": "1f21d04f-d610-4eba-a266-3cfcd47b4275",
   "metadata": {},
   "source": [
    "When you feel like you understand the connection between the state and the outcome of measurement (or wants to see the right answer), then look at the tap below, where we will reveal the mysteries of quantum states!\n",
    "\n",
    "<details>\n",
    "    <summary> <b> Quantum states: the wave function</b> </summary>\n",
    "The state you experimented with is actually the **wave function** $\\Psi(x,t)$ of a quantum system: instead of describing observables like position, it explains the <b>probalility</b> of the position. In our experiment, the wave function is a discrete function of both space and time (but we only considered a single fixed time $t=0$).One wave function could be: \n",
    "\n",
    "<p style=\"margin-bottom:1mm;\"></p>\n",
    "    \n",
    "\\begin{eqnarray}\n",
    "\\Psi_1(x_0,t=0) & = & 0 \\\\ \n",
    "\\Psi_1(x_1,t=0) & = & 0 \\\\\n",
    "\\Psi_1(x_2,t=0) & = & 1/\\sqrt{2} \\\\ \n",
    "\\Psi_1(x_3,t=0) & = & 1/\\sqrt{2} \\\\ \n",
    "\\Psi_1(x_4,t=0) & = & 0 \\\\ \n",
    "\\Psi_1(x_5,t=0) & = & 0 \\ .\n",
    "\\end{eqnarray}\n",
    "\n",
    "The probability of finding the particle at $x_1$ would then be the coeffient (eq. 2.19 in Griffiths and Schroeter)\n",
    "\\begin{equation}\n",
    "    |\\Psi(x_2,t=0)|^2=\\frac{1}{2}\n",
    "\\end{equation}\n",
    "The wave function must normalized, that is, it must satisfy \n",
    "\\begin{equation}\n",
    "\\sum_{x_j=0}^{5}|\\Psi(x_j,t=0)|^2 = 1 \\ .\n",
    "\\end{equation}\n",
    "Other quantum systems can easily be contious and not confined to <code>N</code> boxes: In this case we'll have\n",
    "$\\Psi(x,t=0)$ instead of $\\Psi(x_j,t=0)$ where $x_j=0, 1, 2, \\ldots$.\n",
    "</details>"
   ]
  }
 ],
 "metadata": {
  "kernelspec": {
   "display_name": "Qiskit v0.34.1 (ipykernel)",
   "language": "python",
   "name": "python3"
  },
  "language_info": {
   "codemirror_mode": {
    "name": "ipython",
    "version": 3
   },
   "file_extension": ".py",
   "mimetype": "text/x-python",
   "name": "python",
   "nbconvert_exporter": "python",
   "pygments_lexer": "ipython3",
   "version": "3.8.12"
  },
  "widgets": {
   "application/vnd.jupyter.widget-state+json": {
    "state": {},
    "version_major": 2,
    "version_minor": 0
   }
  }
 },
 "nbformat": 4,
 "nbformat_minor": 5
}
