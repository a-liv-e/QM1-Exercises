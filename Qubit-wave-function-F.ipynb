{
 "cells": [
  {
   "cell_type": "markdown",
   "id": "2e598063",
   "metadata": {
    "tags": []
   },
   "source": [
    "## The qubit wave function \n",
    "\n",
    "The IBM Q quantum computer is a remarkable quantum experiment, which we can set up and run using Jupyter Nootebooks just as this. The basic building block we have at our disposal is a qubit, and here we will use the qubits to set up a wave function and measure position. (We will study the qubits themselves in detail later.) \n",
    "\n",
    "**What:** We will set up a spatial wave function and perform measurements of the position. Furthermore we will see how a measurement of the position leads to the collapsed wave function. \n",
    "\n",
    "**Learning objective:** To obtain a first understanding of what a wave funtion is and get expirence with measurement of position. Observe the collapse of the wave function."
   ]
  },
  {
   "cell_type": "markdown",
   "id": "4aeead5f-3859-4223-860b-369e81e84f86",
   "metadata": {},
   "source": [
    "To get going let's first import the relevant libraries:"
   ]
  },
  {
   "cell_type": "code",
   "execution_count": 1,
   "id": "2e104679",
   "metadata": {},
   "outputs": [],
   "source": [
    "import numpy as np\n",
    "# Importing standard Qiskit libraries\n",
    "from qiskit import QuantumCircuit, ClassicalRegister, QuantumRegister, transpile, Aer, IBMQ\n",
    "from qiskit.tools.jupyter import *\n",
    "\n",
    "from qiskit.visualization import *\n",
    "from ibm_quantum_widgets import *\n",
    "from qiskit import assemble\n",
    "\n",
    "# Loading your IBM Quantum account(s)\n",
    "provider = IBMQ.load_account()"
   ]
  },
  {
   "cell_type": "markdown",
   "id": "5dbd6358-de03-4274-a871-dd3ee5b37630",
   "metadata": {},
   "source": [
    "**How to set up a wave function with q-bits:** \n",
    "\n",
    "A wave function $\\Psi(x,t)$ is a continous function of both space and time. For simplicity we will consider time fixed at $t=0$ and position confined to the length $L$, ie. $x\\in[0,L]$. \n",
    "\n",
    "We will think of each qubit as a possible position, $x_j=a j$, where $j=0, 1, 2, \\ldots N-1$ and $a=L/N$ with $N$ is the number of qubits. So instead of $\\Psi(x,t=0)$ we have $\\Psi(x_j,t=0)$. (Strictly speaking $\\Psi(x_j,t=0)$ is of course only a function as we take $N\\to\\infty$.)"
   ]
  },
  {
   "cell_type": "markdown",
   "id": "0353e9ec-bf29-4d4e-900a-57270deeb2ed",
   "metadata": {},
   "source": [
    "As we are using the qubits in a slightly unconventional fashion we first define a function that allows us to set up the up the states we want."
   ]
  },
  {
   "cell_type": "code",
   "execution_count": 2,
   "id": "d998677d-8eb6-4991-9c59-3b1edeb94599",
   "metadata": {},
   "outputs": [],
   "source": [
    "#initialising a quantum circuit. \n",
    "def initial(N,M):\n",
    "    q = QuantumRegister(N) #N is th number of qubits\n",
    "    c = ClassicalRegister(M) #M is the number of bits\n",
    "    qc = QuantumCircuit(q,c)\n",
    "    return qc\n",
    "\n",
    "\n",
    "#make desired vector: \n",
    "def state(liste,qc): \n",
    "    C = np.array(liste) #len(C) is the number of states. \n",
    "\n",
    "    N = len(C)\n",
    "    H_d = 2**N\n",
    "    \n",
    "    fullstate = np.zeros(H_d)\n",
    "    for k in range(N):\n",
    "        fullstate[(1 << k) ]+=C[k]\n",
    "        \n",
    "    norm = np.linalg.norm(fullstate)\n",
    "    fullstate = fullstate/norm\n",
    "    return qc.initialize(fullstate.tolist(), qc.qubits)\n"
   ]
  },
  {
   "cell_type": "markdown",
   "id": "347d5aa3-1fdf-47b4-8fb8-54185c2324c9",
   "metadata": {},
   "source": [
    "Now let's use it to see what it looks like if we have 6 sites."
   ]
  },
  {
   "cell_type": "code",
   "execution_count": 3,
   "id": "39e64a58-ec6a-4040-bfb8-d2365b9bf374",
   "metadata": {},
   "outputs": [
    {
     "data": {
      "image/png": "[encoded data removed]",
      "text/plain": [
       "<Figure size 821.978x445.48 with 1 Axes>"
      ]
     },
     "execution_count": 3,
     "metadata": {},
     "output_type": "execute_result"
    }
   ],
   "source": [
    "N=6\n",
    "qc = initial(N,N)\n",
    "\n",
    "state([0,0,0,0,0,1],qc)\n",
    "\n",
    "qc.barrier() # and now measure the position\n",
    "qc.measure(0,0)\n",
    "qc.measure(1,1)\n",
    "qc.measure(2,2)\n",
    "qc.measure(3,3)\n",
    "qc.measure(4,4)\n",
    "qc.measure(5,5)\n",
    "qc.draw()"
   ]
  },
  {
   "cell_type": "markdown",
   "id": "0e33ff9e-884d-422e-a042-832e8992f9fb",
   "metadata": {},
   "source": [
    "**How to read the diagram:** The 6 black horizontal lines each represent a qubit and hence a possible position. The big purple square set up the wave function we have entered in the 'state'. The vertical line just marks that now we have set up the wave function and are ready to do an experiment. Here we want to measure the position and this is what the black boxes with the gauge on them does. The arrows down to the bottom horisontal double-line indicate that the results of the measurements are stored in the classical bits marked by the number next to the arrow. "
   ]
  },
  {
   "cell_type": "markdown",
   "id": "5dd65a83-8ba4-4ac9-8eed-3cb5e36bf1c0",
   "metadata": {},
   "source": [
    "**Our wave function:** \n",
    "\n",
    "We have set up the discrete wave function, such that \n",
    "\n",
    "\\begin{equation}\n",
    "\\Psi(x_0,t=0) = 1  \\quad {\\rm and} \\quad \\Psi(x_j,t=0) = 0 \\quad {\\rm for} \\quad j=1,\\ldots,5 \\ .\n",
    "\\end{equation}\n",
    "\n",
    "Now let's try to measure the position!"
   ]
  },
  {
   "cell_type": "code",
   "execution_count": 6,
   "id": "9f4a5fce-e84a-466c-85a7-a68c48a0f86c",
   "metadata": {},
   "outputs": [
    {
     "name": "stdout",
     "output_type": "stream",
     "text": [
      "0\n",
      "0\n",
      "0\n",
      "0\n",
      "0\n",
      "1\n",
      "\n",
      "Detected at position 5\n",
      "\n"
     ]
    }
   ],
   "source": [
    "simulator = Aer.get_backend('aer_simulator')\n",
    "\n",
    "result = simulator.run(qc, shots=1, memory=True).result()\n",
    "memory = result.get_memory(qc)\n",
    "counts = result.get_counts()\n",
    "y = ()\n",
    "for i in range(N):   \n",
    "    element = \"0\"*(N-1-i)+\"1\"+\"0\"*i\n",
    "    y = y + (element,) \n",
    "y = tuple(y)\n",
    "z=np.array([0,0,0,0,0,0])\n",
    "for x in memory:\n",
    "    position = y.index(x)\n",
    "    z[position]=1\n",
    "    for k in range(6) :\n",
    "        print(z[k])    \n",
    "    print() \n",
    "    print(\"Detected at position\", position) \n",
    "    print() "
   ]
  },
  {
   "cell_type": "markdown",
   "id": "fc28dafb-08db-4d69-a9ac-151249bc50ad",
   "metadata": {},
   "source": [
    "**How to read the result:** We have just performed our firts measurement of position! The position at which the particle was detected is marked by 1, so in this case we detected the particle at position 0 (the top one)."
   ]
  },
  {
   "cell_type": "markdown",
   "id": "44a7514e-2da4-485a-8cc8-ccf4bd838fee",
   "metadata": {},
   "source": [
    "**Explaining the result:** The probability to detect the particle at a given site is given by the absolute square of the wave function at this site. In our example we have \n",
    "\n",
    "\n",
    "\\begin{equation}\n",
    "|\\Psi(x_0,t=0)|^2 = 1  \\quad {\\rm and} \\quad |\\Psi(x_j,t=0)|^2 = 0 \\quad {\\rm for} \\quad j=1,\\ldots,5 \\ .\n",
    "\\end{equation}\n",
    "\n",
    "and hence there was 100% chance to detect the particle at the first site. \n",
    "\n",
    "**Exercise 1:** Repeat the experiment 10 times and make sure that you can explain the result. (There should be no surprises.)"
   ]
  },
  {
   "cell_type": "markdown",
   "id": "8f051ad7-0f74-47ba-b4b9-e6d1a537f248",
   "metadata": {},
   "source": [
    "This far everything is just like in the classical case, because the wave function was zero at all sites except one. (In the continuum case the corresponding the wave function is $\\delta(x)$.) \n",
    "\n",
    "Let's us instead consider the oppsoite extreme where the wave function is constant, ie. it takes the same value on all 6 sites \n",
    "\n",
    "\\begin{equation}\n",
    "\\Psi(x_j,t=0) = \\frac{1}{\\sqrt{6}} \\quad {\\rm for} \\quad j=0,\\ldots,5 \\ .\n",
    "\\end{equation}\n",
    "\n",
    "The wave function must normalized, that is it must satisfy \n",
    "\\begin{equation}\n",
    "\\sum_{x_j=0}^{5}|\\Psi(x_j,t=0)|^2 = 1 \\ .\n",
    "\\end{equation}\n",
    "\n",
    "Note that this is just like in the continuum case, only in the continuum case the sum is replaced by an integral, see e.g. eq. (1.20) of Griffiths and Schröeter. \n",
    "\n",
    "**Exercise 2:** Check that the wave function above is indeed normalized.\n",
    "\n",
    "Now let's measure the position for a particle with the constant wave function! First we set up the experiment:"
   ]
  },
  {
   "cell_type": "code",
   "execution_count": 7,
   "id": "06fc6269-5a77-42ba-b4e1-1fadddad8bd6",
   "metadata": {},
   "outputs": [
    {
     "data": {
      "image/png": "[encoded data removed]",
      "text/plain": [
       "<Figure size 882.323x445.48 with 1 Axes>"
      ]
     },
     "execution_count": 7,
     "metadata": {},
     "output_type": "execute_result"
    }
   ],
   "source": [
    "N=6\n",
    "qc = initial(N,N)\n",
    "\n",
    "state([1,1,1,1,1,1],qc)\n",
    "\n",
    "qc.barrier() # and now measure the position\n",
    "qc.measure(0,0)\n",
    "qc.measure(1,1)\n",
    "qc.measure(2,2)\n",
    "qc.measure(3,3)\n",
    "qc.measure(4,4)\n",
    "qc.measure(5,5)\n",
    "qc.draw()"
   ]
  },
  {
   "cell_type": "markdown",
   "id": "c0a473d5-50d3-48f5-86e4-b87b1c9b2ba2",
   "metadata": {},
   "source": [
    "**How to read the diagram:** The big purple square sets up the constant wave function for us and then we do the measurement of position (we will come back to how the wave function is set up in a later exercise, it is a little more tricky than you might first think)."
   ]
  },
  {
   "cell_type": "markdown",
   "id": "d918195f-7750-4a46-b36b-4c06d3859a1c",
   "metadata": {},
   "source": [
    "And now let's run the experiment:"
   ]
  },
  {
   "cell_type": "code",
   "execution_count": 11,
   "id": "30fd5f36-a966-48dd-860c-5f4aca4ac016",
   "metadata": {},
   "outputs": [
    {
     "name": "stdout",
     "output_type": "stream",
     "text": [
      "0\n",
      "0\n",
      "1\n",
      "0\n",
      "0\n",
      "0\n",
      "\n",
      "Detected at position 2\n"
     ]
    }
   ],
   "source": [
    "simulator = Aer.get_backend('aer_simulator')\n",
    "\n",
    "result = simulator.run(qc, shots=1, memory=True).result()\n",
    "memory = result.get_memory(qc)\n",
    "counts = result.get_counts()\n",
    "y = ()\n",
    "for i in range(N):    \n",
    "    element = \"0\"*(N-1-i)+\"1\"+\"0\"*i\n",
    "    y = y + (element,) \n",
    "y = tuple(y)\n",
    "z=np.array([0,0,0,0,0,0])\n",
    "for x in memory:\n",
    "    position = y.index(x)\n",
    "    z[position]=1\n",
    "    for k in range(6) :\n",
    "        print(z[k])    \n",
    "    print() \n",
    "    print(\"Detected at position\", position) "
   ]
  },
  {
   "cell_type": "markdown",
   "id": "c93d841c-62f4-41c9-8f2c-e2e3b1b808c7",
   "metadata": {},
   "source": [
    "**Exercise 3:** Try to run the experiment a few times and observe the results. \n",
    "\n",
    "The result is **truely remarkable!!** Even though the particle has exactly the same wave function each time we do the measurement of position, we are likely to detect it at different positions. Moreover, there is no way we with certaintly can pridict the exact position at which the particle is detected! The best we can do is to predict the probability that is is detected at a given site.\n",
    "\n",
    "**Exercise 4:** Determine the probability that the particle is detected a the first site. Argue that  for the constant wave function we get the same probability to detect the particle at any of the 6 sites. \n",
    "\n",
    "**Exercise 5:** Show that the probabilities to detect the particle at ecah of the 6 sites add up to 1. Explain why this should indeed be the case. "
   ]
  },
  {
   "cell_type": "markdown",
   "id": "7644ab73-6f09-43d0-a798-6012d7d05fd0",
   "metadata": {},
   "source": [
    "To check our result with better statistics let's run the experiment 1024 times:"
   ]
  },
  {
   "cell_type": "markdown",
   "id": "cca6ecca-6aeb-4a5b-b6ce-017379ae43d2",
   "metadata": {},
   "source": [
    "**Don't miss:** Each time we do the measuremet we start all over. That is, we start by making sure that the wave function is constant and then we measure the position.  "
   ]
  },
  {
   "cell_type": "code",
   "execution_count": 12,
   "id": "7369880d-2c45-4646-b11f-7f7fbeab30b6",
   "metadata": {},
   "outputs": [
    {
     "data": {
      "image/png": "[encoded data removed]",
      "text/plain": [
       "<Figure size 504x360 with 1 Axes>"
      ]
     },
     "execution_count": 12,
     "metadata": {},
     "output_type": "execute_result"
    }
   ],
   "source": [
    "from qiskit import QuantumCircuit, assemble, Aer\n",
    "from qiskit.visualization import plot_histogram\n",
    "\n",
    "sim = Aer.get_backend('qasm_simulator')  # this is the simulator we'll use\n",
    "qobj = assemble(qc)  # this turns the circuit into an object our backend can run\n",
    "result = sim.run(qobj).result()  # we run the experiment and get the result from that experiment\n",
    "# from the results, we get a dictionary containing the number of times (counts)\n",
    "# each result appeared\n",
    "counts = result.get_counts()\n",
    "# and display it on a histogram\n",
    "plot_histogram(counts)"
   ]
  },
  {
   "cell_type": "markdown",
   "id": "4cbcfec6-e227-4ad7-92d7-a7120f68e1a6",
   "metadata": {},
   "source": [
    "**How to read the result:** We have just performed a quantum measurement of position an amazing 1024 times! The result are displayed in a histogram where each column corresponds to one of the 6 possible positions.\n",
    "\n",
    "As we see, when the particle start with the constant wave function, it is equally likely to detect the particle at each site. Note that there will some smaller deviations from 1/6: after all we 'only' did the experiment 1024 times so there are still room for a bit of fluctuations."
   ]
  },
  {
   "cell_type": "markdown",
   "id": "60f9ec7a-f226-4760-ab50-a6a07c36f329",
   "metadata": {},
   "source": [
    "**Collapse of the wave function:**\n",
    "\n",
    "Finally something stunning happens if we repeat the measurement of position twice.\n",
    "\n",
    "Let's give it a try!"
   ]
  },
  {
   "cell_type": "code",
   "execution_count": 13,
   "id": "a29c032c-85e4-44e5-a878-f3bdb2cd0419",
   "metadata": {},
   "outputs": [
    {
     "data": {
      "image/png": "[encoded data removed]",
      "text/plain": [
       "<Figure size 1243.67x445.48 with 1 Axes>"
      ]
     },
     "execution_count": 13,
     "metadata": {},
     "output_type": "execute_result"
    }
   ],
   "source": [
    "N=6\n",
    "qc = initial(N,2*N)\n",
    "\n",
    "state([1,1,1,1,1,1],qc)\n",
    "\n",
    "qc.barrier() # and now measure the position\n",
    "qc.measure(0,0)\n",
    "qc.measure(1,1)\n",
    "qc.measure(2,2)\n",
    "qc.measure(3,3)\n",
    "qc.measure(4,4)\n",
    "qc.measure(5,5)\n",
    "qc.measure(0,6)\n",
    "qc.measure(1,7)\n",
    "qc.measure(2,8)\n",
    "qc.measure(3,9)\n",
    "qc.measure(4,10)\n",
    "qc.measure(5,11)\n",
    "qc.draw()"
   ]
  },
  {
   "cell_type": "markdown",
   "id": "7479f2c7-a0ab-4c3e-b94b-ceedd139f437",
   "metadata": {},
   "source": [
    "**How to read the diagram:** Everything is just like above, only now we measure the position twice."
   ]
  },
  {
   "cell_type": "code",
   "execution_count": 14,
   "id": "0e2d49a8-ff70-4fea-a196-5b515c7dd1de",
   "metadata": {},
   "outputs": [
    {
     "name": "stdout",
     "output_type": "stream",
     "text": [
      "0\n",
      "0\n",
      "1\n",
      "0\n",
      "0\n",
      "0\n",
      "\n",
      "Detected at position 2\n",
      "\n",
      "\n",
      "0\n",
      "0\n",
      "1\n",
      "0\n",
      "0\n",
      "0\n",
      "\n",
      "Detected at position 2\n"
     ]
    }
   ],
   "source": [
    "simulator = Aer.get_backend('aer_simulator')\n",
    "\n",
    "result = simulator.run(qc, shots=1, memory=True).result()\n",
    "memory = result.get_memory(qc)\n",
    "y = ()\n",
    "for i in range(N):    \n",
    "    for k in range(N):\n",
    "        element = \"0\"*(N-1-i)+\"1\"+\"0\"*i+\"0\"*(N-1-k)+\"1\"+\"0\"*k\n",
    "        y = y + (element,) \n",
    "y = tuple(y)\n",
    "z1=np.array([0,0,0,0,0,0])\n",
    "z2=np.array([0,0,0,0,0,0])\n",
    "for x in memory:\n",
    "    position = y.index(x)\n",
    "    position1=((position)//6)\n",
    "    z1[position1]=1\n",
    "    position2=(position-6*((position)//6))\n",
    "    z2[position2]=1\n",
    "    for k in range(6) :\n",
    "        print(z1[k])    \n",
    "    print() \n",
    "    print(\"Detected at position\", position1) \n",
    "    print()\n",
    "    print()\n",
    "    for k in range(6) :\n",
    "        print(z2[k])    \n",
    "    print() \n",
    "    print(\"Detected at position\", position2) "
   ]
  },
  {
   "cell_type": "markdown",
   "id": "3cdfdf31-3bb2-4865-b588-f022bcea6b4c",
   "metadata": {},
   "source": [
    "**How to read the result:** The output is just like before, only now we do the measurement twice in a row."
   ]
  },
  {
   "cell_type": "markdown",
   "id": "da7185df-e686-4947-b804-11b58584791d",
   "metadata": {},
   "source": [
    "**Exercise 6:** Try to run the experiment a few times and observe the results.\n",
    "\n",
    "What we are observing here is one of the fundamental postulates of quantum mechanics in full action! After a measurement of position **the wave function collapses** to a $\\delta$-function at the position where the particle was detected. In our discrete space the wave function collapses to a Kronecker $\\delta$ such that the wave function becomes one on the site where it was detected and zero on all other sites. In the continuum case the wave function collapses to a Dirac $\\delta$-function.\n",
    "\n",
    "**Exercise 7:** Show the collapse of the wave function explains the obvervations we have just made in the experiment."
   ]
  },
  {
   "cell_type": "markdown",
   "id": "97eb7e3f-7025-48ac-81dd-6c7b7a274ee3",
   "metadata": {},
   "source": [
    "**Take home:** For a particle with a wave function, $\\Psi(x,t)$, we can predict the probability that the particle is measured at a given position by taking the absolute square of the wave function at the position. We must however first check that the wave functions is normalized. After we have measured and detected the particle at a given site the wave function collapses such that is is zero everywhere **except** at the position where we detected the particle. "
   ]
  }
 ],
 "metadata": {
  "kernelspec": {
   "display_name": "Qiskit v0.33.1 (ipykernel)",
   "language": "python",
   "name": "python3"
  },
  "language_info": {
   "codemirror_mode": {
    "name": "ipython",
    "version": 3
   },
   "file_extension": ".py",
   "mimetype": "text/x-python",
   "name": "python",
   "nbconvert_exporter": "python",
   "pygments_lexer": "ipython3",
   "version": "3.8.10"
  },
  "widgets": {
   "application/vnd.jupyter.widget-state+json": {
    "state": {},
    "version_major": 2,
    "version_minor": 0
   }
  }
 },
 "nbformat": 4,
 "nbformat_minor": 5
}
