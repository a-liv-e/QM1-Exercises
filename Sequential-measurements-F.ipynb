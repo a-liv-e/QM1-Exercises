{
 "cells": [
  {
   "cell_type": "markdown",
   "id": "9fbe564b",
   "metadata": {},
   "source": [
    "# Measurements of two operators\n",
    "\n",
    "One of the things about quantum mechanics that has bothered great minds (such as Einstein) is that a measurement in quantum mechanics can change the system.\n",
    "\n",
    "In this exercise you will perform measurements of two different quantum operators and your task is to understand how the measurement affects the state of the system.\n",
    "\n",
    "**Learning goal:** This (hopefully) will give you a valuable expirence with the manner in which quantum mechanical measurements are able to change the state of the system.\n"
   ]
  },
  {
   "cell_type": "markdown",
   "id": "ef21b3da",
   "metadata": {},
   "source": [
    "**Background / recall:**\n",
    "\n",
    "A quantum measurement of a physical operator $M$ will change the state of the system into an eigenstate of $M$ (unless the system is already in an eigenstate of $M$). The outcome of the measurement will be one of the eigenvalues of $M$ and the state of the system right after the measuremet will be the associated eigenstate."
   ]
  },
  {
   "cell_type": "markdown",
   "id": "71103f64",
   "metadata": {},
   "source": [
    "**Our first measurement**\n",
    "\n",
    "We will start the system in the state $|0\\rangle$ and then measure the operator \n",
    "\n",
    "\\begin{equation}\n",
    "M_z=\\left(\\begin{array}{cc} 0 & 0 \\\\ 0 & 1 \\end{array}\n",
    "\\right) \\ .\n",
    "\\end{equation}\n",
    "\n",
    "\n",
    "To set up this experiment is stunningly simple!"
   ]
  },
  {
   "cell_type": "markdown",
   "id": "30dab751-2e36-42c7-862a-396723567cd0",
   "metadata": {},
   "source": [
    "First we import the relevant packages"
   ]
  },
  {
   "cell_type": "code",
   "execution_count": 10,
   "id": "f4f72ab6",
   "metadata": {},
   "outputs": [
    {
     "name": "stderr",
     "output_type": "stream",
     "text": [
      "ibmqfactory.load_account:WARNING:2021-12-25 15:20:48,197: Credentials are already in use. The existing account in the session will be replaced.\n"
     ]
    }
   ],
   "source": [
    "# Importing standard Qiskit libraries\n",
    "from qiskit import QuantumCircuit, transpile, Aer, IBMQ\n",
    "from qiskit.tools.jupyter import *\n",
    "from qiskit.visualization import *\n",
    "from ibm_quantum_widgets import *\n",
    "\n",
    "# Loading your IBM Q account(s)\n",
    "provider = IBMQ.load_account()"
   ]
  },
  {
   "cell_type": "markdown",
   "id": "057f8194-5f73-4661-a828-1150ac331f4c",
   "metadata": {},
   "source": [
    "Now all it takes to set up and run the experiment is the following"
   ]
  },
  {
   "cell_type": "code",
   "execution_count": 11,
   "id": "0202ce1c",
   "metadata": {},
   "outputs": [
    {
     "data": {
      "image/png": "[encoded data removed]",
      "text/plain": [
       "<Figure size 133.526x144.48 with 1 Axes>"
      ]
     },
     "execution_count": 11,
     "metadata": {},
     "output_type": "execute_result"
    }
   ],
   "source": [
    "qc = QuantumCircuit(1,1)\n",
    "qc.measure(0,0)\n",
    "qc.draw()"
   ]
  },
  {
   "cell_type": "code",
   "execution_count": 12,
   "id": "438a2f45",
   "metadata": {},
   "outputs": [
    {
     "name": "stdout",
     "output_type": "stream",
     "text": [
      "['0', '0', '0', '0', '0', '0', '0', '0', '0', '0']\n"
     ]
    }
   ],
   "source": [
    "simulator = Aer.get_backend('aer_simulator')\n",
    "\n",
    "result = simulator.run(qc, shots=10, memory=True).result()\n",
    "memory = result.get_memory(qc)\n",
    "print(memory)"
   ]
  },
  {
   "cell_type": "markdown",
   "id": "03f87060",
   "metadata": {},
   "source": [
    "We see that we get the result '0' each time (by all means do run the experiment again to check this if you are not convinced by the 10 times we have repeated the experiment). \n",
    "\n",
    "Now let us try to understand the result: The matrix above expresses the operator $M_z$ in the basis $|0\\rangle$ and  $|1\\rangle$. In this basis the states $|0\\rangle$ and $|1\\rangle$ are respectively \n",
    "\n",
    "\\begin{equation}\n",
    "\\left(\\begin{array}{c} 1 \\\\ 0 \\end{array}\n",
    "\\right) \\quad {\\rm and} \\quad \\left(\\begin{array}{c} 0 \\\\ 1 \\end{array}\n",
    "\\right) \\ .\n",
    "\\end{equation}\n",
    "\n",
    "**Exercise 1:** Show by means of the matrix representation that $|0\\rangle$ is an eigenstate of $M_z$ with eigenvalue $0$.\n",
    "\n",
    "\n",
    "**Exercise 2:** The measurement of $M_z$ in this particular case does not change the state of the system. Why not?\n"
   ]
  },
  {
   "cell_type": "markdown",
   "id": "957712f8",
   "metadata": {},
   "source": [
    "<b> The second measurement </b>\n",
    "\n",
    "We will again start the system in the state $|0\\rangle$ and now measure the operator \n",
    "\n",
    "\\begin{equation}\n",
    "M_x=\\frac{1}{2}\\left(\\begin{array}{cc} 1 & -1 \\\\ -1 & 1 \\end{array}\n",
    "\\right) \\ .\n",
    "\\end{equation}\n",
    "\n",
    "\n",
    "Again this experiment is stunningly simple to set up!"
   ]
  },
  {
   "cell_type": "code",
   "execution_count": 13,
   "id": "e573a56d",
   "metadata": {
    "scrolled": true
   },
   "outputs": [
    {
     "data": {
      "image/png": "[encoded data removed]",
      "text/plain": [
       "<Figure size 193.726x144.48 with 1 Axes>"
      ]
     },
     "execution_count": 13,
     "metadata": {},
     "output_type": "execute_result"
    }
   ],
   "source": [
    "qc = QuantumCircuit(1,1)\n",
    "qc.h(0)\n",
    "qc.measure(0,0)\n",
    "qc.draw()"
   ]
  },
  {
   "cell_type": "code",
   "execution_count": 14,
   "id": "d9361306",
   "metadata": {
    "scrolled": true
   },
   "outputs": [
    {
     "name": "stdout",
     "output_type": "stream",
     "text": [
      "['1', '1', '0', '1', '1', '0', '1', '0', '0', '1']\n"
     ]
    }
   ],
   "source": [
    "simulator = Aer.get_backend('aer_simulator')\n",
    "\n",
    "result = simulator.run(qc, shots=10, memory=True).result()\n",
    "memory = result.get_memory(qc)\n",
    "print(memory)"
   ]
  },
  {
   "cell_type": "markdown",
   "id": "f8a32f7e",
   "metadata": {},
   "source": [
    "First let's try to understand why this was a measurement of $M_x$.\n",
    "\n",
    "**Exercise 3:** Show that $M_x=H^\\dagger M_z H$ where \n",
    "\n",
    "\\begin{equation}\n",
    "H=\\frac{1}{\\sqrt{2}}\\left(\\begin{array}{cc} 1 & 1 \\\\ 1 & -1 \\end{array}\n",
    "\\right) \\ .\n",
    "\\end{equation}\n",
    "\n",
    "The application of $H$ therefore changes the basis such that we now measure $M_x$ rather than $M_z$.\n",
    "\n",
    "**Note:** The Unitary operator $H$ is **not** the Hamiltonian, it is known as the Hadamard operator and thus denoted by $H$. Hopefully, this will not lead to unnessesary confusuion. \n",
    "\n",
    "Now let's try to understand the result: \n",
    "\n",
    "**Exercise 4:** Show that the eigenvalues of $M_x$ are $0$ and $1$.\n",
    "\n",
    "Since a measurement of an operator will yield one of the eigenvalues of the operator, this explains why we get $0$ and $1$ when we measure $M_x$!\n",
    "\n",
    "As we can see the measuremet sometimes gives $0$ and sometimes $1$. So apprently the state $|0\\rangle$ we started the system in is not an eigenstate of $M_x$, othervise the measuremet would have given the same result each time we repeated the experiment. \n",
    "\n",
    "**Exercise 5:** Determine the eigenvectors of $M_x$ and denote the associated states by $|0_x\\rangle$ and $|1_x\\rangle$.\n",
    "\n",
    "The probability that we obtain the value $0$ respectively $1$ when the system is in the state $|0\\rangle$ and we measure $M_x$ is \n",
    "\n",
    "\\begin{equation}\n",
    "P_{0_x} = \\big|\\langle 0_x|0\\rangle\\big|^2 \\quad {\\rm and} \\quad  P_{1_x} = \\big|\\langle 1_x|0\\rangle\\big|^2\n",
    "\\end{equation}\n",
    "\n",
    "**Exercise 6 (Your prediction):** Compute the probabilities $P_{0_x}$ and $P_{0_1}$. \n",
    "\n",
    "To check your predictions, let's run the experiment 1024 times so we have better statistics.\n",
    "\n"
   ]
  },
  {
   "cell_type": "code",
   "execution_count": 15,
   "id": "12ec9a2f",
   "metadata": {},
   "outputs": [
    {
     "data": {
      "image/png": "[encoded data removed]",
      "text/plain": [
       "<Figure size 504x360 with 1 Axes>"
      ]
     },
     "execution_count": 15,
     "metadata": {},
     "output_type": "execute_result"
    }
   ],
   "source": [
    "from qiskit import QuantumCircuit, assemble, Aer\n",
    "from qiskit.visualization import plot_histogram\n",
    "\n",
    "sim = Aer.get_backend('qasm_simulator')  # this is the simulator we'll use\n",
    "qobj = assemble(qc)  # this turns the circuit into an object our backend can run\n",
    "result = sim.run(qobj).result()  # we run the experiment and get the result from that experiment\n",
    "# from the results, we get a dictionary containing the number of times (counts)\n",
    "# each result appeared\n",
    "counts = result.get_counts()\n",
    "# and display it on a histogram\n",
    "plot_histogram(counts)"
   ]
  },
  {
   "cell_type": "markdown",
   "id": "748bd779",
   "metadata": {},
   "source": [
    "**Note:** The values may not be spot on your prediction, even with 1024 the statistical spread is not negligble. Try to run the experiment (all 1024 repetitions) a few times to get a feeling for the statistical spread. Then check that your predictions are safely within the statistical spread."
   ]
  },
  {
   "cell_type": "markdown",
   "id": "8bf42e96",
   "metadata": {},
   "source": [
    "**Sequantial measurements:** \n",
    "\n",
    "Now let's continue our experiment and measure $M_z$ (after we have measured) $M_x$.\n",
    "\n",
    "To do this we need to rotate back with $H^\\dagger$ before we measure again. "
   ]
  },
  {
   "cell_type": "code",
   "execution_count": 16,
   "id": "085c69dd",
   "metadata": {
    "scrolled": true
   },
   "outputs": [
    {
     "data": {
      "image/png": "[encoded data removed]",
      "text/plain": [
       "<Figure size 314.126x144.48 with 1 Axes>"
      ]
     },
     "execution_count": 16,
     "metadata": {},
     "output_type": "execute_result"
    }
   ],
   "source": [
    "qc = QuantumCircuit(1,2)\n",
    "qc.h(0)\n",
    "qc.measure(0,0)\n",
    "qc.h(0)\n",
    "qc.measure(0,1)\n",
    "qc.draw()"
   ]
  },
  {
   "cell_type": "markdown",
   "id": "359e8fc9",
   "metadata": {},
   "source": [
    "... and run the experiment 10 times:"
   ]
  },
  {
   "cell_type": "code",
   "execution_count": 17,
   "id": "fb903fdf",
   "metadata": {},
   "outputs": [
    {
     "name": "stdout",
     "output_type": "stream",
     "text": [
      "['00', '10', '00', '11', '10', '10', '01', '00', '01', '00']\n"
     ]
    }
   ],
   "source": [
    "simulator = Aer.get_backend('aer_simulator')\n",
    "\n",
    "result = simulator.run(qc, shots=10, memory=True).result()\n",
    "memory = result.get_memory(qc)\n",
    "print(memory)"
   ]
  },
  {
   "cell_type": "markdown",
   "id": "0a2c42bb",
   "metadata": {},
   "source": [
    "**Here is how to read the result:** We have repeated the experiment 10 times and each time we have done two measurements. The output therefore has 10 pairs, for example '01'.  The rightmost of the two numbers in the pair is the result of the first measurement. This is just like before, where we found a 50-50 chance of obtaining the values $0$ and $1$ when measuring $M_x$. The result of the additional measurement of $M_z$ is the leftmost digit of the pair."
   ]
  },
  {
   "cell_type": "markdown",
   "id": "24de901a",
   "metadata": {},
   "source": [
    "**Check that we understand the outcome of the experiment:** \n",
    "\n",
    "As we can se from results the measurement of $M_z$ sometimes gives $1$. The fact that we have measured $M_x$ before the measuremnt of $M_z$ therefore must have changed the state! Had the state still been $|0\\rangle$, as it was before we measured $M_x$, the measurement of $M_z$ would have given $0$ with 100% probability (since $|0\\rangle$ is an eigenstate of $M_z$ with eigenvalue $0$).\n",
    "\n",
    "Let's assume that our first measurement of $M_x$ has given the value $1$.\n",
    "\n",
    "**Exercise 7:** Determine the probability that the measuremt of $M_z$ gives us the value 1.\n",
    "\n",
    "Next let's assume that our measurement of $M_x$ has given the value $0$.\n",
    "\n",
    "**Exercise 8:** Determine the probability that the measuremt of $M_z$ gives us the value 1.\n",
    "\n",
    "Finally, let's not make any assumptions about the outcome of the measurement of $M_x$ (except that we have done the measurement of $M_x$).   \n",
    "\n",
    "**Exercise 9:** Determine the probability that the measuremt of $M_z$ gives us the value 1.\n",
    "\n",
    "**Final check:** Finally let's check the results of the exercises above by running the experiment 1024 times.    "
   ]
  },
  {
   "cell_type": "code",
   "execution_count": 18,
   "id": "5faab5a9",
   "metadata": {},
   "outputs": [
    {
     "data": {
      "image/png": "[encoded data removed]",
      "text/plain": [
       "<Figure size 504x360 with 1 Axes>"
      ]
     },
     "execution_count": 18,
     "metadata": {},
     "output_type": "execute_result"
    }
   ],
   "source": [
    "from qiskit import QuantumCircuit, assemble, Aer\n",
    "from qiskit.visualization import plot_histogram\n",
    "\n",
    "sim = Aer.get_backend('qasm_simulator')  # this is the simulator we'll use\n",
    "qobj = assemble(qc)  # this turns the circuit into an object our backend can run\n",
    "result = sim.run(qobj).result()  # we run the experiment and get the result from that experiment\n",
    "# from the results, we get a dictionary containing the number of times (counts)\n",
    "# each result appeared\n",
    "counts = result.get_counts()\n",
    "# and display it on a histogram\n",
    "plot_histogram(counts)"
   ]
  },
  {
   "cell_type": "markdown",
   "id": "c312ddba-31ff-4cd6-9427-a85ebb3b65e9",
   "metadata": {},
   "source": [
    "**Conclusion:** As we can see explicitly, the fact that we insert the measurement of $M_x$ before the measurement of $M_z$ changes the outcome of the latter!"
   ]
  },
  {
   "cell_type": "markdown",
   "id": "6993d6d2",
   "metadata": {},
   "source": [
    "**Take away:** Quantum measurements will change the state of the system we do the measurement on (unless the system happens to be in an eigenstate of the operator we measure). "
   ]
  }
 ],
 "metadata": {
  "kernelspec": {
   "display_name": "Qiskit v0.33.1 (ipykernel)",
   "language": "python",
   "name": "python3"
  },
  "language_info": {
   "codemirror_mode": {
    "name": "ipython",
    "version": 3
   },
   "file_extension": ".py",
   "mimetype": "text/x-python",
   "name": "python",
   "nbconvert_exporter": "python",
   "pygments_lexer": "ipython3",
   "version": "3.8.10"
  },
  "widgets": {
   "application/vnd.jupyter.widget-state+json": {
    "state": {
     "02919fe045094476b29d14329c6cfbb0": {
      "model_module": "@jupyter-widgets/controls",
      "model_module_version": "1.5.0",
      "model_name": "HTMLModel",
      "state": {
       "layout": "IPY_MODEL_16130510f8df41f6b8d047638f6bb3d4",
       "style": "IPY_MODEL_f56fdb7d1176465e9cf40971fb3f9301",
       "value": "<p style='font-family: IBM Plex Sans, Arial, Helvetica, sans-serif; font-size: 20px; font-weight: medium;'>Circuit Properties</p>"
      }
     },
     "06a98474d6be45c6b68eb01ed7b32172": {
      "model_module": "@jupyter-widgets/controls",
      "model_module_version": "1.5.0",
      "model_name": "GridBoxModel",
      "state": {
       "children": [
        "IPY_MODEL_3e16c3412f964069b08a20bad763d808"
       ],
       "layout": "IPY_MODEL_bd655d6e34934894b05abd44c8a1fa45"
      }
     },
     "16130510f8df41f6b8d047638f6bb3d4": {
      "model_module": "@jupyter-widgets/base",
      "model_module_version": "1.2.0",
      "model_name": "LayoutModel",
      "state": {
       "margin": "0px 0px 10px 0px"
      }
     },
     "2b1457f16049426fb86f0332ca979676": {
      "model_module": "@jupyter-widgets/controls",
      "model_module_version": "1.5.0",
      "model_name": "DescriptionStyleModel",
      "state": {
       "description_width": ""
      }
     },
     "2ce0505308ba4a6f9025f55a794b735a": {
      "model_module": "@jupyter-widgets/controls",
      "model_module_version": "1.5.0",
      "model_name": "DescriptionStyleModel",
      "state": {
       "description_width": ""
      }
     },
     "322011060c33458694227d51d6742a28": {
      "model_module": "@jupyter-widgets/controls",
      "model_module_version": "1.5.0",
      "model_name": "HTMLModel",
      "state": {
       "layout": "IPY_MODEL_cb3abc5b69db407ebfa828b1616236e9",
       "style": "IPY_MODEL_4ff1d8d693fb4f209f74d5238c63b204",
       "value": "<h5>Status</h5>"
      }
     },
     "3a0384e7874544ee9d7154fa75e71866": {
      "model_module": "@jupyter-widgets/controls",
      "model_module_version": "1.5.0",
      "model_name": "DescriptionStyleModel",
      "state": {
       "description_width": ""
      }
     },
     "3e16c3412f964069b08a20bad763d808": {
      "model_module": "@jupyter-widgets/controls",
      "model_module_version": "1.5.0",
      "model_name": "ButtonModel",
      "state": {
       "button_style": "primary",
       "description": "Clear",
       "layout": "IPY_MODEL_ed710593749543ddb95eadd4aec8f41e",
       "style": "IPY_MODEL_e3dc739635fb4c5fa12f1999f27fab3e"
      }
     },
     "4c68b4c1423141b08de9b56a6867e3aa": {
      "model_module": "@jupyter-widgets/base",
      "model_module_version": "1.2.0",
      "model_name": "LayoutModel",
      "state": {}
     },
     "4ff1d8d693fb4f209f74d5238c63b204": {
      "model_module": "@jupyter-widgets/controls",
      "model_module_version": "1.5.0",
      "model_name": "DescriptionStyleModel",
      "state": {
       "description_width": ""
      }
     },
     "5180c4d241af439ead2da0354fd929c0": {
      "model_module": "@jupyter-widgets/controls",
      "model_module_version": "1.5.0",
      "model_name": "HTMLModel",
      "state": {
       "layout": "IPY_MODEL_b09823072b4b4f6e824f4c0cac1095a3",
       "style": "IPY_MODEL_2ce0505308ba4a6f9025f55a794b735a",
       "value": "<h5>Backend</h5>"
      }
     },
     "59b7585d4dfe4fb99b82d2590a823a51": {
      "model_module": "@jupyter-widgets/controls",
      "model_module_version": "1.5.0",
      "model_name": "HTMLModel",
      "state": {
       "layout": "IPY_MODEL_4c68b4c1423141b08de9b56a6867e3aa",
       "style": "IPY_MODEL_2b1457f16049426fb86f0332ca979676",
       "value": "<h5>Message</h5>"
      }
     },
     "697806ed1f1e4ed18c9db400463294f9": {
      "model_module": "@jupyter-widgets/base",
      "model_module_version": "1.2.0",
      "model_name": "LayoutModel",
      "state": {
       "width": "190px"
      }
     },
     "88be8567df1b46c39ebddf389b38b72e": {
      "model_module": "@jupyter-widgets/controls",
      "model_module_version": "1.5.0",
      "model_name": "DescriptionStyleModel",
      "state": {
       "description_width": ""
      }
     },
     "a4df01d120b141ff8da76d49bf579845": {
      "model_module": "@jupyter-widgets/controls",
      "model_module_version": "1.5.0",
      "model_name": "HBoxModel",
      "state": {
       "children": [
        "IPY_MODEL_e79c38049e1d403fac62a9f1b20165bc",
        "IPY_MODEL_5180c4d241af439ead2da0354fd929c0",
        "IPY_MODEL_322011060c33458694227d51d6742a28",
        "IPY_MODEL_ef074bb716f44cf8b4b64e4569144d68",
        "IPY_MODEL_59b7585d4dfe4fb99b82d2590a823a51"
       ],
       "layout": "IPY_MODEL_d4c0937518b34815b2f00fd8b3d07914"
      }
     },
     "b09823072b4b4f6e824f4c0cac1095a3": {
      "model_module": "@jupyter-widgets/base",
      "model_module_version": "1.2.0",
      "model_name": "LayoutModel",
      "state": {
       "width": "145px"
      }
     },
     "bd655d6e34934894b05abd44c8a1fa45": {
      "model_module": "@jupyter-widgets/base",
      "model_module_version": "1.2.0",
      "model_name": "LayoutModel",
      "state": {
       "grid_template_areas": "\n                                       \". . . . right \"\n                                        ",
       "grid_template_columns": "20% 20% 20% 20% 20%",
       "width": "100%"
      }
     },
     "cb3abc5b69db407ebfa828b1616236e9": {
      "model_module": "@jupyter-widgets/base",
      "model_module_version": "1.2.0",
      "model_name": "LayoutModel",
      "state": {
       "width": "95px"
      }
     },
     "cb66228608a34cb28b2fcc3f4923ef63": {
      "model_module": "@jupyter-widgets/base",
      "model_module_version": "1.2.0",
      "model_name": "LayoutModel",
      "state": {
       "width": "70px"
      }
     },
     "d4c0937518b34815b2f00fd8b3d07914": {
      "model_module": "@jupyter-widgets/base",
      "model_module_version": "1.2.0",
      "model_name": "LayoutModel",
      "state": {
       "margin": "0px 0px 0px 37px",
       "width": "600px"
      }
     },
     "e3dc739635fb4c5fa12f1999f27fab3e": {
      "model_module": "@jupyter-widgets/controls",
      "model_module_version": "1.5.0",
      "model_name": "ButtonStyleModel",
      "state": {}
     },
     "e79c38049e1d403fac62a9f1b20165bc": {
      "model_module": "@jupyter-widgets/controls",
      "model_module_version": "1.5.0",
      "model_name": "HTMLModel",
      "state": {
       "layout": "IPY_MODEL_697806ed1f1e4ed18c9db400463294f9",
       "style": "IPY_MODEL_3a0384e7874544ee9d7154fa75e71866",
       "value": "<h5>Job ID</h5>"
      }
     },
     "ed710593749543ddb95eadd4aec8f41e": {
      "model_module": "@jupyter-widgets/base",
      "model_module_version": "1.2.0",
      "model_name": "LayoutModel",
      "state": {
       "grid_area": "right",
       "padding": "0px 0px 0px 0px",
       "width": "70px"
      }
     },
     "ef074bb716f44cf8b4b64e4569144d68": {
      "model_module": "@jupyter-widgets/controls",
      "model_module_version": "1.5.0",
      "model_name": "HTMLModel",
      "state": {
       "layout": "IPY_MODEL_cb66228608a34cb28b2fcc3f4923ef63",
       "style": "IPY_MODEL_88be8567df1b46c39ebddf389b38b72e",
       "value": "<h5>Queue</h5>"
      }
     },
     "f56fdb7d1176465e9cf40971fb3f9301": {
      "model_module": "@jupyter-widgets/controls",
      "model_module_version": "1.5.0",
      "model_name": "DescriptionStyleModel",
      "state": {
       "description_width": ""
      }
     }
    },
    "version_major": 2,
    "version_minor": 0
   }
  }
 },
 "nbformat": 4,
 "nbformat_minor": 5
}
