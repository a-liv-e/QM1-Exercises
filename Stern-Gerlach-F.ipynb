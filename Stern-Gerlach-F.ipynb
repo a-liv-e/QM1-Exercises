{
 "cells": [
  {
   "cell_type": "markdown",
   "id": "d098f4ed",
   "metadata": {},
   "source": [
    "# Stern-Gerlach\n",
    "\n",
    "This exercise explores the famous setup with repeated Stern-Gerlach experiments. Well, obviously we will not do the original setup of Stern and Gerlach bending a beam of silver atoms, see e.g. example 4.4. in Griffiths and Schröeter, but we will set up an equivalent set of measurements using just a single qubit.\n",
    "\n",
    "**What:** We will set up a series of measurements on a single qubit, equivalent to sequential Stern-Gerlach experiments. \n",
    "\n",
    "**Learning goal:** Understand better the effect of sequential measurements.\n",
    "\n"
   ]
  },
  {
   "cell_type": "markdown",
   "id": "251d70b3-122d-41de-b323-dfb48c048a61",
   "metadata": {},
   "source": [
    "As always let's first import the relevant packages"
   ]
  },
  {
   "cell_type": "code",
   "execution_count": 1,
   "id": "a6c90373",
   "metadata": {},
   "outputs": [],
   "source": [
    "import numpy as np\n",
    "# Importing standard Qiskit libraries\n",
    "from qiskit import QuantumCircuit, QuantumRegister, ClassicalRegister, transpile, Aer, IBMQ\n",
    "from qiskit.tools.jupyter import *\n",
    "from qiskit.visualization import *\n",
    "from ibm_quantum_widgets import *\n",
    "\n",
    "# Loading your IBM Q account(s)\n",
    "provider = IBMQ.load_account()"
   ]
  },
  {
   "cell_type": "markdown",
   "id": "e0832177-da69-43eb-bbcf-4aa8b1b5ba0e",
   "metadata": {},
   "source": [
    "We will perform the 3 experiments illustrated here (figure from From Wikipedia):"
   ]
  },
  {
   "cell_type": "markdown",
   "id": "60640c6d-95ba-4a48-861f-2736b04f95ea",
   "metadata": {},
   "source": [
    "\n",
    "\n",
    "![From Wikipedia, the free encyclopedia](SternGerlach-Wiki.png \"Sequential Stern-Gerlach measurements\")"
   ]
  },
  {
   "cell_type": "markdown",
   "id": "851e115e-70eb-4459-8285-434669b2ae2e",
   "metadata": {},
   "source": [
    "**How to read the figure:** In each of the 3 cases we start from the left with a source emitting a spin 1/2 particle and it is then passed through the Stern-Gerlach appratus oriented along the $z$-axis. The possible outcomes are illustrated by the two lines comming out of the right hand side of the S-G box (note that this is the two possible outputs of the measurement **not** two qubits). Only the spin up (along the $z$-axis) component is allowed to propagate. Then depending on which of the 3 experiments we consider we then set up a second (and third) Stern-Gerlach apparatus. "
   ]
  },
  {
   "cell_type": "markdown",
   "id": "4921d052-245a-4854-a16f-619e726f13e8",
   "metadata": {},
   "source": [
    "**How to implement in IBM Q:** The beam emitted from the source consist of spin 1/2 particles (silver has a single outer electron that determines the spin of the total atom). Since this is a two state system we can represent it by a single qubit. Now the Stern-Gerlach apparatus measures the spin of the silver atom (determined by a single electron) along a given axis. In IBM Q this is just as our measuring device! So all we need is a single qubit and appropriately oriented measuring devises.\n",
    "\n",
    "**The source:** We will start the qubit in the state \n",
    "\n",
    "\\begin{equation}\n",
    "|\\psi\\rangle = \\frac{1}{\\sqrt{2}}(|\\uparrow\\rangle+|\\downarrow\\rangle)\n",
    "\\end{equation}\n",
    "\n",
    "where 'up' and 'down' are wrt the $z$-axis. "
   ]
  },
  {
   "cell_type": "markdown",
   "id": "710205bf-0d4a-4ca5-810f-616e6c1f0e32",
   "metadata": {},
   "source": [
    "**First experiment:**\n",
    "\n",
    "In the first case all we need are two measuring devises ordered in the standad fashing along the $z$-axis. "
   ]
  },
  {
   "cell_type": "code",
   "execution_count": 2,
   "id": "0f00efd3-5760-4a11-a833-1bbd2ad49d35",
   "metadata": {},
   "outputs": [
    {
     "data": {
      "image/png": "[encoded data removed]",
      "text/plain": [
       "<Figure size 327.107x144.48 with 1 Axes>"
      ]
     },
     "execution_count": 2,
     "metadata": {},
     "output_type": "execute_result"
    }
   ],
   "source": [
    "q=QuantumRegister(1)\n",
    "c=ClassicalRegister(2)\n",
    "circ= QuantumCircuit(q,c)\n",
    "circ.h(0) # puts the first q-bit in the desired state\n",
    "circ.barrier() # just a vertical line which seperates where we set up the state and where we measure. \n",
    "circ.measure(0,0)\n",
    "circ.measure(q[0],c[1])\n",
    "circ.draw()"
   ]
  },
  {
   "cell_type": "markdown",
   "id": "b47d9979-85a9-4503-bc80-9cd5d5632bca",
   "metadata": {},
   "source": [
    "**But wait!** In the figure above the spin down beam is blocked from propagating into the next Stern-Gerlach apparatus!\n",
    "\n",
    "**Exercise 1:** Argue that if we only consider the results obtained if the first measurement gives spin up (along the $z$-axis) then this is equivalent to the top experiment of the figure above. \n",
    "\n",
    "**Exercise 2:** Argue that the propability to obtain sipn up (along the $z$-axis) in the second measurement is 1 (provided that we only consider the cases where the first measurement gives spin up)."
   ]
  },
  {
   "cell_type": "markdown",
   "id": "8e56f62f-8881-4730-abf2-656cb1457fd9",
   "metadata": {},
   "source": [
    "Now let's check!\n",
    "\n",
    "**Note:** We have put in a conditional statement so we only look at the results if the outcome of the first measurement is spin up. "
   ]
  },
  {
   "cell_type": "code",
   "execution_count": 17,
   "id": "576d7fc9-0ece-4c67-bbbd-bd94ab3bd355",
   "metadata": {},
   "outputs": [
    {
     "name": "stdout",
     "output_type": "stream",
     "text": [
      "First measurement 0.5 hbar   Second measurement 0.5 hbar\n",
      "\n",
      "First measurement 0.5 hbar   Second measurement 0.5 hbar\n",
      "\n",
      "First measurement 0.5 hbar   Second measurement 0 hbar\n",
      "\n",
      "First measurement 0.5 hbar   Second measurement 0.5 hbar\n",
      "\n",
      "First measurement 0.5 hbar   Second measurement 0 hbar\n",
      "\n"
     ]
    }
   ],
   "source": [
    "simulator = Aer.get_backend('aer_simulator')\n",
    "\n",
    "result = simulator.run(circ, shots=11, memory=True).result()\n",
    "memory = result.get_memory(circ)\n",
    "for x in memory:\n",
    "    if x[0]==\"1\":\n",
    "        no1 = 1/2\n",
    "        if x[1]==\"0\":\n",
    "            no2=0\n",
    "        if x[1]==\"1\":\n",
    "            no2=1/2\n",
    "        print('First measurement', no1,'hbar' '   Second measurement', no2,'hbar')\n",
    "        print()"
   ]
  },
  {
   "cell_type": "markdown",
   "id": "86483d45-ef88-4fb5-8166-8adc87714f7a",
   "metadata": {},
   "source": [
    "**Second experiment:**\n",
    "\n",
    "Now we turn to the second experinemt and instead let the second measurement of the spin be along the $x$-axis."
   ]
  },
  {
   "cell_type": "code",
   "execution_count": 11,
   "id": "c9f74f9a-aa15-4ffb-bf2e-120c4ae86248",
   "metadata": {},
   "outputs": [
    {
     "data": {
      "image/png": "[encoded data removed]",
      "text/plain": [
       "<Figure size 387.452x144.48 with 1 Axes>"
      ]
     },
     "execution_count": 11,
     "metadata": {},
     "output_type": "execute_result"
    }
   ],
   "source": [
    "q=QuantumRegister(1)\n",
    "c=ClassicalRegister(2)\n",
    "circ= QuantumCircuit(q,c)\n",
    "circ.h(0) # puts the first q-bit in the desired state\n",
    "circ.barrier() # just a vertical line which seperates where we set up the state and where we measure. \n",
    "circ.measure(0,0)\n",
    "circ.ry(np.pi/2,0)\n",
    "circ.measure(q[0],c[1])\n",
    "circ.draw()"
   ]
  },
  {
   "cell_type": "code",
   "execution_count": 16,
   "id": "8a108741-64a2-476e-8f12-6a6faf460750",
   "metadata": {},
   "outputs": [
    {
     "name": "stdout",
     "output_type": "stream",
     "text": [
      "First measurement 0.5 hbar   Second measurement 0 hbar\n",
      "\n",
      "First measurement 0.5 hbar   Second measurement 0.5 hbar\n",
      "\n",
      "First measurement 0.5 hbar   Second measurement 0.5 hbar\n",
      "\n",
      "First measurement 0.5 hbar   Second measurement 0 hbar\n",
      "\n",
      "First measurement 0.5 hbar   Second measurement 0 hbar\n",
      "\n",
      "First measurement 0.5 hbar   Second measurement 0 hbar\n",
      "\n"
     ]
    }
   ],
   "source": [
    "simulator = Aer.get_backend('aer_simulator')\n",
    "\n",
    "result = simulator.run(circ, shots=11, memory=True).result()\n",
    "memory = result.get_memory(circ)\n",
    "for x in memory:\n",
    "    if x[0]==\"1\":\n",
    "        no1 = 1/2\n",
    "        if x[1]==\"0\":\n",
    "            no2=0\n",
    "        if x[1]==\"1\":\n",
    "            no2=1/2\n",
    "        print('First measurement', no1,'hbar' '   Second measurement', no2,'hbar')\n",
    "        print()"
   ]
  },
  {
   "cell_type": "markdown",
   "id": "b06e133c-71bc-4e5b-b63f-8d4b825d5595",
   "metadata": {},
   "source": [
    "**Note:** As aboove we print only those results where the outcome of the first measurement is spin up.\n",
    "\n",
    "**Exercise 3:** Explain the result of the experiment we have just carried out."
   ]
  },
  {
   "cell_type": "markdown",
   "id": "ac4e87c4-49b0-4ca0-a0bc-420e1f0685c3",
   "metadata": {},
   "source": [
    "**Third experiment:**\n",
    "\n",
    "Finally let's us turn to the third experiment in the figure above. To do so we add a third measurement of the spin along the $z$-axis.\n",
    "\n",
    "Here we go!"
   ]
  },
  {
   "cell_type": "code",
   "execution_count": 24,
   "id": "60ea8ab8-d019-4624-b067-862c1db3e0b8",
   "metadata": {},
   "outputs": [
    {
     "data": {
      "image/png": "[encoded data removed]",
      "text/plain": [
       "<Figure size 507.997x144.48 with 1 Axes>"
      ]
     },
     "execution_count": 24,
     "metadata": {},
     "output_type": "execute_result"
    }
   ],
   "source": [
    "q=QuantumRegister(1)\n",
    "c=ClassicalRegister(3)\n",
    "circ= QuantumCircuit(q,c)\n",
    "circ.h(0) # puts the first q-bit in the desired state\n",
    "circ.barrier() # just a vertical line which seperates where we set up the state and where we measure. \n",
    "circ.measure(0,0)\n",
    "circ.ry(np.pi/2,0)\n",
    "circ.measure(q[0],c[1])\n",
    "circ.ry(-np.pi/2,0)\n",
    "circ.measure(0,2)\n",
    "circ.draw()"
   ]
  },
  {
   "cell_type": "code",
   "execution_count": 30,
   "id": "e0c7bbc3-3924-4f21-9a53-528806b6eb23",
   "metadata": {},
   "outputs": [
    {
     "name": "stdout",
     "output_type": "stream",
     "text": [
      "First measurement 0.5 hbar   Second measurement 0.5 hbar  Third measurement 0 hbar\n",
      "\n",
      "First measurement 0.5 hbar   Second measurement 0.5 hbar  Third measurement 0 hbar\n",
      "\n",
      "First measurement 0.5 hbar   Second measurement 0.5 hbar  Third measurement 0 hbar\n",
      "\n",
      "First measurement 0.5 hbar   Second measurement 0.5 hbar  Third measurement 0.5 hbar\n",
      "\n",
      "First measurement 0.5 hbar   Second measurement 0.5 hbar  Third measurement 0 hbar\n",
      "\n",
      "First measurement 0.5 hbar   Second measurement 0.5 hbar  Third measurement 0.5 hbar\n",
      "\n",
      "First measurement 0.5 hbar   Second measurement 0.5 hbar  Third measurement 0.5 hbar\n",
      "\n",
      "First measurement 0.5 hbar   Second measurement 0.5 hbar  Third measurement 0.5 hbar\n",
      "\n",
      "First measurement 0.5 hbar   Second measurement 0.5 hbar  Third measurement 0 hbar\n",
      "\n",
      "First measurement 0.5 hbar   Second measurement 0.5 hbar  Third measurement 0 hbar\n",
      "\n",
      "First measurement 0.5 hbar   Second measurement 0.5 hbar  Third measurement 0 hbar\n",
      "\n",
      "First measurement 0.5 hbar   Second measurement 0.5 hbar  Third measurement 0.5 hbar\n",
      "\n",
      "First measurement 0.5 hbar   Second measurement 0.5 hbar  Third measurement 0.5 hbar\n",
      "\n",
      "First measurement 0.5 hbar   Second measurement 0.5 hbar  Third measurement 0 hbar\n",
      "\n",
      "First measurement 0.5 hbar   Second measurement 0.5 hbar  Third measurement 0.5 hbar\n",
      "\n",
      "First measurement 0.5 hbar   Second measurement 0.5 hbar  Third measurement 0.5 hbar\n",
      "\n",
      "First measurement 0.5 hbar   Second measurement 0.5 hbar  Third measurement 0.5 hbar\n",
      "\n",
      "First measurement 0.5 hbar   Second measurement 0.5 hbar  Third measurement 0 hbar\n",
      "\n"
     ]
    }
   ],
   "source": [
    "simulator = Aer.get_backend('aer_simulator')\n",
    "\n",
    "result = simulator.run(circ, shots=80, memory=True).result()\n",
    "memory = result.get_memory(circ)\n",
    "for x in memory:\n",
    "    if x[0]==\"1\" and x[1]==\"1\":\n",
    "        no1 = 1/2\n",
    "        if x[1]==\"0\":\n",
    "            no2=0\n",
    "        if x[1]==\"1\":\n",
    "            no2=1/2\n",
    "            if x[2]==\"0\":\n",
    "                no3=0\n",
    "            if x[2]==\"1\":\n",
    "                no3=1/2\n",
    "        print('First measurement', no1,'hbar''   Second measurement', no2,'hbar''  Third measurement', no3,'hbar')\n",
    "        print()"
   ]
  },
  {
   "cell_type": "markdown",
   "id": "292218be-0696-47b7-9b79-a948ca67bb1f",
   "metadata": {},
   "source": [
    "**Note:** In order to reproduce the 3rd experiment in the figure above we only print the results when the first and the second measurement both gives spin up (first along the $z$-axis then along the $x$-axis)."
   ]
  },
  {
   "cell_type": "markdown",
   "id": "eae5b2ef-f942-452a-bc3f-e46907cfad67",
   "metadata": {},
   "source": [
    "**Exercise 4:** Explain why the final measurement of $S_z$ can give spin down, even though the first measuremnt of $S_z$ has singled out the spin-up $z$-component.  "
   ]
  },
  {
   "cell_type": "markdown",
   "id": "33f0b28e-29ba-4bd1-b635-4701a7529faa",
   "metadata": {},
   "source": [
    "**Take home:** Measurements affect the sate of the system. After the measurement the state of the system becomes an eigenstate of the oprerator measured. Which eigenstate? The one belonging to the eigenvalue that was measured. Here the measuremnt of $S_x$ inserted between the two measurements of $S_z$ changes the spin-state thereby allowing for a non zero spin down component of the spin in the $z$-direction. "
   ]
  }
 ],
 "metadata": {
  "kernelspec": {
   "display_name": "Qiskit v0.33.1 (ipykernel)",
   "language": "python",
   "name": "python3"
  },
  "language_info": {
   "codemirror_mode": {
    "name": "ipython",
    "version": 3
   },
   "file_extension": ".py",
   "mimetype": "text/x-python",
   "name": "python",
   "nbconvert_exporter": "python",
   "pygments_lexer": "ipython3",
   "version": "3.8.10"
  },
  "widgets": {
   "application/vnd.jupyter.widget-state+json": {
    "state": {
     "02d4d3bd07a449288783db35d6e1f3a1": {
      "model_module": "@jupyter-widgets/base",
      "model_module_version": "1.2.0",
      "model_name": "LayoutModel",
      "state": {
       "width": "95px"
      }
     },
     "07ee1ca5da47481e8267ce41f8ef777d": {
      "model_module": "@jupyter-widgets/base",
      "model_module_version": "1.2.0",
      "model_name": "LayoutModel",
      "state": {
       "margin": "0px 0px 10px 0px"
      }
     },
     "27da45c5a35e43b59aa5dedd6874a96c": {
      "model_module": "@jupyter-widgets/controls",
      "model_module_version": "1.5.0",
      "model_name": "DescriptionStyleModel",
      "state": {
       "description_width": ""
      }
     },
     "28e1e02ccacd4540a585d2d5d9bc1aee": {
      "model_module": "@jupyter-widgets/controls",
      "model_module_version": "1.5.0",
      "model_name": "GridBoxModel",
      "state": {
       "children": [
        "IPY_MODEL_aeccaf65272a4de28fa5330814f6cea0"
       ],
       "layout": "IPY_MODEL_b7c6d989a7d14db691af4350e6938aa6"
      }
     },
     "2ea4d0c5be5d4d17b4f541ee73bc5b30": {
      "model_module": "@jupyter-widgets/controls",
      "model_module_version": "1.5.0",
      "model_name": "HTMLModel",
      "state": {
       "layout": "IPY_MODEL_3f4b61400fff4b228123cf537317a90b",
       "style": "IPY_MODEL_68262dcb33994ed2930838dda60efdf9",
       "value": "<h5>Queue</h5>"
      }
     },
     "3d556c310fbf4024b5edb951ed9772d2": {
      "model_module": "@jupyter-widgets/base",
      "model_module_version": "1.2.0",
      "model_name": "LayoutModel",
      "state": {
       "margin": "0px 0px 0px 37px",
       "width": "600px"
      }
     },
     "3e75b720812a4d8080d686fe94f8f454": {
      "model_module": "@jupyter-widgets/base",
      "model_module_version": "1.2.0",
      "model_name": "LayoutModel",
      "state": {}
     },
     "3f4b61400fff4b228123cf537317a90b": {
      "model_module": "@jupyter-widgets/base",
      "model_module_version": "1.2.0",
      "model_name": "LayoutModel",
      "state": {
       "width": "70px"
      }
     },
     "6198f1943e3d497fabd9fdbb7d6a3610": {
      "model_module": "@jupyter-widgets/controls",
      "model_module_version": "1.5.0",
      "model_name": "HTMLModel",
      "state": {
       "layout": "IPY_MODEL_02d4d3bd07a449288783db35d6e1f3a1",
       "style": "IPY_MODEL_a9cedba1d6734ac58da08ac11b97e6ae",
       "value": "<h5>Status</h5>"
      }
     },
     "62c4b38fafb34052a1b48c1be69ba5d8": {
      "model_module": "@jupyter-widgets/controls",
      "model_module_version": "1.5.0",
      "model_name": "HTMLModel",
      "state": {
       "layout": "IPY_MODEL_07ee1ca5da47481e8267ce41f8ef777d",
       "style": "IPY_MODEL_cc902573a74c4e95b9f8601306f69135",
       "value": "<p style='font-family: IBM Plex Sans, Arial, Helvetica, sans-serif; font-size: 20px; font-weight: medium;'>Circuit Properties</p>"
      }
     },
     "68262dcb33994ed2930838dda60efdf9": {
      "model_module": "@jupyter-widgets/controls",
      "model_module_version": "1.5.0",
      "model_name": "DescriptionStyleModel",
      "state": {
       "description_width": ""
      }
     },
     "752346e4ce7c48ba8d8be20cc2124ce5": {
      "model_module": "@jupyter-widgets/base",
      "model_module_version": "1.2.0",
      "model_name": "LayoutModel",
      "state": {
       "grid_area": "right",
       "padding": "0px 0px 0px 0px",
       "width": "70px"
      }
     },
     "80998f260e4948feb309cc927c6b8c41": {
      "model_module": "@jupyter-widgets/controls",
      "model_module_version": "1.5.0",
      "model_name": "DescriptionStyleModel",
      "state": {
       "description_width": ""
      }
     },
     "8c1ba9881ac64bf9bd4a14afb283478f": {
      "model_module": "@jupyter-widgets/controls",
      "model_module_version": "1.5.0",
      "model_name": "DescriptionStyleModel",
      "state": {
       "description_width": ""
      }
     },
     "a4bf3a9e47874b4eaef4392cf1239e67": {
      "model_module": "@jupyter-widgets/controls",
      "model_module_version": "1.5.0",
      "model_name": "HTMLModel",
      "state": {
       "layout": "IPY_MODEL_3e75b720812a4d8080d686fe94f8f454",
       "style": "IPY_MODEL_8c1ba9881ac64bf9bd4a14afb283478f",
       "value": "<h5>Message</h5>"
      }
     },
     "a9cedba1d6734ac58da08ac11b97e6ae": {
      "model_module": "@jupyter-widgets/controls",
      "model_module_version": "1.5.0",
      "model_name": "DescriptionStyleModel",
      "state": {
       "description_width": ""
      }
     },
     "aeccaf65272a4de28fa5330814f6cea0": {
      "model_module": "@jupyter-widgets/controls",
      "model_module_version": "1.5.0",
      "model_name": "ButtonModel",
      "state": {
       "button_style": "primary",
       "description": "Clear",
       "layout": "IPY_MODEL_752346e4ce7c48ba8d8be20cc2124ce5",
       "style": "IPY_MODEL_c7a3d6f3003147b79bf9a0f84f9f1335"
      }
     },
     "b1fa61354bdf420ba3ffecacc9d1e8ac": {
      "model_module": "@jupyter-widgets/base",
      "model_module_version": "1.2.0",
      "model_name": "LayoutModel",
      "state": {
       "width": "145px"
      }
     },
     "b7c6d989a7d14db691af4350e6938aa6": {
      "model_module": "@jupyter-widgets/base",
      "model_module_version": "1.2.0",
      "model_name": "LayoutModel",
      "state": {
       "grid_template_areas": "\n                                       \". . . . right \"\n                                        ",
       "grid_template_columns": "20% 20% 20% 20% 20%",
       "width": "100%"
      }
     },
     "c7a3d6f3003147b79bf9a0f84f9f1335": {
      "model_module": "@jupyter-widgets/controls",
      "model_module_version": "1.5.0",
      "model_name": "ButtonStyleModel",
      "state": {}
     },
     "cc902573a74c4e95b9f8601306f69135": {
      "model_module": "@jupyter-widgets/controls",
      "model_module_version": "1.5.0",
      "model_name": "DescriptionStyleModel",
      "state": {
       "description_width": ""
      }
     },
     "d30fa01d2b8c4d5cb13701061e6b6929": {
      "model_module": "@jupyter-widgets/controls",
      "model_module_version": "1.5.0",
      "model_name": "HTMLModel",
      "state": {
       "layout": "IPY_MODEL_b1fa61354bdf420ba3ffecacc9d1e8ac",
       "style": "IPY_MODEL_80998f260e4948feb309cc927c6b8c41",
       "value": "<h5>Backend</h5>"
      }
     },
     "db6a75e822e743fbacedcc60485fb81d": {
      "model_module": "@jupyter-widgets/base",
      "model_module_version": "1.2.0",
      "model_name": "LayoutModel",
      "state": {
       "width": "190px"
      }
     },
     "e2dfe32695704ae8910ff4581301963f": {
      "model_module": "@jupyter-widgets/controls",
      "model_module_version": "1.5.0",
      "model_name": "HBoxModel",
      "state": {
       "children": [
        "IPY_MODEL_e8d9ea768d9d4a9cb21afe31423a05fb",
        "IPY_MODEL_d30fa01d2b8c4d5cb13701061e6b6929",
        "IPY_MODEL_6198f1943e3d497fabd9fdbb7d6a3610",
        "IPY_MODEL_2ea4d0c5be5d4d17b4f541ee73bc5b30",
        "IPY_MODEL_a4bf3a9e47874b4eaef4392cf1239e67"
       ],
       "layout": "IPY_MODEL_3d556c310fbf4024b5edb951ed9772d2"
      }
     },
     "e8d9ea768d9d4a9cb21afe31423a05fb": {
      "model_module": "@jupyter-widgets/controls",
      "model_module_version": "1.5.0",
      "model_name": "HTMLModel",
      "state": {
       "layout": "IPY_MODEL_db6a75e822e743fbacedcc60485fb81d",
       "style": "IPY_MODEL_27da45c5a35e43b59aa5dedd6874a96c",
       "value": "<h5>Job ID</h5>"
      }
     }
    },
    "version_major": 2,
    "version_minor": 0
   }
  }
 },
 "nbformat": 4,
 "nbformat_minor": 5
}
