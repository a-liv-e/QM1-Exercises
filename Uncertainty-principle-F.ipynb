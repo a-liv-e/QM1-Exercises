{
 "cells": [
  {
   "cell_type": "markdown",
   "id": "d098f4ed",
   "metadata": {},
   "source": [
    "# The uncertainty principle\n",
    "\n",
    "The uncertainty principle is one of the most celebrated parts of quantum mechanics, but at the same time it is also one of the most misintrepreted.\n",
    "\n",
    "In this exercise we will explicitly see the uncertainty principle at work and at the same time exemplify some of the pitfalls that often leads to misintrepretations of the uncertainty principle. \n",
    "\n",
    "**Learning goal:** To be able to apply the uncertainty principle to two operators in a given state."
   ]
  },
  {
   "cell_type": "markdown",
   "id": "e8a2f143-a6b5-492d-90cd-3da4efd5bd99",
   "metadata": {
    "tags": []
   },
   "source": [
    "**Background**\n",
    "\n",
    "The uncertaintly principle is a statement which is relevant if we want to measure two different physical quantities for a given quantum system. So let's consider two Hermitian operators $A$ and $B$ which represent the two physical quantities. \n",
    "\n",
    "You will find a deriviation of the uncertainty principle in most textbooks on quantum physics, see f.ex. section 3.5.1 Griffiths and Schroeter (3ed) or section 1.4.5 Sakurai and Napolitano (3ed). The principle is typically stated as \n",
    "\n",
    "\\begin{equation}\n",
    "\\sigma_A^2\\sigma_B^2 \\geq \\left(\\frac{1}{2i}\\left\\langle\\big[A,B\\big]\\right\\rangle\\right)^2 \\ .\n",
    "\\end{equation}\n",
    "\n",
    "Now there is a lot going on in this formula, and a lot of it is hidden in the quite compact notation we use! Most importantly note that the uncertainty principle is a statement about expectation values in a given state: Both $\\sigma_A^2$, $\\sigma_B^2$ and $\\left\\langle\\big[A,B\\big]\\right\\rangle$ are expectation values in a given state $|\\psi\\rangle$. To see this let's write things out more explicitly. We have on the left hand side the variance\n",
    "\n",
    "\\begin{equation}\n",
    "\\sigma_A^2 =\\big\\langle \\psi|A^2|\\psi\\big\\rangle-\\big\\langle \\psi|A|\\psi\\big\\rangle^2\n",
    "\\end{equation}\n",
    "\n",
    "and likewise for $B$. On the right hand side we have the expectation value of commutator  \n",
    "\n",
    "\\begin{equation}\n",
    "\\left\\langle\\big[A,B\\big]\\right\\rangle = \\left\\langle\\psi|\\big[A,B\\big]|\\psi\\right\\rangle \\ .\n",
    "\\end{equation}\n",
    "\n",
    "\n",
    "So the uncertainty principle is a statement about the variances in a given state of two physical operators and the expectation value of their commutator in the same state. The state can be anything we like but it must be the same state used in all expectation values.\n",
    "\n"
   ]
  },
  {
   "cell_type": "markdown",
   "id": "5cabd8f2-18da-4ba0-af88-4407277579a4",
   "metadata": {},
   "source": [
    "**The operators we will work with**\n",
    "\n",
    "In order to get a better understanding of what the uncertainty principle implies we will work through a specific example. To keep things simple we will work only with a single qubit such that our Hilbert space is two dimensional. \n",
    "\n",
    "As the physical observables we will choose the Hermitian operators $M_x$ and $M_y$, which expressed in the basis $|0\\rangle$ and $|1\\rangle$ becomes\n",
    "\n",
    "\\begin{equation}\n",
    "M_x=\\frac{1}{2}\\left(\\begin{array}{cc} 1 & 1 \\\\ 1 & 1 \\end{array}\\right) \n",
    "\\end{equation}\n",
    "\n",
    "and\n",
    "\n",
    "\\begin{equation}\n",
    "M_y=\\frac{1}{2}\\left(\\begin{array}{cc} 1 & i \\\\ -i & 1 \\end{array}\\right) \\ .\n",
    "\\end{equation}\n",
    "\n",
    "**Note:** The oprators $M_x$ and $M_y$ are just rotated versions of our standard measuring operator \n",
    "\n",
    "\\begin{equation}\n",
    "M=\\left(\\begin{array}{cc} 0 & 0 \\\\ 0 & 1 \\end{array}\\right) \\ .\n",
    "\\end{equation}\n",
    "\n",
    "That is, $M_x=R_y(-\\pi/2)MR_y(\\pi/2)$ and $M_y=R_x(\\pi/2)MR_x(-\\pi/2)$, where $R_x$ and $R_y$ are rotations about the respective axis. Since these are unitary rotations the eigenvalues of $M_x$ and $M_y$ are exactly the same as of $M$, namely $0$ and $1$.\n",
    "\n",
    "\n",
    "\n",
    "**Exercise 1:** Determine the commutator $[M_x,M_y]$, which will enter on the right hand side of the ucertainty principle.\n",
    "\n",
    "\n",
    "\n",
    "**The state we will work with**\n",
    "\n",
    "The uncertainty principle is a statement about expectation values in some state $|\\psi\\rangle$. It holds for any state, and as an example of a state we will choose $|0\\rangle$.\n",
    "\n",
    "**Exercise 2:** Determine the expectation value of the commutator $[M_x,M_y]$ in the state $|0\\rangle$, ie. compute $\\langle 0|[M_x,M_y]|0\\rangle$.\n",
    "\n",
    "Now we could go on an compute $\\sigma_{M_x}$ and $\\sigma_{M_y}$ in the state $|\\psi\\rangle$ as well, and check that the uncertainty principle is satisfied (if you like by all means go ahead and do so, it is a nice exercise). But rather than doing analytic computations let's try to do several experiments and determine $\\sigma_{M_x}$ and $\\sigma_{M_y}$ from these. These experiments will (hopefully) give a better understanding of what the uncertainty principle does and does not state.  \n"
   ]
  },
  {
   "cell_type": "markdown",
   "id": "251d70b3-122d-41de-b323-dfb48c048a61",
   "metadata": {},
   "source": [
    "Let's first import the relevant packages"
   ]
  },
  {
   "cell_type": "code",
   "execution_count": 1,
   "id": "a6c90373",
   "metadata": {},
   "outputs": [],
   "source": [
    "import numpy as np\n",
    "# Importing standard Qiskit libraries\n",
    "from qiskit import QuantumCircuit, transpile, Aer, IBMQ\n",
    "from qiskit.tools.jupyter import *\n",
    "from qiskit.visualization import *\n",
    "from ibm_quantum_widgets import *\n",
    "from math import pi, sqrt\n",
    "\n",
    "# Loading your IBM Q account(s)\n",
    "provider = IBMQ.load_account()"
   ]
  },
  {
   "cell_type": "markdown",
   "id": "86869400-77f5-421b-ba6e-623088c20265",
   "metadata": {},
   "source": [
    "Let's try to determine the variances that are on the left hand side of the uncertainty relation.\n",
    "\n",
    "**Step 1:** Measure $M_x$ many times. \n",
    "\n",
    "To determine the variance $\\sigma_{M_x}$ we need to measure measure $M_x$ in the state $|0\\rangle$ many times and see how the result varies. By default QisKit always starts with the state $|0\\rangle$ so we get the state we want automatically. To measure $M_x$ we must first rotate the measuring device such that it measures along the $x$-axis rather than along the $z$-axis (which is default). To do so we add a rotation by $\\pi/2$ about the $y$-axis. "
   ]
  },
  {
   "cell_type": "code",
   "execution_count": 2,
   "id": "6023f9ce-c1ad-48be-b382-dae55b7a1089",
   "metadata": {
    "scrolled": true
   },
   "outputs": [
    {
     "data": {
      "image/png": "[encoded data removed]",
      "text/plain": [
       "<Figure size 193.726x144.48 with 1 Axes>"
      ]
     },
     "execution_count": 2,
     "metadata": {},
     "output_type": "execute_result"
    }
   ],
   "source": [
    "circ = QuantumCircuit(1,1)\n",
    "circ.ry(pi/2,0)\n",
    "circ.measure(0,0)\n",
    "circ.draw()"
   ]
  },
  {
   "cell_type": "markdown",
   "id": "4ece43cd-c412-49ef-ac9a-514d497b8391",
   "metadata": {},
   "source": [
    "Now let's run it 1024 times.\n",
    "\n",
    "\n",
    "**Note:** Each time we do the experiment we start the system in the state $|0\\rangle$."
   ]
  },
  {
   "cell_type": "code",
   "execution_count": 3,
   "id": "34c9e0ad-038a-4b7b-8b48-011b3ca2c7d5",
   "metadata": {
    "tags": []
   },
   "outputs": [
    {
     "data": {
      "image/png": "[encoded data removed]",
      "text/plain": [
       "<Figure size 504x360 with 1 Axes>"
      ]
     },
     "execution_count": 3,
     "metadata": {},
     "output_type": "execute_result"
    }
   ],
   "source": [
    "from qiskit import QuantumCircuit, assemble, Aer\n",
    "from qiskit.visualization import plot_histogram\n",
    "\n",
    "sim = Aer.get_backend('qasm_simulator')  # this is the simulator we'll use\n",
    "qobj = assemble(circ)  # this turns the circuit into an object our backend can run\n",
    "result = sim.run(qobj).result()  # we run the experiment and get the result from that experiment\n",
    "# from the results, we get a dictionary containing the number of times (counts)\n",
    "# each result appeared\n",
    "counts = result.get_counts()\n",
    "# and display it on a histogram\n",
    "plot_histogram(counts)"
   ]
  },
  {
   "cell_type": "code",
   "execution_count": 4,
   "id": "21189c8f-26df-43f0-868f-13d01d3128fe",
   "metadata": {},
   "outputs": [
    {
     "data": {
      "text/plain": [
       "{'0': 523, '1': 501}"
      ]
     },
     "execution_count": 4,
     "metadata": {},
     "output_type": "execute_result"
    }
   ],
   "source": [
    "counts"
   ]
  },
  {
   "cell_type": "markdown",
   "id": "0711ab87-ab21-4903-b46e-17a4daa185d1",
   "metadata": {},
   "source": [
    "**Exercise 3:** Show that if we have $n$ measurements of an operator, $M$, with eigenvalues 0 and 1, then we can get the variance by \n",
    "\n",
    "\\begin{equation}\n",
    "\\sigma_M^2 =\\frac{1}{n}\\left(n_1 (1-{\\bar m})^2 + n_0 {\\bar m}^2\\right)\n",
    "\\end{equation}\n",
    "\n",
    "where $n_0$ ($n_1$) are the number of measurements that gave the result 0 (1) and\n",
    "\n",
    "\\begin{equation}\n",
    "{\\bar m} = \\frac{n_1}{n} \n",
    "\\end{equation}\n",
    "\n",
    "is the average of the measurements.\n",
    "\n",
    "**Exercise 4:** \n",
    "Compute the variance, $\\sigma_{M_x}^2$, of $M_x$ in the state $|0\\rangle$ from the experimental data just obtained."
   ]
  },
  {
   "cell_type": "markdown",
   "id": "3169eb3c-1aed-4a22-9e79-f3a6496eb40c",
   "metadata": {},
   "source": [
    "**Step 2:** Now to determine also $\\sigma_{M_y}^2$, let's measure $M_y$ many times. \n",
    "\n",
    "**Note:** Each time we do the experiment we again start the system in the state $|0\\rangle$. We do so because we want to measure the variance of $M_y$ in the state $|0\\rangle$. This is the quantity which enters the uncertainty relation.\n",
    "\n",
    "This time to alighn the measuring device with the $y$-axis we perform a rotation about the $x$-axis through the angle $-\\pi/2$."
   ]
  },
  {
   "cell_type": "code",
   "execution_count": 5,
   "id": "a69e03dd-0fcd-4fd9-86d3-a67aa9dee6d0",
   "metadata": {},
   "outputs": [
    {
     "data": {
      "image/png": "[encoded data removed]",
      "text/plain": [
       "<Figure size 193.726x144.48 with 1 Axes>"
      ]
     },
     "execution_count": 5,
     "metadata": {},
     "output_type": "execute_result"
    }
   ],
   "source": [
    "circ = QuantumCircuit(1,1)\n",
    "circ.rx(-pi/2,0)\n",
    "circ.measure(0,0)\n",
    "circ.draw()"
   ]
  },
  {
   "cell_type": "code",
   "execution_count": 6,
   "id": "aad2b6e5-910e-4531-aecd-dadc91d7dbbe",
   "metadata": {},
   "outputs": [
    {
     "data": {
      "image/png": "[encoded data removed]",
      "text/plain": [
       "<Figure size 504x360 with 1 Axes>"
      ]
     },
     "execution_count": 6,
     "metadata": {},
     "output_type": "execute_result"
    }
   ],
   "source": [
    "from qiskit import QuantumCircuit, assemble, Aer\n",
    "from qiskit.visualization import plot_histogram\n",
    "\n",
    "sim = Aer.get_backend('qasm_simulator')  # this is the simulator we'll use\n",
    "qobj = assemble(circ)  # this turns the circuit into an object our backend can run\n",
    "result = sim.run(qobj).result()  # we run the experiment and get the result from that experiment\n",
    "# from the results, we get a dictionary containing the number of times (counts)\n",
    "# each result appeared\n",
    "counts = result.get_counts()\n",
    "# and display it on a histogram\n",
    "plot_histogram(counts)"
   ]
  },
  {
   "cell_type": "code",
   "execution_count": 7,
   "id": "887a56c0-9948-41d2-b370-e09b4ee36bc4",
   "metadata": {},
   "outputs": [
    {
     "data": {
      "text/plain": [
       "{'0': 525, '1': 499}"
      ]
     },
     "execution_count": 7,
     "metadata": {},
     "output_type": "execute_result"
    }
   ],
   "source": [
    "counts"
   ]
  },
  {
   "cell_type": "markdown",
   "id": "06c694b8-2111-47ea-8292-530aa0e5ccdd",
   "metadata": {},
   "source": [
    "As you most likely have guessed we now want to:\n",
    "\n",
    "**Exercise 5:** Compute the variance, $\\sigma_{M_y}^2$, of $M_y$ in the state $|0\\rangle$ from the experimental data just obtained."
   ]
  },
  {
   "cell_type": "markdown",
   "id": "541e9364-25a6-4ab5-8396-20fc1f6ee99c",
   "metadata": {},
   "source": [
    "**Exercise 6:** Use the values you have just obtained experimentally for $\\sigma_{M_x}^2$ and $\\sigma_{M_y}^2$ as well a as your result from Exercise 2 to check if the Uncertainty principle is statisfied for the specific operators and state we have just considered ($M_x$, $M_y$ and $|\\psi\\rangle=0$).\n",
    "\n",
    "**Note:** As we do not have infinite statistics here, our experimental values for the variaces of $M_x$ and $M_y$ in the state $|0\\rangle$ are are not exact. "
   ]
  },
  {
   "cell_type": "markdown",
   "id": "54d991a2-cdca-4b93-ab98-f944e9235cd5",
   "metadata": {},
   "source": [
    "**Summary, this far:** We have now explicitly performed experiments to determine the variances that enter the uncertainty relation. This hopefully have given you a good insight into what the uncertainty princciple is a statement about."
   ]
  },
  {
   "cell_type": "markdown",
   "id": "a2760a88-aa49-4858-aadc-167ae8c7a114",
   "metadata": {},
   "source": [
    "**A common misintrepretation** \n",
    "\n",
    "Now that we have explicitly seen what the uncertainty principle states, let's look at a common misintrepretation.\n",
    "\n",
    "We start again with a measurement of $M_x$ and this time we only need to do it once.\n",
    "\n",
    "We put the system in the state $|0\\rangle$, rotate the measuring devise and measure $M_x$. Here we go!"
   ]
  },
  {
   "cell_type": "code",
   "execution_count": 8,
   "id": "e83d8304-253e-4729-b468-e48e580236a1",
   "metadata": {
    "scrolled": true
   },
   "outputs": [
    {
     "data": {
      "image/png": "[encoded data removed]",
      "text/plain": [
       "<Figure size 193.726x144.48 with 1 Axes>"
      ]
     },
     "execution_count": 8,
     "metadata": {},
     "output_type": "execute_result"
    }
   ],
   "source": [
    "circ = QuantumCircuit(1,1)\n",
    "circ.ry(pi/2,0)\n",
    "circ.measure(0,0)\n",
    "circ.draw()"
   ]
  },
  {
   "cell_type": "code",
   "execution_count": 9,
   "id": "2e004117-a930-4723-b16b-bb3e867f7252",
   "metadata": {
    "scrolled": true
   },
   "outputs": [
    {
     "name": "stdout",
     "output_type": "stream",
     "text": [
      "['0']\n"
     ]
    }
   ],
   "source": [
    "simulator = Aer.get_backend('aer_simulator')\n",
    "\n",
    "# result = simulator.run(circ).result()\n",
    "# counts = result.get_counts(circ)\n",
    "# plot_histogram(counts, title='Bell-State counts')\n",
    "\n",
    "result = simulator.run(circ, shots=1, memory=True).result()\n",
    "memory = result.get_memory(circ)\n",
    "print(memory)"
   ]
  },
  {
   "cell_type": "markdown",
   "id": "97ab13c0-631b-4b99-bb9b-db805b27e7f1",
   "metadata": {},
   "source": [
    "OK, so now we have measured $M_x$ and we got some value (0 or 1). Suppose we now want to measure $M_y$ as well. First we need to rotate the measuring device such that it measures along the $y$-axis. Since it at present measures along the $x$-axis we simply need to rotate it by $\\pi/2$ around the $z$-axis.\n",
    " \n",
    "So we rotate the measuring devise to the $y$-axis and then measure $M_y$"
   ]
  },
  {
   "cell_type": "code",
   "execution_count": 10,
   "id": "936ddb85-2a4d-4cbb-b338-836b4fc2b2ab",
   "metadata": {},
   "outputs": [
    {
     "data": {
      "image/png": "[encoded data removed]",
      "text/plain": [
       "<Figure size 314.126x144.48 with 1 Axes>"
      ]
     },
     "execution_count": 10,
     "metadata": {},
     "output_type": "execute_result"
    }
   ],
   "source": [
    "circ = QuantumCircuit(1,2)\n",
    "circ.ry(pi/2,0)\n",
    "circ.measure(0,0)\n",
    "circ.rz(pi/2,0)\n",
    "circ.measure(0,1)\n",
    "circ.draw()"
   ]
  },
  {
   "cell_type": "code",
   "execution_count": 14,
   "id": "fbcfff5e-28d3-4906-b29b-d4975f5aeac1",
   "metadata": {
    "scrolled": true
   },
   "outputs": [
    {
     "name": "stdout",
     "output_type": "stream",
     "text": [
      "['00']\n"
     ]
    }
   ],
   "source": [
    "simulator = Aer.get_backend('aer_simulator')\n",
    "\n",
    "# result = simulator.run(circ).result()\n",
    "# counts = result.get_counts(circ)\n",
    "# plot_histogram(counts, title='Bell-State counts')\n",
    "\n",
    "result = simulator.run(circ, shots=1, memory=True).result()\n",
    "memory = result.get_memory(circ)\n",
    "print(memory)"
   ]
  },
  {
   "cell_type": "markdown",
   "id": "3f426c26-3e7d-4d7d-9f25-68d911f9df89",
   "metadata": {},
   "source": [
    "**How to read the result:** The rightmost digit is the outcome of the measurement of $M_x$ and the leftmost of $M_y$."
   ]
  },
  {
   "cell_type": "markdown",
   "id": "c74cf399-bd4e-4356-ab6a-9b4712cccb46",
   "metadata": {},
   "source": [
    "**Wait!?** \n",
    "\n",
    "We just got a value for both the measurement of $M_x$ and of $M_y$! But $wait$ did the uncertainty principle not tell us that this was impossible? \n",
    "\n",
    "**No!** If you do a measurement you will always get some result and if you do two measurements you will always get two results. The first measurement can (an most likely will) affect the result of the second measurement, and if we had done the two measurements in the opposite order the result most likely would have been different (see the exercise on repeated measurements). But it is possible to do the two measurements, however **only one after the other**."
   ]
  },
  {
   "cell_type": "markdown",
   "id": "154198c0-4b96-42c3-b17a-f5cea987eeeb",
   "metadata": {},
   "source": [
    "**Take home:** The uncertainty principle is a relation between expectation values of quantum mechanical operators. Hence it is a statement about how the results of a measurement vary when repeated many times (just as we did in the first part above). It is only possible to obtain a zero variance of two different operators in a given state if the expectationvalue of the commutator of these two operators vanish.\n",
    "\n",
    "This exercise hopefully has helped you to understand how to (and not to) interpret the uncertainty principle. "
   ]
  }
 ],
 "metadata": {
  "kernelspec": {
   "display_name": "Qiskit v0.33.1 (ipykernel)",
   "language": "python",
   "name": "python3"
  },
  "language_info": {
   "codemirror_mode": {
    "name": "ipython",
    "version": 3
   },
   "file_extension": ".py",
   "mimetype": "text/x-python",
   "name": "python",
   "nbconvert_exporter": "python",
   "pygments_lexer": "ipython3",
   "version": "3.8.10"
  },
  "widgets": {
   "application/vnd.jupyter.widget-state+json": {
    "state": {
     "0117834f78a045e2b16bd69148070333": {
      "model_module": "@jupyter-widgets/base",
      "model_module_version": "1.2.0",
      "model_name": "LayoutModel",
      "state": {
       "margin": "0px 0px 0px 37px",
       "width": "600px"
      }
     },
     "0f4a6202bb8d470390a3d2c69af14411": {
      "model_module": "@jupyter-widgets/base",
      "model_module_version": "1.2.0",
      "model_name": "LayoutModel",
      "state": {
       "width": "145px"
      }
     },
     "12a9bb167f2341f284814f83666e53cc": {
      "model_module": "@jupyter-widgets/controls",
      "model_module_version": "1.5.0",
      "model_name": "DescriptionStyleModel",
      "state": {
       "description_width": ""
      }
     },
     "2ca79bb3c24b454b918c3a554ffb8f77": {
      "model_module": "@jupyter-widgets/controls",
      "model_module_version": "1.5.0",
      "model_name": "ButtonModel",
      "state": {
       "button_style": "primary",
       "description": "Clear",
       "layout": "IPY_MODEL_9830d21ca5da4548a98bd90c9c0215a0",
       "style": "IPY_MODEL_e4a76a50c3fe4b0aa34bc9f30ad5e6b2"
      }
     },
     "303152643b434100a44e2f6d320b7e81": {
      "model_module": "@jupyter-widgets/base",
      "model_module_version": "1.2.0",
      "model_name": "LayoutModel",
      "state": {}
     },
     "33b7b01bd3354da79a05cb4216e17414": {
      "model_module": "@jupyter-widgets/controls",
      "model_module_version": "1.5.0",
      "model_name": "HTMLModel",
      "state": {
       "layout": "IPY_MODEL_0f4a6202bb8d470390a3d2c69af14411",
       "style": "IPY_MODEL_6b0bb25fa55642958737744afc767b15",
       "value": "<h5>Backend</h5>"
      }
     },
     "372228dcf2104cecba07efd6cb6c8572": {
      "model_module": "@jupyter-widgets/base",
      "model_module_version": "1.2.0",
      "model_name": "LayoutModel",
      "state": {
       "width": "95px"
      }
     },
     "4128a6bac9e04865b48b05dce8e86c36": {
      "model_module": "@jupyter-widgets/controls",
      "model_module_version": "1.5.0",
      "model_name": "HTMLModel",
      "state": {
       "layout": "IPY_MODEL_ddb09e6beece4b2fa3b38420cf3eecd5",
       "style": "IPY_MODEL_589063752e8f45fdabe618a22eec6365",
       "value": "<p style='font-family: IBM Plex Sans, Arial, Helvetica, sans-serif; font-size: 20px; font-weight: medium;'>Circuit Properties</p>"
      }
     },
     "43a9183c9e9345bfbdaeaacc1350a648": {
      "model_module": "@jupyter-widgets/controls",
      "model_module_version": "1.5.0",
      "model_name": "HTMLModel",
      "state": {
       "layout": "IPY_MODEL_372228dcf2104cecba07efd6cb6c8572",
       "style": "IPY_MODEL_560dc4732a42418c80f529ab351d6472",
       "value": "<h5>Status</h5>"
      }
     },
     "560dc4732a42418c80f529ab351d6472": {
      "model_module": "@jupyter-widgets/controls",
      "model_module_version": "1.5.0",
      "model_name": "DescriptionStyleModel",
      "state": {
       "description_width": ""
      }
     },
     "589063752e8f45fdabe618a22eec6365": {
      "model_module": "@jupyter-widgets/controls",
      "model_module_version": "1.5.0",
      "model_name": "DescriptionStyleModel",
      "state": {
       "description_width": ""
      }
     },
     "5d9d0ea9d3394cebba682215d1c30d6b": {
      "model_module": "@jupyter-widgets/controls",
      "model_module_version": "1.5.0",
      "model_name": "HBoxModel",
      "state": {
       "children": [
        "IPY_MODEL_9b3949ba7a684879a37f95259de86d5c",
        "IPY_MODEL_33b7b01bd3354da79a05cb4216e17414",
        "IPY_MODEL_43a9183c9e9345bfbdaeaacc1350a648",
        "IPY_MODEL_a403fa4d6d084225929dc2e888a1b86a",
        "IPY_MODEL_88aab9a942174046bae52a942fc54026"
       ],
       "layout": "IPY_MODEL_0117834f78a045e2b16bd69148070333"
      }
     },
     "6b0bb25fa55642958737744afc767b15": {
      "model_module": "@jupyter-widgets/controls",
      "model_module_version": "1.5.0",
      "model_name": "DescriptionStyleModel",
      "state": {
       "description_width": ""
      }
     },
     "6ec5c5004a08495685121342efa0c226": {
      "model_module": "@jupyter-widgets/base",
      "model_module_version": "1.2.0",
      "model_name": "LayoutModel",
      "state": {
       "width": "70px"
      }
     },
     "883e567ded1a45468188ea432e71bb83": {
      "model_module": "@jupyter-widgets/base",
      "model_module_version": "1.2.0",
      "model_name": "LayoutModel",
      "state": {
       "width": "190px"
      }
     },
     "88aab9a942174046bae52a942fc54026": {
      "model_module": "@jupyter-widgets/controls",
      "model_module_version": "1.5.0",
      "model_name": "HTMLModel",
      "state": {
       "layout": "IPY_MODEL_303152643b434100a44e2f6d320b7e81",
       "style": "IPY_MODEL_a7fd75a6aa43478788afdb3c521f7a29",
       "value": "<h5>Message</h5>"
      }
     },
     "9830d21ca5da4548a98bd90c9c0215a0": {
      "model_module": "@jupyter-widgets/base",
      "model_module_version": "1.2.0",
      "model_name": "LayoutModel",
      "state": {
       "grid_area": "right",
       "padding": "0px 0px 0px 0px",
       "width": "70px"
      }
     },
     "9b3949ba7a684879a37f95259de86d5c": {
      "model_module": "@jupyter-widgets/controls",
      "model_module_version": "1.5.0",
      "model_name": "HTMLModel",
      "state": {
       "layout": "IPY_MODEL_883e567ded1a45468188ea432e71bb83",
       "style": "IPY_MODEL_12a9bb167f2341f284814f83666e53cc",
       "value": "<h5>Job ID</h5>"
      }
     },
     "a403fa4d6d084225929dc2e888a1b86a": {
      "model_module": "@jupyter-widgets/controls",
      "model_module_version": "1.5.0",
      "model_name": "HTMLModel",
      "state": {
       "layout": "IPY_MODEL_6ec5c5004a08495685121342efa0c226",
       "style": "IPY_MODEL_a6b6b16b3b9c4224a4acedd5faf6ebf1",
       "value": "<h5>Queue</h5>"
      }
     },
     "a6b6b16b3b9c4224a4acedd5faf6ebf1": {
      "model_module": "@jupyter-widgets/controls",
      "model_module_version": "1.5.0",
      "model_name": "DescriptionStyleModel",
      "state": {
       "description_width": ""
      }
     },
     "a7fd75a6aa43478788afdb3c521f7a29": {
      "model_module": "@jupyter-widgets/controls",
      "model_module_version": "1.5.0",
      "model_name": "DescriptionStyleModel",
      "state": {
       "description_width": ""
      }
     },
     "ddb09e6beece4b2fa3b38420cf3eecd5": {
      "model_module": "@jupyter-widgets/base",
      "model_module_version": "1.2.0",
      "model_name": "LayoutModel",
      "state": {
       "margin": "0px 0px 10px 0px"
      }
     },
     "e4a76a50c3fe4b0aa34bc9f30ad5e6b2": {
      "model_module": "@jupyter-widgets/controls",
      "model_module_version": "1.5.0",
      "model_name": "ButtonStyleModel",
      "state": {}
     },
     "ecfad463945c43ef8ecd6cd9fb1a2fd7": {
      "model_module": "@jupyter-widgets/controls",
      "model_module_version": "1.5.0",
      "model_name": "GridBoxModel",
      "state": {
       "children": [
        "IPY_MODEL_2ca79bb3c24b454b918c3a554ffb8f77"
       ],
       "layout": "IPY_MODEL_fb8ef9690be7481ab53e50141046418e"
      }
     },
     "fb8ef9690be7481ab53e50141046418e": {
      "model_module": "@jupyter-widgets/base",
      "model_module_version": "1.2.0",
      "model_name": "LayoutModel",
      "state": {
       "grid_template_areas": "\n                                       \". . . . right \"\n                                        ",
       "grid_template_columns": "20% 20% 20% 20% 20%",
       "width": "100%"
      }
     }
    },
    "version_major": 2,
    "version_minor": 0
   }
  }
 },
 "nbformat": 4,
 "nbformat_minor": 5
}
