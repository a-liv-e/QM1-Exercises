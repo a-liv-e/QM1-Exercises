{
 "cells": [
  {
   "cell_type": "markdown",
   "id": "2e598063",
   "metadata": {
    "tags": []
   },
   "source": [
    "## The variance of position\n",
    "\n",
    "We have already witnessed the truely remarkable fact that even if we know the wave function of a particle we can not with certainty predict where the particle will be deceted if we masure its position (unless the wave function is a $\\delta$-function).\n",
    "\n",
    "Therefore if we repeat an experiment where we measure the position of a particle with a given wave function many times, we will obtain a distribution of the positions where we have detected the particle.\n",
    "\n",
    "As a first way to describe this distribution we introduced the expectation value of the position, that is, the average of the distribution. The expectation value for the position is a very important quantity, however, the fluctuations about this average position are at least as interesting! A measure for these fluctuations is **the variance of the position** and its square root **the standard deviation**. \n",
    "\n",
    "Why is the variance so interesting? Because it has **no classical counterpart**!\n",
    "\n",
    "**What:** We will set up a spatial wave function and use measurements of the position to compute the variance of the position. \n",
    "\n",
    "**Learning objective:** To understand better the variance of position and to get expirence with how it can be measured. "
   ]
  },
  {
   "cell_type": "markdown",
   "id": "c0a78d33-8baa-4d85-bdd7-c197b706b75a",
   "metadata": {},
   "source": [
    "**Reminder:**\n",
    "\n",
    "From Griffiths and Schroeter chapter 1 we learned that if we know the wave function $\\Psi(x,t)$ for a particle we can compute the variance of the position\n",
    "\n",
    "\\begin{equation}\n",
    "\\sigma_x^2 = \\langle x^2 \\rangle - \\langle x\\rangle^2 \n",
    "\\end{equation}\n",
    "\n",
    "by solving the integrals \n",
    "\n",
    "\\begin{equation}\n",
    "\\langle x^2 \\rangle = \\int_{-\\infty}^\\infty x^2 \\, |\\Psi(x,t)|^2 dx \\ \n",
    "\\end{equation}\n",
    "\n",
    "and\n",
    "\n",
    "\\begin{equation}\n",
    "\\langle x \\rangle = \\int_{-\\infty}^\\infty x \\, |\\Psi(x,t)|^2 dx \\ .\n",
    "\\end{equation}\n",
    "\n",
    "But how would we measure this variance in an experiment?\n",
    "\n",
    "Obviously the best way to understand is to set up an experiment and measure the variance. So let's give it a try!"
   ]
  },
  {
   "cell_type": "markdown",
   "id": "b1795082-cc79-4a94-a598-87d6c3b3a5ad",
   "metadata": {},
   "source": [
    "**The wave function:** \n",
    "\n",
    "We will again think of each qubit as a possible position in a discrete space with 6 sites and fix time to $t=0$. So our wave function will be $\\Psi(x_j,t=0)$ where $x_j=aj$ with $j=0,1,2,3,4,5$ are the possible discrete positions (as always on IBM Q the counting starts with 0.)\n",
    "\n",
    "Here we consider will consider the two wave functions $\\Psi_1$ and $\\Psi_2$\n",
    "\n",
    "\\begin{eqnarray}\n",
    "\\Psi_1(x_0,t=0) & = & 0 \\\\ \n",
    "\\Psi_1(x_1,t=0) & = & 0 \\\\\n",
    "\\Psi_1(x_2,t=0) & = & 1/\\sqrt{2} \\\\ \n",
    "\\Psi_1(x_3,t=0) & = & 1/\\sqrt{2} \\\\ \n",
    "\\Psi_1(x_4,t=0) & = & 0 \\\\ \n",
    "\\Psi_1(x_5,t=0) & = & 0 \\ .\n",
    "\\end{eqnarray}\n",
    "\n",
    "and \n",
    "\n",
    "\n",
    "\\begin{eqnarray}\n",
    "\\Psi_2(x_0,t=0) & = & 0 \\\\ \n",
    "\\Psi_2(x_1,t=0) & = & 1/2 \\\\\n",
    "\\Psi_2(x_2,t=0) & = & 1/2 \\\\ \n",
    "\\Psi_2(x_3,t=0) & = & 1/2 \\\\ \n",
    "\\Psi_2(x_4,t=0) & = & 1/2 \\\\ \n",
    "\\Psi_2(x_5,t=0) & = & 0 \\ .\n",
    "\\end{eqnarray}\n",
    "\n",
    "\n",
    "\n",
    "**Exercise 1:** In which state do you expect that we will observe the largest variance? (No calculations allowed.)"
   ]
  },
  {
   "cell_type": "markdown",
   "id": "4aeead5f-3859-4223-860b-369e81e84f86",
   "metadata": {},
   "source": [
    "OK, let's get on with the experiments! As always we first import the relevant libraries:"
   ]
  },
  {
   "cell_type": "code",
   "execution_count": 3,
   "id": "2e104679",
   "metadata": {},
   "outputs": [
    {
     "name": "stderr",
     "output_type": "stream",
     "text": [
      "ibmqfactory.load_account:WARNING:2021-12-21 09:20:16,290: Credentials are already in use. The existing account in the session will be replaced.\n"
     ]
    }
   ],
   "source": [
    "import numpy as np\n",
    "# Importing standard Qiskit libraries\n",
    "from qiskit import QuantumCircuit, ClassicalRegister, QuantumRegister, transpile, Aer, IBMQ\n",
    "from qiskit.tools.jupyter import *\n",
    "from qiskit.visualization import *\n",
    "from ibm_quantum_widgets import *\n",
    "from qiskit import assemble\n",
    "\n",
    "# Loading your IBM Quantum account(s)\n",
    "provider = IBMQ.load_account()"
   ]
  },
  {
   "cell_type": "markdown",
   "id": "14bfbffa-1193-4350-b9dd-224d071b0f73",
   "metadata": {},
   "source": [
    ".. and define the routines that allow us to set up the wave function "
   ]
  },
  {
   "cell_type": "code",
   "execution_count": 4,
   "id": "ada4197c-ef51-4a08-97f3-dc3d177025f4",
   "metadata": {},
   "outputs": [],
   "source": [
    "#initialising a quantum circuit. \n",
    "def initial(N,M):\n",
    "    q = QuantumRegister(N) #N is th number of q-bits\n",
    "    c = ClassicalRegister(M) #M is the number of bits\n",
    "    qc = QuantumCircuit(q,c)\n",
    "    return qc\n",
    "\n",
    "\n",
    "#make desired vector: \n",
    "def state(liste,qc): \n",
    "    C = np.array(liste) #len(C) is the number of states. \n",
    "\n",
    "    N = len(C)\n",
    "    H_d = 2**N\n",
    "    \n",
    "    fullstate = np.zeros(H_d)\n",
    "    for k in range(N):\n",
    "        fullstate[(1 << k) ]+=C[k]\n",
    "        \n",
    "    norm = np.linalg.norm(fullstate)\n",
    "    fullstate = fullstate/norm\n",
    "    return qc.initialize(fullstate.tolist(), qc.qubits)\n"
   ]
  },
  {
   "cell_type": "markdown",
   "id": "9334f470-d2ae-474c-99be-a047afffb5a7",
   "metadata": {},
   "source": [
    "Now let's set up the first experiment with $\\Psi_1$:"
   ]
  },
  {
   "cell_type": "code",
   "execution_count": 5,
   "id": "06fc6269-5a77-42ba-b4e1-1fadddad8bd6",
   "metadata": {},
   "outputs": [
    {
     "data": {
      "image/png": "[encoded data removed]",
      "text/plain": [
       "<Figure size 821.978x445.48 with 1 Axes>"
      ]
     },
     "execution_count": 5,
     "metadata": {},
     "output_type": "execute_result"
    }
   ],
   "source": [
    "N=6\n",
    "qc = initial(N,N)\n",
    "\n",
    "state([0,0,1/np.sqrt(2),1/np.sqrt(2),0,0],qc)\n",
    "\n",
    "qc.barrier() # and now measure the position\n",
    "qc.measure(0,0)\n",
    "qc.measure(1,1)\n",
    "qc.measure(2,2)\n",
    "qc.measure(3,3)\n",
    "qc.measure(4,4)\n",
    "qc.measure(5,5)\n",
    "qc.draw()"
   ]
  },
  {
   "cell_type": "markdown",
   "id": "1200bfae-6ad3-4173-b792-71b894ca94ef",
   "metadata": {},
   "source": [
    "... and run the experiment 1024 times to compute the variance"
   ]
  },
  {
   "cell_type": "code",
   "execution_count": 14,
   "id": "014e6ba1-62a2-484a-afb4-39ab837e0fdb",
   "metadata": {},
   "outputs": [
    {
     "name": "stdout",
     "output_type": "stream",
     "text": [
      "For our first wave function\n",
      "\n",
      "Expectation value of postion: 2.51 a\n",
      "\n",
      "Variance of postion: 1.31 a^2\n",
      "\n",
      "Standard deviation of postion: 1.144 a\n"
     ]
    }
   ],
   "source": [
    "simulator = Aer.get_backend('aer_simulator')\n",
    "shots=1024\n",
    "result = simulator.run(qc, shots=shots, memory=True).result()\n",
    "memory = result.get_memory(qc)\n",
    "y = ()\n",
    "for i in range(N):   \n",
    "    element = \"0\"*(N-1-i)+\"1\"+\"0\"*i\n",
    "    y = y + (element,) \n",
    "y = tuple(y)\n",
    "av=0\n",
    "for x in memory:\n",
    "    position = y.index(x)\n",
    "    av+=position/shots\n",
    "var=0\n",
    "for x in memory:\n",
    "    position = y.index(x)\n",
    "    var+=(position-av)**2/shots\n",
    "print(\"For our first wave function\")\n",
    "print()\n",
    "print(\"Expectation value of postion:\", round(av,2),\"a\")\n",
    "print()\n",
    "print(\"Variance of postion:\", round(var,2),\"a^2\")\n",
    "print()\n",
    "sigma = np.sqrt(var)\n",
    "print(\"Standard deviation of postion:\", round(sigma,3),\"a\")"
   ]
  },
  {
   "cell_type": "markdown",
   "id": "4179254b-011c-48a1-afb7-934b16033af7",
   "metadata": {},
   "source": [
    "**Note:** We have also given the standard deviation, $\\sigma$, which is simply the square root of the variance."
   ]
  },
  {
   "cell_type": "markdown",
   "id": "1e5032b0-5711-4723-8f93-27ef826d39ce",
   "metadata": {},
   "source": [
    "**Don't miss:** The unit of the variance of position is length$^2$, so the standard deviation has units of length. Hence it is the standard deviation which measures the width of the distribution of the wave function. "
   ]
  },
  {
   "cell_type": "markdown",
   "id": "0bdc91fe-6e8e-4b6c-8b1e-d1d7eda9818b",
   "metadata": {},
   "source": [
    "**Exercise 2:** Compute the variance of the position in the state $\\Psi_1$ analytically and compare to the experimental value just obtained.\n",
    "\n",
    "**Exercise 3:** Prediction: Compute the variance of the position in the state $\\Psi_2$. \n",
    "\n",
    "**Check:** Did your results confirm your expectation from Exercise 1?"
   ]
  },
  {
   "cell_type": "markdown",
   "id": "b3db5800-39e1-4cec-bd01-6fb902bfd3fc",
   "metadata": {},
   "source": [
    "Now let's repeat the experiment only now the particle has the state $\\Psi_2$."
   ]
  },
  {
   "cell_type": "code",
   "execution_count": 12,
   "id": "f4f62250-d6d9-45eb-b4ba-d6cb9078afbb",
   "metadata": {},
   "outputs": [
    {
     "data": {
      "image/png": "[encoded data removed]",
      "text/plain": [
       "<Figure size 822.123x445.48 with 1 Axes>"
      ]
     },
     "execution_count": 12,
     "metadata": {},
     "output_type": "execute_result"
    }
   ],
   "source": [
    "N=6\n",
    "qc = initial(N,N)\n",
    "\n",
    "state([0,1/2,1/2,1/2,1/2,0],qc)\n",
    "\n",
    "qc.barrier() # and now measure the position\n",
    "qc.measure(0,0)\n",
    "qc.measure(1,1)\n",
    "qc.measure(2,2)\n",
    "qc.measure(3,3)\n",
    "qc.measure(4,4)\n",
    "qc.measure(5,5)\n",
    "qc.draw()"
   ]
  },
  {
   "cell_type": "code",
   "execution_count": 15,
   "id": "8c39f021-4672-4aae-aa97-9d11778a0e22",
   "metadata": {},
   "outputs": [
    {
     "name": "stdout",
     "output_type": "stream",
     "text": [
      "For our second wave function\n",
      "\n",
      "Expectation value of postion: 2.57 a\n",
      "\n",
      "Variance of postion: 1.22 a^2\n",
      "\n",
      "Standard deviation of postion: 1.105 a\n"
     ]
    }
   ],
   "source": [
    "simulator = Aer.get_backend('aer_simulator')\n",
    "shots=1024\n",
    "result = simulator.run(qc, shots=shots, memory=True).result()\n",
    "memory = result.get_memory(qc)\n",
    "y = ()\n",
    "for i in range(N):   \n",
    "    element = \"0\"*(N-1-i)+\"1\"+\"0\"*i\n",
    "    y = y + (element,) \n",
    "y = tuple(y)\n",
    "av=0\n",
    "for x in memory:\n",
    "    position = y.index(x)\n",
    "    av+=position/shots\n",
    "var=0\n",
    "for x in memory:\n",
    "    position = y.index(x)\n",
    "    var+=(position-av)**2/shots\n",
    "print(\"For our second wave function\")\n",
    "print()\n",
    "print(\"Expectation value of postion:\", round(av,2),\"a\")\n",
    "print()\n",
    "print(\"Variance of postion:\", round(var,2),\"a^2\")\n",
    "print()\n",
    "sigma = np.sqrt(var)\n",
    "print(\"Standard deviation of postion:\", round(sigma,3),\"a\")"
   ]
  },
  {
   "cell_type": "markdown",
   "id": "c4814c45-c2d5-4e2c-85b7-d109f392fb74",
   "metadata": {},
   "source": [
    "**Check:** Did the value of the variance just obtained correspond to your perdiction from Exercise 3?"
   ]
  },
  {
   "cell_type": "markdown",
   "id": "97eb7e3f-7025-48ac-81dd-6c7b7a274ee3",
   "metadata": {},
   "source": [
    "**Take home:** The variance of the position describes the magnitude of the fluctuations of the detected positions about the expectation value of the position. It is a purely quntum mechanical quantity, which describes that even if we know the wave function we can not with certainty know where the particle will be detected. To know the wave function of a quantum particle corresponds in classical physics to know its position and momentum. In classical physics the corresponding variance therefore is always be zero (we know where the particle is and we will detect it there). Of course there can be experimental errors, but that is an entirely different story. The variance we have computed here is a true physical quantity and not due to imperfections of the experiment."
   ]
  },
  {
   "cell_type": "markdown",
   "id": "c2bcc197-8e85-4b55-b788-eccc88c34898",
   "metadata": {},
   "source": [
    "**Extra:** Suppose the particle instead had the wave function\n",
    "\\begin{eqnarray}\n",
    "\\Psi_3(x_0,t=0) & = & 0 \\\\ \n",
    "\\Psi_3(x_1,t=0) & = & 1/2 \\\\\n",
    "\\Psi_3(x_2,t=0) & = & -1/2 \\\\ \n",
    "\\Psi_3(x_3,t=0) & = & 1/2 \\\\ \n",
    "\\Psi_3(x_4,t=0) & = & -1/2 \\\\ \n",
    "\\Psi_3(x_5,t=0) & = & 0 \\ .\n",
    "\\end{eqnarray}\n",
    "What would have happened to the variance? \n",
    "\n",
    "**Check** your result by changing the relevant signs in the command state([...],qc) in the code below Exercise 3 and run the experiment again."
   ]
  }
 ],
 "metadata": {
  "kernelspec": {
   "display_name": "Qiskit v0.33.1 (ipykernel)",
   "language": "python",
   "name": "python3"
  },
  "language_info": {
   "codemirror_mode": {
    "name": "ipython",
    "version": 3
   },
   "file_extension": ".py",
   "mimetype": "text/x-python",
   "name": "python",
   "nbconvert_exporter": "python",
   "pygments_lexer": "ipython3",
   "version": "3.8.10"
  },
  "widgets": {
   "application/vnd.jupyter.widget-state+json": {
    "state": {
     "119253b40a8a44e5b4517f41e2b90dec": {
      "model_module": "@jupyter-widgets/base",
      "model_module_version": "1.2.0",
      "model_name": "LayoutModel",
      "state": {
       "margin": "0px 0px 0px 37px",
       "width": "600px"
      }
     },
     "26eadd2613ee4537a976015254d63202": {
      "model_module": "@jupyter-widgets/controls",
      "model_module_version": "1.5.0",
      "model_name": "DescriptionStyleModel",
      "state": {
       "description_width": ""
      }
     },
     "2efcc53dbd914f79af7b6c9955221384": {
      "model_module": "@jupyter-widgets/controls",
      "model_module_version": "1.5.0",
      "model_name": "DescriptionStyleModel",
      "state": {
       "description_width": ""
      }
     },
     "30a4e0c2a4ce486a8b9b0e199ec96665": {
      "model_module": "@jupyter-widgets/controls",
      "model_module_version": "1.5.0",
      "model_name": "HTMLModel",
      "state": {
       "layout": "IPY_MODEL_8fdc28d5b8ef43ee98b35442b6413ba0",
       "style": "IPY_MODEL_26eadd2613ee4537a976015254d63202",
       "value": "<h5>Queue</h5>"
      }
     },
     "369d6eb6c63441319f54f8cfbb8fbb40": {
      "model_module": "@jupyter-widgets/controls",
      "model_module_version": "1.5.0",
      "model_name": "GridBoxModel",
      "state": {
       "children": [
        "IPY_MODEL_8d6ca854239c437aae9d9e2fa24602a9"
       ],
       "layout": "IPY_MODEL_62ba0b3d9c904780955477c0c8f766a1"
      }
     },
     "36d7128146ff4b71ae15bc2e72bbf1ad": {
      "model_module": "@jupyter-widgets/base",
      "model_module_version": "1.2.0",
      "model_name": "LayoutModel",
      "state": {
       "width": "190px"
      }
     },
     "3942cbe0a94141768154c351916312b7": {
      "model_module": "@jupyter-widgets/controls",
      "model_module_version": "1.5.0",
      "model_name": "DescriptionStyleModel",
      "state": {
       "description_width": ""
      }
     },
     "39581a268f504588a6668fce296034ee": {
      "model_module": "@jupyter-widgets/controls",
      "model_module_version": "1.5.0",
      "model_name": "DescriptionStyleModel",
      "state": {
       "description_width": ""
      }
     },
     "3dab4cbb1a1548f18196145da125074e": {
      "model_module": "@jupyter-widgets/controls",
      "model_module_version": "1.5.0",
      "model_name": "DescriptionStyleModel",
      "state": {
       "description_width": ""
      }
     },
     "431b4cd474fd47ff8282cd02109465d4": {
      "model_module": "@jupyter-widgets/controls",
      "model_module_version": "1.5.0",
      "model_name": "ButtonStyleModel",
      "state": {}
     },
     "56d13d8778524a6ca81fa70e69177fae": {
      "model_module": "@jupyter-widgets/base",
      "model_module_version": "1.2.0",
      "model_name": "LayoutModel",
      "state": {
       "margin": "0px 0px 10px 0px"
      }
     },
     "5bee1852c7f5427aa7e48d5f8cc00889": {
      "model_module": "@jupyter-widgets/controls",
      "model_module_version": "1.5.0",
      "model_name": "HTMLModel",
      "state": {
       "layout": "IPY_MODEL_56d13d8778524a6ca81fa70e69177fae",
       "style": "IPY_MODEL_2efcc53dbd914f79af7b6c9955221384",
       "value": "<p style='font-family: IBM Plex Sans, Arial, Helvetica, sans-serif; font-size: 20px; font-weight: medium;'>Circuit Properties</p>"
      }
     },
     "62ba0b3d9c904780955477c0c8f766a1": {
      "model_module": "@jupyter-widgets/base",
      "model_module_version": "1.2.0",
      "model_name": "LayoutModel",
      "state": {
       "grid_template_areas": "\n                                       \". . . . right \"\n                                        ",
       "grid_template_columns": "20% 20% 20% 20% 20%",
       "width": "100%"
      }
     },
     "63258e496c56479681f3c45171703688": {
      "model_module": "@jupyter-widgets/base",
      "model_module_version": "1.2.0",
      "model_name": "LayoutModel",
      "state": {
       "width": "95px"
      }
     },
     "8d6ca854239c437aae9d9e2fa24602a9": {
      "model_module": "@jupyter-widgets/controls",
      "model_module_version": "1.5.0",
      "model_name": "ButtonModel",
      "state": {
       "button_style": "primary",
       "description": "Clear",
       "layout": "IPY_MODEL_f651d44d01164769928b08f2edd7011d",
       "style": "IPY_MODEL_431b4cd474fd47ff8282cd02109465d4"
      }
     },
     "8fdc28d5b8ef43ee98b35442b6413ba0": {
      "model_module": "@jupyter-widgets/base",
      "model_module_version": "1.2.0",
      "model_name": "LayoutModel",
      "state": {
       "width": "70px"
      }
     },
     "a7eb062c0be14f1f94b9e3cf52fc8b0d": {
      "model_module": "@jupyter-widgets/controls",
      "model_module_version": "1.5.0",
      "model_name": "HTMLModel",
      "state": {
       "layout": "IPY_MODEL_f978540fe4c047da82d01ece880aa36d",
       "style": "IPY_MODEL_39581a268f504588a6668fce296034ee",
       "value": "<h5>Message</h5>"
      }
     },
     "be3d09eb83eb44a4975f13358ba64092": {
      "model_module": "@jupyter-widgets/controls",
      "model_module_version": "1.5.0",
      "model_name": "HTMLModel",
      "state": {
       "layout": "IPY_MODEL_63258e496c56479681f3c45171703688",
       "style": "IPY_MODEL_3942cbe0a94141768154c351916312b7",
       "value": "<h5>Status</h5>"
      }
     },
     "cc65e4094a5c463082117f863e57c66f": {
      "model_module": "@jupyter-widgets/controls",
      "model_module_version": "1.5.0",
      "model_name": "HTMLModel",
      "state": {
       "layout": "IPY_MODEL_36d7128146ff4b71ae15bc2e72bbf1ad",
       "style": "IPY_MODEL_3dab4cbb1a1548f18196145da125074e",
       "value": "<h5>Job ID</h5>"
      }
     },
     "d4ebd3d299534ff1882ac53b12420cc6": {
      "model_module": "@jupyter-widgets/controls",
      "model_module_version": "1.5.0",
      "model_name": "HTMLModel",
      "state": {
       "layout": "IPY_MODEL_ec421f9cbacd4182a3f2bba59799e478",
       "style": "IPY_MODEL_fe99a61d469349e4b76845ef27a787ef",
       "value": "<h5>Backend</h5>"
      }
     },
     "dafd7b4054d94683820110710c401df3": {
      "model_module": "@jupyter-widgets/controls",
      "model_module_version": "1.5.0",
      "model_name": "HBoxModel",
      "state": {
       "children": [
        "IPY_MODEL_cc65e4094a5c463082117f863e57c66f",
        "IPY_MODEL_d4ebd3d299534ff1882ac53b12420cc6",
        "IPY_MODEL_be3d09eb83eb44a4975f13358ba64092",
        "IPY_MODEL_30a4e0c2a4ce486a8b9b0e199ec96665",
        "IPY_MODEL_a7eb062c0be14f1f94b9e3cf52fc8b0d"
       ],
       "layout": "IPY_MODEL_119253b40a8a44e5b4517f41e2b90dec"
      }
     },
     "ec421f9cbacd4182a3f2bba59799e478": {
      "model_module": "@jupyter-widgets/base",
      "model_module_version": "1.2.0",
      "model_name": "LayoutModel",
      "state": {
       "width": "145px"
      }
     },
     "f651d44d01164769928b08f2edd7011d": {
      "model_module": "@jupyter-widgets/base",
      "model_module_version": "1.2.0",
      "model_name": "LayoutModel",
      "state": {
       "grid_area": "right",
       "padding": "0px 0px 0px 0px",
       "width": "70px"
      }
     },
     "f978540fe4c047da82d01ece880aa36d": {
      "model_module": "@jupyter-widgets/base",
      "model_module_version": "1.2.0",
      "model_name": "LayoutModel",
      "state": {}
     },
     "fe99a61d469349e4b76845ef27a787ef": {
      "model_module": "@jupyter-widgets/controls",
      "model_module_version": "1.5.0",
      "model_name": "DescriptionStyleModel",
      "state": {
       "description_width": ""
      }
     }
    },
    "version_major": 2,
    "version_minor": 0
   }
  }
 },
 "nbformat": 4,
 "nbformat_minor": 5
}
