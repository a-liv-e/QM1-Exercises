{
 "cells": [
  {
   "cell_type": "markdown",
   "id": "4b083a2e",
   "metadata": {},
   "source": [
    "# Two coupled spins Part 2: the total $S^2$\n",
    "\n",
    "The coupling of spins is a key to understand atomic physics. An example is the coupling between the electron and proton spin in hydrogen which gives the famous 21 cm line used in astronomy. \n",
    "\n",
    "Here we will consider precisely such a coupling of two spin 1/2 systems. We are interested in the total spin ${\\bf S}={\\bf S}_1+{\\bf S}_2$. In the first part we considered the $z$-component $S_z$ and here in the second part we will its square, $S^2$. \n",
    "\n",
    "**Learning goal:** These exercises will allow you to build and test your intuition of two coupled spin 1/2 systems. In particular, you will (hopefully) be able to determine what happens to a coupled spin state after a measurement of $S^2$.\n"
   ]
  },
  {
   "cell_type": "markdown",
   "id": "69f8c1ab-5c64-452e-941a-f891674756c3",
   "metadata": {},
   "source": [
    "**Notation:** We use the notation of Griffiths and Schröeter where $|\\uparrow\\rangle$ is the state $|s,m\\rangle=|1/2,1/2\\rangle$ and $|\\downarrow\\rangle=|1/2,-1/2\\rangle$.\n",
    "\n",
    "**Setup:** Throughout this exercise we will think of each qubit as a spin 1/2 system and we will identify the state $|0\\rangle$ with $|\\downarrow\\rangle$ and the state $|1\\rangle$ with $|\\uparrow\\rangle$. If we measure the operator $M$ on a qubit and find '0' ('1') the intrepretaion therefore is that we have measured the $z$-component of the first (second) spin 1/2 system and found the value $-\\hbar/2$ ($\\hbar/2$). In other words a measurement of $M$, on the first qubit say, corresponds to a measurement of $S_{1z}$.\n"
   ]
  },
  {
   "cell_type": "code",
   "execution_count": 2,
   "id": "a6c90373",
   "metadata": {},
   "outputs": [],
   "source": [
    "import numpy as np\n",
    "# Importing standard Qiskit libraries\n",
    "from qiskit import QuantumCircuit, transpile, Aer, IBMQ\n",
    "from qiskit.tools.jupyter import *\n",
    "from qiskit.visualization import *\n",
    "from ibm_quantum_widgets import *\n",
    "\n",
    "# Loading your IBM Q account(s)\n",
    "provider = IBMQ.load_account()"
   ]
  },
  {
   "cell_type": "markdown",
   "id": "a4347fe1-6bf7-40a9-a4b3-7179240e4dc3",
   "metadata": {},
   "source": [
    "**Recomendation:** The coupling of spin can be quite tricky, so why not have your book open on the relevant side. If you have Griffiths and Schröeter (3rd edition) see section 4.4.1."
   ]
  },
  {
   "cell_type": "markdown",
   "id": "09d7ea15",
   "metadata": {},
   "source": [
    "**Measurement of $S^2$**\n",
    "\n",
    "As we have seen in part 1 the two states \n",
    "\\begin{equation}\n",
    "|\\psi_+\\rangle = \\frac{1}{\\sqrt{2}}\\big(|\\uparrow\\downarrow\\rangle+| \\downarrow\\uparrow\\rangle\\big) \\ .\n",
    "\\end{equation}\n",
    "\n",
    "and \n",
    "\n",
    "\\begin{equation}\n",
    "|\\psi_-\\rangle = \\frac{1}{\\sqrt{2}}\\big(|\\uparrow\\downarrow\\rangle-| \\downarrow\\uparrow\\rangle\\big) \\ .\n",
    "\\end{equation}\n",
    "\n",
    "\n",
    "are both eigenstates of $S_z$ with eigenvalue $0\\hbar$. In fact they are also eigenstates of $S^2$, but the corresponding eigenvalues are different!\n",
    "\n",
    "To see this let's do an experiment! To set it up note that we already use the first two qubits to measure $S_z$, we need to find a new way to measure $S^2$ as well. \n",
    "\n",
    "\n",
    "**How we will do measure $S^2$:**\n",
    "\n",
    "First, note that the possible outcome of a measurement of $S^2$ for two coupled spin 1/2 systems is either $0\\hbar^2$ (the eigenvalue of $S^2$ is $\\hbar^2s(s+1)$ and here the total $s$ quantum number 0) or $2\\hbar^2$ ($s=1$). \n",
    "\n",
    "As there are two possible outcomes of $S^2$ we will add a third qubit to the system and use this to measure the value of $S^2$. If the value of a measurement of $M$ on the third qubit is $0$ then the measured value of $S^2$ on the first two q-bits is $0\\hbar^2$. Likevise if the value measured on the third qubit is $1$ then we have measured the value $2\\hbar^2$ of $S^2$ on the first two qubits.  \n",
    "\n",
    "Clearly the additional third qubit must be coupled to the first two qubits in order to make this come true! How does one realize this coupling? Well, it is a bit intricate and we will not go into the details here but merly use the experiment to understand what happens when we perform measurements of $S^2$. (If you are currious how it works just ask and we can set up a session to discuss it!)\n",
    "\n",
    "As stated above  $|\\psi_+\\rangle$ and $|\\psi_-\\rangle$ are both eigenstates of $S^2$. To gain some familiarity with the new setup, let's check this with the experiment below. We start with  $|\\psi_+\\rangle$.\n",
    "\n",
    "**Note:** The circut is a bit involved, but note that you do not need to understand the details of the experiment for this exercise. What we are after is the outcome of the experiment!\n"
   ]
  },
  {
   "cell_type": "code",
   "execution_count": 7,
   "id": "2591f792",
   "metadata": {
    "scrolled": true
   },
   "outputs": [
    {
     "data": {
      "image/png": "[encoded data removed]",
      "text/plain": [
       "<Figure size 1230.4x264.88 with 1 Axes>"
      ]
     },
     "execution_count": 7,
     "metadata": {},
     "output_type": "execute_result"
    }
   ],
   "source": [
    "from math import pi\n",
    "qc = QuantumCircuit(3,1)\n",
    "qc.h(0) # This and the next two lines puts the first two q-bits in the state psi_+\n",
    "qc.cx(0,1)\n",
    "qc.x(1)\n",
    "#qc.z(1) # To run the experiment with psi_- simply remove the '#' at the start of this line and run again\n",
    "qc.barrier()\n",
    "qc.cx(0,1) # the lines down to the next barrier couples the third q-bit to the first in the desired manner\n",
    "qc.x(2)\n",
    "qc.swap(0,1)\n",
    "qc.ry(pi/4,1)\n",
    "qc.cx(0,1)\n",
    "qc.ry(-pi/4,1)\n",
    "qc.swap(0,1)\n",
    "qc.ccx(0,1,2)\n",
    "qc.swap(0,1)\n",
    "qc.ry(pi/4,1)\n",
    "qc.cx(0,1)\n",
    "qc.ry(-pi/4,1)\n",
    "qc.swap(0,1)\n",
    "qc.cx(0,1)\n",
    "qc.barrier()\n",
    "qc.measure(2,0) # this measures the value of $S^2$ on the first two q-bits\n",
    "qc.draw()"
   ]
  },
  {
   "cell_type": "code",
   "execution_count": 8,
   "id": "40745e22",
   "metadata": {},
   "outputs": [
    {
     "name": "stdout",
     "output_type": "stream",
     "text": [
      "['1', '1', '1', '1', '1', '1', '1', '1', '1', '1']\n"
     ]
    }
   ],
   "source": [
    "simulator = Aer.get_backend('qasm_simulator')\n",
    "\n",
    "result = simulator.run(qc, shots=10, memory=True).result()\n",
    "memory = result.get_memory(qc)\n",
    "print(memory)"
   ]
  },
  {
   "cell_type": "markdown",
   "id": "88bce3e5",
   "metadata": {},
   "source": [
    "Recall that the result '1' implies that $s=1$, ie. we have measured $S^2$ and found the value $2\\hbar^2$. Why do we get the same result every time? Well $|\\psi_+\\rangle$ is an eigenstate of $S^2$ so we are bound to get the associated eigenvalue $2\\hbar^2$ when we measure $S^2$. \n",
    "\n",
    "**Exercise 1:** Remove the '#' in the 6th line of the code above to set up the state $|\\psi_-\\rangle$. Run the experiment and explain the outcome. (Recall, when we get the result '0' we have $s=0$ and hence have measured $S^2$ and found  the value $0\\hbar^2$.)"
   ]
  },
  {
   "cell_type": "markdown",
   "id": "d3735411",
   "metadata": {},
   "source": [
    "**Summary this far:** As we have just seen the states $|\\psi\\pm\\rangle$ are both eigenstates of $S_z$ with eigenvalue $0\\hbar$. The are also both eigenstates of ${\\bf S}^2$ but the eigenvalue depends on the sign in $|\\psi\\pm\\rangle$!  \n",
    "\n",
    "To understand better what is going on let's examine what happens if we only use the $|\\uparrow\\downarrow\\rangle$ part of the state. One great thing about these experiments is that we can simply give it a try!"
   ]
  },
  {
   "cell_type": "code",
   "execution_count": 9,
   "id": "52224df8-115d-48b0-bb52-f535d462da4f",
   "metadata": {
    "scrolled": true
   },
   "outputs": [
    {
     "data": {
      "image/png": "[encoded data removed]",
      "text/plain": [
       "<Figure size 1110x264.88 with 1 Axes>"
      ]
     },
     "execution_count": 9,
     "metadata": {},
     "output_type": "execute_result"
    }
   ],
   "source": [
    "from math import pi\n",
    "qc = QuantumCircuit(3,1)\n",
    "#qc.x(0) # This is the line we need for the final exercise below. \n",
    "qc.x(1) # This puts the first two q-bits in the state |up down>\n",
    "qc.barrier()\n",
    "qc.cx(0,1) # the lines down to the next barrier couples the third q-bit to the first in the desired manner\n",
    "qc.x(2)\n",
    "qc.swap(0,1)\n",
    "qc.ry(pi/4,1)\n",
    "qc.cx(0,1)\n",
    "qc.ry(-pi/4,1)\n",
    "qc.swap(0,1)\n",
    "qc.ccx(0,1,2)\n",
    "qc.swap(0,1)\n",
    "qc.ry(pi/4,1)\n",
    "qc.cx(0,1)\n",
    "qc.ry(-pi/4,1)\n",
    "qc.swap(0,1)\n",
    "qc.cx(0,1)\n",
    "qc.barrier()\n",
    "qc.measure(2,0) # this measures the value of $S^2$ on the first two q-bits\n",
    "qc.draw()"
   ]
  },
  {
   "cell_type": "code",
   "execution_count": 10,
   "id": "98fcd886",
   "metadata": {
    "scrolled": true
   },
   "outputs": [
    {
     "name": "stdout",
     "output_type": "stream",
     "text": [
      "['0', '0', '0', '1', '0', '1', '0', '0', '0', '1']\n"
     ]
    }
   ],
   "source": [
    "simulator = Aer.get_backend('qasm_simulator')\n",
    "\n",
    "result = simulator.run(qc, shots=10, memory=True).result()\n",
    "memory = result.get_memory(qc)\n",
    "print(memory)"
   ]
  },
  {
   "cell_type": "markdown",
   "id": "3f6d9f8e",
   "metadata": {},
   "source": [
    "As we can see, if the system is in the state $|\\uparrow\\downarrow\\rangle$, then sometimes the result of the measuremet of $S^2$ is $0\\hbar^2$ and sometimes it is $2\\hbar^2$. \n",
    "\n",
    "**Exercise 2:** This result shows that the state $|\\uparrow\\downarrow\\rangle$ is <b> not </b> an eigenstate of the square of the total spin $S^2$. Explain how we can see this from the result.\n",
    "\n",
    "**Exercise 3:** Determine the probability that the measurement will give respectively $0\\hbar^2$ and $2\\hbar^2$. "
   ]
  },
  {
   "cell_type": "markdown",
   "id": "a7f84f23-fe0f-4878-a2f1-5f6a2874a92e",
   "metadata": {},
   "source": [
    "Now let's try to understand what happens to the state $|\\uparrow\\downarrow\\rangle$ when we measure the square of the total spin $S^2$.\n",
    "\n",
    "**Exercise 4/ Your prediction:** What is the state of the first two qubits after the measurement os $S^2$?\n",
    "\n",
    "To test it, let's first measure $S^2$ and subsequantly $S_{1z}$ and $S_{2z}$.\n",
    "\n",
    "Here we go!"
   ]
  },
  {
   "cell_type": "code",
   "execution_count": 16,
   "id": "15dd4cb6",
   "metadata": {
    "scrolled": true
   },
   "outputs": [
    {
     "data": {
      "image/png": "[encoded data removed]",
      "text/plain": [
       "<Figure size 1230.4x264.88 with 1 Axes>"
      ]
     },
     "execution_count": 16,
     "metadata": {},
     "output_type": "execute_result"
    }
   ],
   "source": [
    "from math import pi\n",
    "qc = QuantumCircuit(3,3)\n",
    "#qc.x(0) # This is the line we need for the final exercise below. \n",
    "qc.x(1) # This puts the first two q-bits in the state |+->\n",
    "qc.barrier()\n",
    "qc.cx(0,1) # the lines down to the next barrier couples the third q-bit to the first in the desired manner\n",
    "qc.x(2)\n",
    "qc.swap(0,1)\n",
    "qc.ry(pi/4,1)\n",
    "qc.cx(0,1)\n",
    "qc.ry(-pi/4,1)\n",
    "qc.swap(0,1)\n",
    "qc.ccx(0,1,2)\n",
    "qc.swap(0,1)\n",
    "qc.ry(pi/4,1)\n",
    "qc.cx(0,1)\n",
    "qc.ry(-pi/4,1)\n",
    "qc.swap(0,1)\n",
    "qc.cx(0,1)\n",
    "qc.barrier()\n",
    "qc.measure(2,0) # this measures the value of $S^2$ on the first two q-bits\n",
    "qc.measure(0,1) # this measures S_z^{(1)}\n",
    "qc.measure(1,2) # this measures S_z^{(2)}\n",
    "qc.draw()"
   ]
  },
  {
   "cell_type": "code",
   "execution_count": 17,
   "id": "c240a908",
   "metadata": {},
   "outputs": [
    {
     "name": "stdout",
     "output_type": "stream",
     "text": [
      "['101', '101', '011', '100', '010', '010', '011', '100', '010', '011']\n"
     ]
    }
   ],
   "source": [
    "simulator = Aer.get_backend('qasm_simulator')\n",
    "\n",
    "result = simulator.run(qc, shots=10, memory=True).result()\n",
    "memory = result.get_memory(qc)\n",
    "print(memory)"
   ]
  },
  {
   "cell_type": "markdown",
   "id": "1c40337a",
   "metadata": {},
   "source": [
    "**Here is how to read the result:** The rightmost digit tells us the measured value of $S^2$, the middle digit gives us the measured value of $S_{1z}$ and the leftmost digit the measured value of $S_{2z}$. For example, '011' tells us that the measurements gave $s=1$, $m_1=1/2$ and $m_2=-1/2$.\n",
    "\n",
    "\n",
    "**Exercise 5:** Try to explain the outcome of the experiment above.\n",
    "\n",
    "**Final exercise / prediction:** What would have changed (if anything) if we had instead prepared the first two qubits in the state $|\\uparrow\\uparrow\\rangle$?\n",
    "\n",
    "**Check:** To test your prediction simply remove the '#' in the third line of the code above and run the experiment again."
   ]
  },
  {
   "cell_type": "markdown",
   "id": "4abb91ac-eba4-424d-bbe5-c22868bef3ce",
   "metadata": {},
   "source": [
    "**Don't panic:** The first times you work with coupled spins it it likely to be quite confusing. So if you find this difficult rest assured that you are not alone in this!  "
   ]
  },
  {
   "cell_type": "markdown",
   "id": "b9441b59-5ebf-4fa0-a127-92e43f726e93",
   "metadata": {},
   "source": [
    "**Take home:** When we measure the total $S^2$ we perform a measurement on both qubits at the same time and the sign in the two states $|\\psi_+\\rangle$ and $|\\psi_-\\rangle$ is essential. With + it is an eigenstate of ${\\bf S}^2$ with eigenvalue $2\\hbar^2$ and with - it is an eigenstate of ${\\bf S}^2$ with eigenvalue $0\\hbar^2$."
   ]
  }
 ],
 "metadata": {
  "kernelspec": {
   "display_name": "Qiskit v0.33.1 (ipykernel)",
   "language": "python",
   "name": "python3"
  },
  "language_info": {
   "codemirror_mode": {
    "name": "ipython",
    "version": 3
   },
   "file_extension": ".py",
   "mimetype": "text/x-python",
   "name": "python",
   "nbconvert_exporter": "python",
   "pygments_lexer": "ipython3",
   "version": "3.8.10"
  },
  "widgets": {
   "application/vnd.jupyter.widget-state+json": {
    "state": {
     "109dd586d5584a908c6d871404288890": {
      "model_module": "@jupyter-widgets/controls",
      "model_module_version": "1.5.0",
      "model_name": "HBoxModel",
      "state": {
       "children": [
        "IPY_MODEL_710b90393ee64d00bdcb0ae0066e64cb",
        "IPY_MODEL_d459ec12cec644aab5c8cfb449053cf4",
        "IPY_MODEL_64818132c2264f80ae66c1c6f22cef5f",
        "IPY_MODEL_a677ae45dce345d3aa11daa720e6cda1",
        "IPY_MODEL_db61c5615f5b4fea8d3c354d7dd67bdf"
       ],
       "layout": "IPY_MODEL_b5558f6aa7ee43468a44e43b7a4fe064"
      }
     },
     "12668ac3642341b68aee37d612d96651": {
      "model_module": "@jupyter-widgets/base",
      "model_module_version": "1.2.0",
      "model_name": "LayoutModel",
      "state": {
       "width": "95px"
      }
     },
     "1efb0458af1a4f0b89678e96ef0ffd96": {
      "model_module": "@jupyter-widgets/controls",
      "model_module_version": "1.5.0",
      "model_name": "DescriptionStyleModel",
      "state": {
       "description_width": ""
      }
     },
     "3caa74dafc5b4b17a40a17e631f4b8ef": {
      "model_module": "@jupyter-widgets/base",
      "model_module_version": "1.2.0",
      "model_name": "LayoutModel",
      "state": {
       "width": "70px"
      }
     },
     "46fe8955b76f47a6bd786ccb9b4202d7": {
      "model_module": "@jupyter-widgets/controls",
      "model_module_version": "1.5.0",
      "model_name": "GridBoxModel",
      "state": {
       "children": [
        "IPY_MODEL_ff7154dbcbfa4d2693f2bcfb8cbc4277"
       ],
       "layout": "IPY_MODEL_761f3c96c60f47529f7178806afcbc06"
      }
     },
     "4d9ffff7cb5148878b3dd5e6312e0f50": {
      "model_module": "@jupyter-widgets/base",
      "model_module_version": "1.2.0",
      "model_name": "LayoutModel",
      "state": {
       "width": "145px"
      }
     },
     "5b0afbed4dbe46a4843a78e642ed3887": {
      "model_module": "@jupyter-widgets/controls",
      "model_module_version": "1.5.0",
      "model_name": "DescriptionStyleModel",
      "state": {
       "description_width": ""
      }
     },
     "64818132c2264f80ae66c1c6f22cef5f": {
      "model_module": "@jupyter-widgets/controls",
      "model_module_version": "1.5.0",
      "model_name": "HTMLModel",
      "state": {
       "layout": "IPY_MODEL_12668ac3642341b68aee37d612d96651",
       "style": "IPY_MODEL_ad4f361459ae41d69d6cbf73978af25d",
       "value": "<h5>Status</h5>"
      }
     },
     "710b90393ee64d00bdcb0ae0066e64cb": {
      "model_module": "@jupyter-widgets/controls",
      "model_module_version": "1.5.0",
      "model_name": "HTMLModel",
      "state": {
       "layout": "IPY_MODEL_dbf5826147a4455f8c2f16a240a40e39",
       "style": "IPY_MODEL_1efb0458af1a4f0b89678e96ef0ffd96",
       "value": "<h5>Job ID</h5>"
      }
     },
     "761f3c96c60f47529f7178806afcbc06": {
      "model_module": "@jupyter-widgets/base",
      "model_module_version": "1.2.0",
      "model_name": "LayoutModel",
      "state": {
       "grid_template_areas": "\n                                       \". . . . right \"\n                                        ",
       "grid_template_columns": "20% 20% 20% 20% 20%",
       "width": "100%"
      }
     },
     "776b33bf7bf94151a40a181f27cfa5a2": {
      "model_module": "@jupyter-widgets/controls",
      "model_module_version": "1.5.0",
      "model_name": "HTMLModel",
      "state": {
       "layout": "IPY_MODEL_cc6b82e2d4f8431a89d368808909a5e8",
       "style": "IPY_MODEL_5b0afbed4dbe46a4843a78e642ed3887",
       "value": "<p style='font-family: IBM Plex Sans, Arial, Helvetica, sans-serif; font-size: 20px; font-weight: medium;'>Circuit Properties</p>"
      }
     },
     "849739d9dd8e4f36a02631effe45ca84": {
      "model_module": "@jupyter-widgets/base",
      "model_module_version": "1.2.0",
      "model_name": "LayoutModel",
      "state": {
       "grid_area": "right",
       "padding": "0px 0px 0px 0px",
       "width": "70px"
      }
     },
     "a677ae45dce345d3aa11daa720e6cda1": {
      "model_module": "@jupyter-widgets/controls",
      "model_module_version": "1.5.0",
      "model_name": "HTMLModel",
      "state": {
       "layout": "IPY_MODEL_3caa74dafc5b4b17a40a17e631f4b8ef",
       "style": "IPY_MODEL_c54c845823f24a91b4d1b46a22816047",
       "value": "<h5>Queue</h5>"
      }
     },
     "a861bca4026f46de8603488dc4e095df": {
      "model_module": "@jupyter-widgets/base",
      "model_module_version": "1.2.0",
      "model_name": "LayoutModel",
      "state": {}
     },
     "aa8522c90be6443daced12139ffe1e04": {
      "model_module": "@jupyter-widgets/controls",
      "model_module_version": "1.5.0",
      "model_name": "ButtonStyleModel",
      "state": {}
     },
     "ad4f361459ae41d69d6cbf73978af25d": {
      "model_module": "@jupyter-widgets/controls",
      "model_module_version": "1.5.0",
      "model_name": "DescriptionStyleModel",
      "state": {
       "description_width": ""
      }
     },
     "b5558f6aa7ee43468a44e43b7a4fe064": {
      "model_module": "@jupyter-widgets/base",
      "model_module_version": "1.2.0",
      "model_name": "LayoutModel",
      "state": {
       "margin": "0px 0px 0px 37px",
       "width": "600px"
      }
     },
     "c54c845823f24a91b4d1b46a22816047": {
      "model_module": "@jupyter-widgets/controls",
      "model_module_version": "1.5.0",
      "model_name": "DescriptionStyleModel",
      "state": {
       "description_width": ""
      }
     },
     "cc6b82e2d4f8431a89d368808909a5e8": {
      "model_module": "@jupyter-widgets/base",
      "model_module_version": "1.2.0",
      "model_name": "LayoutModel",
      "state": {
       "margin": "0px 0px 10px 0px"
      }
     },
     "d459ec12cec644aab5c8cfb449053cf4": {
      "model_module": "@jupyter-widgets/controls",
      "model_module_version": "1.5.0",
      "model_name": "HTMLModel",
      "state": {
       "layout": "IPY_MODEL_4d9ffff7cb5148878b3dd5e6312e0f50",
       "style": "IPY_MODEL_e42e97ac15a94f559691a3439034dc96",
       "value": "<h5>Backend</h5>"
      }
     },
     "db61c5615f5b4fea8d3c354d7dd67bdf": {
      "model_module": "@jupyter-widgets/controls",
      "model_module_version": "1.5.0",
      "model_name": "HTMLModel",
      "state": {
       "layout": "IPY_MODEL_a861bca4026f46de8603488dc4e095df",
       "style": "IPY_MODEL_ed1c14a1ddf94bebbf54f62e8a331e52",
       "value": "<h5>Message</h5>"
      }
     },
     "dbf5826147a4455f8c2f16a240a40e39": {
      "model_module": "@jupyter-widgets/base",
      "model_module_version": "1.2.0",
      "model_name": "LayoutModel",
      "state": {
       "width": "190px"
      }
     },
     "e42e97ac15a94f559691a3439034dc96": {
      "model_module": "@jupyter-widgets/controls",
      "model_module_version": "1.5.0",
      "model_name": "DescriptionStyleModel",
      "state": {
       "description_width": ""
      }
     },
     "ed1c14a1ddf94bebbf54f62e8a331e52": {
      "model_module": "@jupyter-widgets/controls",
      "model_module_version": "1.5.0",
      "model_name": "DescriptionStyleModel",
      "state": {
       "description_width": ""
      }
     },
     "ff7154dbcbfa4d2693f2bcfb8cbc4277": {
      "model_module": "@jupyter-widgets/controls",
      "model_module_version": "1.5.0",
      "model_name": "ButtonModel",
      "state": {
       "button_style": "primary",
       "description": "Clear",
       "layout": "IPY_MODEL_849739d9dd8e4f36a02631effe45ca84",
       "style": "IPY_MODEL_aa8522c90be6443daced12139ffe1e04"
      }
     }
    },
    "version_major": 2,
    "version_minor": 0
   }
  }
 },
 "nbformat": 4,
 "nbformat_minor": 5
}
