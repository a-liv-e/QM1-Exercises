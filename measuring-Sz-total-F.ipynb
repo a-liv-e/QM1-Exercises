{
 "cells": [
  {
   "cell_type": "markdown",
   "id": "4b083a2e",
   "metadata": {},
   "source": [
    "# Two coupled spins: Part 1 the total $S_z$\n",
    "\n",
    "The coupling of spins is a key to understand atomic physics. An example is the coupling between the electron and proton spin in hydrogen which gives the famous 21 cm line used in astronomy. \n",
    "\n",
    "Here we will consider precisely such a coupling of two spin 1/2 systems. We are interested in the total spin ${\\bf S}={\\bf S}_1+{\\bf S}_2$ and in this first (of two) exercises we will consider the $z$-component $S_z$. \n",
    "\n",
    "**Learning goal:** These exercises will allow you to build and test your intuition of two coupled spin 1/2 systems. In particular, you will (hopefully) be able to determine what happens to a coupled spin state after a measurement of $S_z$ or $S^2$.\n"
   ]
  },
  {
   "cell_type": "markdown",
   "id": "faea701a",
   "metadata": {},
   "source": [
    "**Notation:** We use the notation of Griffiths and Schröeter where $|\\uparrow\\rangle$ is the state $|s,m\\rangle=|1/2,1/2\\rangle$ and $|\\downarrow\\rangle=|1/2,-1/2\\rangle$.\n",
    "\n",
    "**Setup:** Throughout this exercise we will think of each qubit as a spin 1/2 system and we will identify the state $|0\\rangle$ with $|\\downarrow\\rangle$ and the state $|1\\rangle$ with $|\\uparrow\\rangle$. If we measure the operator $M$ on a qubit and find '0' ('1') the intrepretaion therefore is that we have measured the $z$-component of the first (second) spin 1/2 system and found the value $-\\hbar/2$ ($\\hbar/2$). In other words a measurement of $M$, on the first qubit say, corresponds to a measurement of $S_{1z}$.\n"
   ]
  },
  {
   "cell_type": "markdown",
   "id": "4a2a481f",
   "metadata": {},
   "source": [
    "**Measurement of $S_z$**\n",
    "\n",
    "Let's first look the $z$-component of the total spin $S_z=S_{1z}+S_{2z}$. We will start with a couple of exercises before we get to the experiment. \n",
    "\n",
    "**Reminder/background:** As a reminder/background you may want to (re)read section 4.4.3 of Griffiths and Schroeter 3ed.\n",
    "\n",
    "**Exercise 1:** The state $|\\uparrow\\uparrow\\rangle$ is an eigenstate of $S_z$. Determine the associated eigenvalue.\n",
    "\n",
    "**Exercise 2:** Explain why the state  \n",
    "\n",
    "\\begin{equation}\n",
    "|\\psi\\rangle = \\frac{1}{\\sqrt{2}}\\big(|\\uparrow\\uparrow\\rangle+|\\downarrow\\downarrow\\rangle\\big)\n",
    "\\end{equation}\n",
    "\n",
    "is $not$ an eigenstate of $S_z$.\n",
    "\n",
    "\n",
    "**Exercise 3/ Your prediction:** Suppose the system is in the state $|\\psi\\rangle$ given above. What are the possible outcomes of a measurement of $S_z$?\n",
    "\n",
    "Let's now set up the system in the state $|\\psi\\rangle$ and then measure $S_{1z}$ and $S_{2z}$."
   ]
  },
  {
   "cell_type": "code",
   "execution_count": 1,
   "id": "a6c90373",
   "metadata": {},
   "outputs": [],
   "source": [
    "import numpy as np\n",
    "# Importing standard Qiskit libraries\n",
    "from qiskit import QuantumCircuit, transpile, Aer, IBMQ\n",
    "from qiskit.tools.jupyter import *\n",
    "from qiskit.visualization import *\n",
    "from ibm_quantum_widgets import *\n",
    "\n",
    "# Loading your IBM Q account(s)\n",
    "provider = IBMQ.load_account()"
   ]
  },
  {
   "cell_type": "code",
   "execution_count": 2,
   "id": "05a3938b",
   "metadata": {},
   "outputs": [
    {
     "data": {
      "image/png": "[encoded data removed]",
      "text/plain": [
       "<Figure size 387.452x204.68 with 1 Axes>"
      ]
     },
     "execution_count": 2,
     "metadata": {},
     "output_type": "execute_result"
    }
   ],
   "source": [
    "qc = QuantumCircuit(2,2)\n",
    "qc.h(0)\n",
    "qc.cx(0,1)\n",
    "qc.barrier()\n",
    "qc.measure(0,0)\n",
    "qc.measure(1,1)\n",
    "qc.draw()"
   ]
  },
  {
   "cell_type": "code",
   "execution_count": 3,
   "id": "dee331bf",
   "metadata": {},
   "outputs": [
    {
     "name": "stdout",
     "output_type": "stream",
     "text": [
      "['11', '00', '11', '11', '11', '00', '11', '00', '11', '00']\n"
     ]
    }
   ],
   "source": [
    "simulator = Aer.get_backend('qasm_simulator')\n",
    "\n",
    "result = simulator.run(qc, shots=10, memory=True).result() # shots=10 means do the experiment 10 times\n",
    "memory = result.get_memory(qc)\n",
    "print(memory)"
   ]
  },
  {
   "cell_type": "markdown",
   "id": "f1ac4899",
   "metadata": {},
   "source": [
    "**How to read the result:** The rightmost of the digits in a pair is the result of measuring $M$\n",
    " on the first qubit and the leftmost within the pair is from the second qubit. There are 10 pairs since we have repeated the measurement 10 times.\n",
    "\n",
    "**Note:** since $S_{1z}$ acts solely on the first qubit while $S_{2z}$ acts only on the second we may perform a measurement of $S_z=S_{1z}+S_{2z}$ by simply performing a measurement of $S_{1z}$ on the first qubit and subsequently one of $S_{2z}$. To get the measurement of $S_z$ we simply add the two outcomes of the measurements of $S_{1z}$ and $S_{2z}$. So the result '00' imply that we have measured $S_z$ and found the value $-\\hbar/2-\\hbar/2=-\\hbar$.\n",
    "\n",
    "**Exercise 4:** Hopefully the outcome of the measurement above was consistent with your prediction! But, why are the measured values for $S_{1z}$ and $S_{2z}$ the same in this case? \n"
   ]
  },
  {
   "cell_type": "markdown",
   "id": "b4b1dff0",
   "metadata": {},
   "source": [
    "Let's do two more experiments with $S_z$, which will be of great use when we turn to $S^2$ in the second part.\n",
    "\n",
    "First we will set up the state \n",
    "\n",
    "\\begin{equation}\n",
    "|\\psi_+\\rangle = \\frac{1}{\\sqrt{2}}\\big(|\\uparrow\\downarrow\\rangle+| \\downarrow\\uparrow\\rangle\\big) \\ .\n",
    "\\end{equation}\n",
    "\n",
    "**Exercise 5/ Your prediction:** What are the possible outcomes of a measurement of the total $S_z$ if the system is in the state $|\\psi_+\\rangle$? \n",
    "\n",
    "\n",
    "Let's check your prediction with the experiment below."
   ]
  },
  {
   "cell_type": "code",
   "execution_count": 4,
   "id": "d33ce28e",
   "metadata": {},
   "outputs": [
    {
     "data": {
      "image/png": "[encoded data removed]",
      "text/plain": [
       "<Figure size 447.652x204.68 with 1 Axes>"
      ]
     },
     "execution_count": 4,
     "metadata": {},
     "output_type": "execute_result"
    }
   ],
   "source": [
    "qc = QuantumCircuit(2,2)\n",
    "qc.h(0) # this and the following two lines sets up the state\n",
    "qc.cx(0,1)\n",
    "qc.x(1)\n",
    "qc.barrier() # juts a vertical line to keep things well separated in the diagram\n",
    "qc.measure(0,0) #measures S_{1z}\n",
    "qc.measure(1,1) #measures S_{2z}\n",
    "qc.draw()"
   ]
  },
  {
   "cell_type": "code",
   "execution_count": 5,
   "id": "13003446",
   "metadata": {},
   "outputs": [
    {
     "name": "stdout",
     "output_type": "stream",
     "text": [
      "['10', '10', '01', '01', '01', '01', '01', '01', '01', '01']\n"
     ]
    }
   ],
   "source": [
    "simulator = Aer.get_backend('qasm_simulator')\n",
    "\n",
    "result = simulator.run(qc, shots=10, memory=True).result()\n",
    "memory = result.get_memory(qc)\n",
    "print(memory)"
   ]
  },
  {
   "cell_type": "markdown",
   "id": "3cd2b75e-ad5b-4af7-86bd-06ce1ea6f8bd",
   "metadata": {},
   "source": [
    "**Recall 1:** That $'01'$ implies that the value measured for $S_{1z}$ was $\\hbar/2$ and for $S_{2z}$ it was $-\\hbar/2$.\n",
    "\n",
    "**Recall 2:** To get the measured value of the total $S_z$ add the two values just measured for $S_{1z}$ and $S_{2z}$. \n",
    "\n",
    "**Check:** Did the outcome match your prediction? If not try to go back and see if you can find out what went wrong!"
   ]
  },
  {
   "cell_type": "markdown",
   "id": "f927dcc1",
   "metadata": {},
   "source": [
    "**Exercise 6:** Suppose instead we start the system in the state \n",
    "\n",
    "\\begin{equation}\n",
    "|\\psi_-\\rangle = \\frac{1}{\\sqrt{2}}\\big(|\\uparrow\\downarrow\\rangle-|\\downarrow\\uparrow\\rangle\\big) \\ .\n",
    "\\end{equation}\n",
    "\n",
    "what will change (if anything) when we measure $S_z$?\n",
    "\n",
    "Now test your answer by running the experiment below!"
   ]
  },
  {
   "cell_type": "code",
   "execution_count": 10,
   "id": "e9d511b3",
   "metadata": {},
   "outputs": [
    {
     "data": {
      "image/png": "[encoded data removed]",
      "text/plain": [
       "<Figure size 507.852x204.68 with 1 Axes>"
      ]
     },
     "execution_count": 10,
     "metadata": {},
     "output_type": "execute_result"
    }
   ],
   "source": [
    "qc = QuantumCircuit(2,2)\n",
    "qc.h(0)\n",
    "qc.cx(0,1)\n",
    "qc.x(1)\n",
    "qc.z(1)\n",
    "qc.barrier()\n",
    "qc.measure(0,0)\n",
    "qc.measure(1,1)\n",
    "qc.draw()"
   ]
  },
  {
   "cell_type": "code",
   "execution_count": 11,
   "id": "47308145",
   "metadata": {},
   "outputs": [
    {
     "name": "stdout",
     "output_type": "stream",
     "text": [
      "['01', '01', '10', '01', '01', '10', '10', '10', '10', '01']\n"
     ]
    }
   ],
   "source": [
    "simulator = Aer.get_backend('qasm_simulator')\n",
    "\n",
    "result = simulator.run(qc, shots=10, memory=True).result()\n",
    "memory = result.get_memory(qc)\n",
    "print(memory)"
   ]
  },
  {
   "cell_type": "markdown",
   "id": "1f8af853-c3f4-4365-bea2-4ebbc00e00dd",
   "metadata": {},
   "source": [
    "**Don't miss:** We find that the measurement of $S_z$ when the system is in the state $|\\psi_-\\rangle$ gives us $0\\hbar$ each time, just as we found for the state $|\\psi_+\\rangle$."
   ]
  },
  {
   "cell_type": "markdown",
   "id": "7a17df6c-b694-4480-aad2-3da2d925185d",
   "metadata": {},
   "source": [
    "**Take home:** If we start our system in the state $|\\psi_+\\rangle$ the value measured for $S_z$ is always 0 and we get just the same result if  we start our system in the state $|\\psi_-\\rangle$. This is so because both states are eigenstates of $S_z$ with eigenvalue $0\\hbar$."
   ]
  }
 ],
 "metadata": {
  "kernelspec": {
   "display_name": "Qiskit v0.33.1 (ipykernel)",
   "language": "python",
   "name": "python3"
  },
  "language_info": {
   "codemirror_mode": {
    "name": "ipython",
    "version": 3
   },
   "file_extension": ".py",
   "mimetype": "text/x-python",
   "name": "python",
   "nbconvert_exporter": "python",
   "pygments_lexer": "ipython3",
   "version": "3.8.10"
  },
  "widgets": {
   "application/vnd.jupyter.widget-state+json": {
    "state": {
     "1200472859b34f77a9ac7a440c14fc96": {
      "model_module": "@jupyter-widgets/controls",
      "model_module_version": "1.5.0",
      "model_name": "HTMLModel",
      "state": {
       "layout": "IPY_MODEL_9b35cf1a14a049f3ab668c0a21a1fdb9",
       "style": "IPY_MODEL_8336af08ffbf49a9a5b4e452cb6945ed",
       "value": "<h5>Status</h5>"
      }
     },
     "22a48279bcb64500ab9f3167c81ddd19": {
      "model_module": "@jupyter-widgets/controls",
      "model_module_version": "1.5.0",
      "model_name": "HBoxModel",
      "state": {
       "children": [
        "IPY_MODEL_52f30b5cebf64733afcff6fda29f5171",
        "IPY_MODEL_eee99bee926a40ceb5ff52a8fd33cb23",
        "IPY_MODEL_1200472859b34f77a9ac7a440c14fc96",
        "IPY_MODEL_2ee1448a7cdd4cfcadfbe9dbb4df7cbf",
        "IPY_MODEL_4eb830c805014b42bc23e3a6b5cbb400"
       ],
       "layout": "IPY_MODEL_69fd3c7c57204ef8b5330bd52c4193c0"
      }
     },
     "26e53ad65d114e1e8886fef7fddcf501": {
      "model_module": "@jupyter-widgets/controls",
      "model_module_version": "1.5.0",
      "model_name": "DescriptionStyleModel",
      "state": {
       "description_width": ""
      }
     },
     "2ee1448a7cdd4cfcadfbe9dbb4df7cbf": {
      "model_module": "@jupyter-widgets/controls",
      "model_module_version": "1.5.0",
      "model_name": "HTMLModel",
      "state": {
       "layout": "IPY_MODEL_fdb53cbf50924d20b1a557db28f5ffbf",
       "style": "IPY_MODEL_503f69b000c643638d60d8d4df3b44ba",
       "value": "<h5>Queue</h5>"
      }
     },
     "46635e14457941de906f0ecbff0be2f5": {
      "model_module": "@jupyter-widgets/controls",
      "model_module_version": "1.5.0",
      "model_name": "GridBoxModel",
      "state": {
       "children": [
        "IPY_MODEL_d5b993cda24444e0a683da9ba6be0aac"
       ],
       "layout": "IPY_MODEL_530ef565672d45c581bc75086ba7cfc2"
      }
     },
     "481c5b782cec4bcfb51ba53d369cc3d6": {
      "model_module": "@jupyter-widgets/base",
      "model_module_version": "1.2.0",
      "model_name": "LayoutModel",
      "state": {}
     },
     "4eb830c805014b42bc23e3a6b5cbb400": {
      "model_module": "@jupyter-widgets/controls",
      "model_module_version": "1.5.0",
      "model_name": "HTMLModel",
      "state": {
       "layout": "IPY_MODEL_481c5b782cec4bcfb51ba53d369cc3d6",
       "style": "IPY_MODEL_26e53ad65d114e1e8886fef7fddcf501",
       "value": "<h5>Message</h5>"
      }
     },
     "4fafc626c35b48aa9e845b7209239051": {
      "model_module": "@jupyter-widgets/controls",
      "model_module_version": "1.5.0",
      "model_name": "DescriptionStyleModel",
      "state": {
       "description_width": ""
      }
     },
     "503f69b000c643638d60d8d4df3b44ba": {
      "model_module": "@jupyter-widgets/controls",
      "model_module_version": "1.5.0",
      "model_name": "DescriptionStyleModel",
      "state": {
       "description_width": ""
      }
     },
     "52f30b5cebf64733afcff6fda29f5171": {
      "model_module": "@jupyter-widgets/controls",
      "model_module_version": "1.5.0",
      "model_name": "HTMLModel",
      "state": {
       "layout": "IPY_MODEL_59d5cd1b6c424b1480ee5776c430e1ee",
       "style": "IPY_MODEL_4fafc626c35b48aa9e845b7209239051",
       "value": "<h5>Job ID</h5>"
      }
     },
     "530ef565672d45c581bc75086ba7cfc2": {
      "model_module": "@jupyter-widgets/base",
      "model_module_version": "1.2.0",
      "model_name": "LayoutModel",
      "state": {
       "grid_template_areas": "\n                                       \". . . . right \"\n                                        ",
       "grid_template_columns": "20% 20% 20% 20% 20%",
       "width": "100%"
      }
     },
     "59d5cd1b6c424b1480ee5776c430e1ee": {
      "model_module": "@jupyter-widgets/base",
      "model_module_version": "1.2.0",
      "model_name": "LayoutModel",
      "state": {
       "width": "190px"
      }
     },
     "69fd3c7c57204ef8b5330bd52c4193c0": {
      "model_module": "@jupyter-widgets/base",
      "model_module_version": "1.2.0",
      "model_name": "LayoutModel",
      "state": {
       "margin": "0px 0px 0px 37px",
       "width": "600px"
      }
     },
     "73a44a708b3b44edbb778ddedb6372cd": {
      "model_module": "@jupyter-widgets/base",
      "model_module_version": "1.2.0",
      "model_name": "LayoutModel",
      "state": {
       "width": "145px"
      }
     },
     "8336af08ffbf49a9a5b4e452cb6945ed": {
      "model_module": "@jupyter-widgets/controls",
      "model_module_version": "1.5.0",
      "model_name": "DescriptionStyleModel",
      "state": {
       "description_width": ""
      }
     },
     "9b35cf1a14a049f3ab668c0a21a1fdb9": {
      "model_module": "@jupyter-widgets/base",
      "model_module_version": "1.2.0",
      "model_name": "LayoutModel",
      "state": {
       "width": "95px"
      }
     },
     "9e0c35c63f0440f88ceff070fb61bdff": {
      "model_module": "@jupyter-widgets/controls",
      "model_module_version": "1.5.0",
      "model_name": "DescriptionStyleModel",
      "state": {
       "description_width": ""
      }
     },
     "9f617d879393414394055d0f6e88787c": {
      "model_module": "@jupyter-widgets/base",
      "model_module_version": "1.2.0",
      "model_name": "LayoutModel",
      "state": {
       "grid_area": "right",
       "padding": "0px 0px 0px 0px",
       "width": "70px"
      }
     },
     "b40620c0678942719a64d32660e195f9": {
      "model_module": "@jupyter-widgets/base",
      "model_module_version": "1.2.0",
      "model_name": "LayoutModel",
      "state": {
       "margin": "0px 0px 10px 0px"
      }
     },
     "b8794ba3ee0942299aebe9b7542abed3": {
      "model_module": "@jupyter-widgets/controls",
      "model_module_version": "1.5.0",
      "model_name": "ButtonStyleModel",
      "state": {}
     },
     "d5b993cda24444e0a683da9ba6be0aac": {
      "model_module": "@jupyter-widgets/controls",
      "model_module_version": "1.5.0",
      "model_name": "ButtonModel",
      "state": {
       "button_style": "primary",
       "description": "Clear",
       "layout": "IPY_MODEL_9f617d879393414394055d0f6e88787c",
       "style": "IPY_MODEL_b8794ba3ee0942299aebe9b7542abed3"
      }
     },
     "e4fc447743814d659bcfd574e40ca988": {
      "model_module": "@jupyter-widgets/controls",
      "model_module_version": "1.5.0",
      "model_name": "HTMLModel",
      "state": {
       "layout": "IPY_MODEL_b40620c0678942719a64d32660e195f9",
       "style": "IPY_MODEL_9e0c35c63f0440f88ceff070fb61bdff",
       "value": "<p style='font-family: IBM Plex Sans, Arial, Helvetica, sans-serif; font-size: 20px; font-weight: medium;'>Circuit Properties</p>"
      }
     },
     "eee99bee926a40ceb5ff52a8fd33cb23": {
      "model_module": "@jupyter-widgets/controls",
      "model_module_version": "1.5.0",
      "model_name": "HTMLModel",
      "state": {
       "layout": "IPY_MODEL_73a44a708b3b44edbb778ddedb6372cd",
       "style": "IPY_MODEL_f87d7174ea6c47d2a091df90306da4a7",
       "value": "<h5>Backend</h5>"
      }
     },
     "f87d7174ea6c47d2a091df90306da4a7": {
      "model_module": "@jupyter-widgets/controls",
      "model_module_version": "1.5.0",
      "model_name": "DescriptionStyleModel",
      "state": {
       "description_width": ""
      }
     },
     "fdb53cbf50924d20b1a557db28f5ffbf": {
      "model_module": "@jupyter-widgets/base",
      "model_module_version": "1.2.0",
      "model_name": "LayoutModel",
      "state": {
       "width": "70px"
      }
     }
    },
    "version_major": 2,
    "version_minor": 0
   }
  }
 },
 "nbformat": 4,
 "nbformat_minor": 5
}
